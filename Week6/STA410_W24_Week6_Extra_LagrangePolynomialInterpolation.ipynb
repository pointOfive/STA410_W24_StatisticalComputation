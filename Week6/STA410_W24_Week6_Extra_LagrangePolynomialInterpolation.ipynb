{
 "cells": [
  {
   "cell_type": "code",
   "execution_count": null,
   "id": "9f79aed3",
   "metadata": {
    "deletable": false,
    "id": "9f79aed3"
   },
   "outputs": [],
   "source": [
    "import numpy as np\n",
    "from scipy import stats\n",
    "import matplotlib.pyplot as plt\n",
    "import scipy"
   ]
  },
  {
   "cell_type": "markdown",
   "id": "050951bc",
   "metadata": {
    "id": "050951bc"
   },
   "source": [
    "# Problem 1 (5 points) \n",
    "\n",
    "Write a function `construct_Lagrange_piecewise_polynomial(x, y, order)` which returns a function that\n",
    "***interpolates*** the points $\\{(x_{(i)},y_{(i)}): i= 1,\\cdots,n\\}$ with an ***order-k Lagrange piecewise polynomial***. I.e., the piecewise continuous concatentation of $m$ ***Lagrange polynomials***\n",
    "\n",
    "\\begin{align*}\n",
    "   h(w) = {} & \\left[\\overset{\\text{Piecewise}}{\\underset{\\text{summation}}{ \\sum_{g=0}^{m-1}}} \\overset{ \\textbf{$k^{th}$ Order } w \\in \\left[x_{\\left(gk^\\vphantom{1pt}\\right)}, x_{\\left((gk+k^\\vphantom{1pt}\\right) } \\right) }{\\underset{\\textbf{Lagrange polynomial}    }{ \\sum_{j=0}^{k} y_{(j)} l_{gj}(w)}}\\right] + \\underset{\\text{so } h(x_{(n)}) = y_{(n)}}{y_{(n)} \\delta_{x_{(n)}}(w)} && y_{(j)} \\text{ corresponds to } x_{(j)}\\\\\n",
    "   l_{gj}(w) = {} & \\underset{i \\not = gk+j}{\\prod_{i = gk}^{(g+1)k}} \\frac{w-x_{(i)}}{x_{(gk+j)}-x_{(i)}}  \\underset{ 1_A(a)=1 \\text{ if } a\\in A;\\; 0 \\text{ otherwise}}{\\times\\; 1_{\\left[x_{\\left(gk^\\vphantom{1pt}\\right)}, x_{\\left((gk+k^\\vphantom{1pt}\\right) } \\right)}(w)} && x_{(i)} < x_{(j)} \\text{ for } i<j\n",
    "\\end{align*}\n",
    "\n",
    "Note that each $l_{gj}(w)$ is the $j^{th}$ of $k+1$ ***Lagrange polynomial basis function*** defined over the range of the $g^{th}$ of $m$ overlapping subsets of the data\n",
    "\n",
    "$$\\begin{array}{c|ccc|ll}\n",
    "g & +0 & \\cdots & +k & \\text{basis functions} & \\text{domain} \\\\\\hline\n",
    "0 & x_{(0)} & \\cdots & x_{(k)} & l_{00},\\cdots, l_{0k} & \\left[x_{(0)}, x_{(k)}\\right)\\\\\n",
    "1 & x_{(k)} & \\cdots & x_{(2k)} & l_{10},\\cdots, l_{1k}& \\left[x_{(k)}, x_{(2k)}\\right)\\\\\n",
    "\\vdots\\\\\n",
    "g & x_{(gk)} & \\cdots & x_{(gk+k)}& l_{g0},\\cdots, l_{gk}& \\left[x_{(gk)}, x_{(gk+k)}\\right)\\\\\n",
    "\\vdots &\\\\\n",
    "m-2 & x_{(n-2k)} & \\cdots & x_{(n-k)} & l_{(n-1)0},\\cdots, l_{(n-1)k}& \\left[x_{(n-2k)}, x_{(n-k)}\\right)\\\\\n",
    "m-1 & x_{(n-k)} & \\cdots & x_{(n)} & l_{(n-1)0},\\cdots, l_{(n-1)k}& \\left[x_{(n-k)}, x_{(n)}\\right]\\\\\n",
    "\\end{array}$$\n",
    "\n",
    "Mapping a function through points, as is done here by the ***Lagrange piecewise polynomial*** is called ***interpolation*** and this is distinct from ***approximation*** in which a reduced representation of a function is used in place of the function. Both of these are again distinct from ***estimation***, in which the parameters within a family of functional forms are chosen so the resulting function resembles observed data points. And finally, these are all again distinct from ***smoothing***, in which the family of functional forms is chosen to be simple and parsimonious and yet still capable of representating the important characteristics of the data, e.g., $E[y|x]$ or $y=\\beta_0+\\beta_1x$.\n",
    "\n",
    "*This problem and conlcuding comments are inspired by **Lagrange polynomials** in the **Models for Interpolation** and **Models for Smoothing Data** sections of Chapter 4.1 **Function Approximation and Smoothing** on pages 154-156 and 157 and the paragraphs in the **introduction** and **Estimation** sections of Chapter **Approximation of Functions** on page 147 and 162 of James E. Gentle's **Computational Statistics** textbook. [Errata Warning: on page 156, cubic Lagrange polynomials join four adjacent points, not three; and, piecewise Lagrangian polynomials are not necessarily smooth at knots.]*"
   ]
  },
  {
   "cell_type": "markdown",
   "id": "740f9328",
   "metadata": {
    "id": "740f9328"
   },
   "source": [
    "## Problem 0 Questions 0-1 (2 points)\n",
    "\n",
    "An ***order-k Lagrange polynomial basis function*** is $\\displaystyle l_j(w) = \\prod_{i=0, i \\not = j}^k \\frac{w-x_{(i)}}{x_{(j)}-x_{(i)}}$.\n",
    "\n",
    "An ***order-k Lagrange polynomial function*** is $h(w) = \\displaystyle \\sum_{j=0}^k y_{(j)} l_j(w)$.\n",
    "\n",
    "Before attempting to create the `Lagrange_piecewise_polynomial` function, first define the `construct_jth_Lagrange_basis_function` and `construct_Lagrange_polynomial` functions begun below and confirm the correctness of your function by verifying graphically that the ***Lagrange polynomial*** correctly travels through `x` and `y` with\n",
    "\n",
    "```python\n",
    "x,y = np.sort(stats.norm.rvs(size=5)), stats.norm.rvs(size=5)\n",
    "plt.plot(x,y,'k.')\n",
    "grid = np.linspace(x[0],x[-1], 100)\n",
    "for j in range(len(x)):\n",
    "    plt.plot(grid, construct_jth_Lagrange_basis_function(j, x)(grid),'k--')\n",
    "plt.plot(grid, construct_Lagrange_polynomial(x,y)(grid))\n",
    "#check the above first, before expanding it to the piecewise version below\n",
    "#plt.plot(grid, construct_Lagrange_piecewise_polynomial(x, y, order=2)(grid))\n",
    "#plt.plot(grid, construct_Lagrange_piecewise_polynomial(x, y, order=1)(grid))\n",
    "```\n",
    "\n",
    "Your `construct_jth_Lagrange_basis_function` and `construct_Lagrange_polynomial` functions will be tested for correctness.\n",
    "\n",
    "***Hint:*** Adding `@np.vectorize` on the lines above `def jth_Lagrange_basis_function(w)` and `Lagrange_polynomial(w)` means the function is written for scalar (`float`) `w` but can be called with an vector (`np.array`) `w`."
   ]
  },
  {
   "cell_type": "code",
   "execution_count": null,
   "id": "114eb886",
   "metadata": {
    "id": "114eb886"
   },
   "outputs": [],
   "source": [
    "def construct_jth_Lagrange_basis_function(j, x):\n",
    "    # order will be len(x)-1\n",
    "    @np.vectorize  # makes the function below work for np.array w\n",
    "    def jth_Lagrange_basis_function(w): # defined for scalar w\n",
    "        pass\n",
    "    return jth_Lagrange_basis_function\n",
    "\n",
    "def construct_Lagrange_polynomial(x,y):\n",
    "    # the sum of the j Lagrange basis function each evaluated at w\n",
    "    @np.vectorize  # makes the function below work for np.array w\n",
    "    def Lagrange_polynomial(w): # defined for scalar w\n",
    "        pass\n",
    "    return Lagrange_polynomial"
   ]
  },
  {
   "cell_type": "code",
   "execution_count": null,
   "id": "ab0bf1a3",
   "metadata": {
    "id": "ab0bf1a3"
   },
   "outputs": [],
   "source": [
    "# Cell for scratch work\n",
    "\n",
    "# You are welcome to add as many new cells into this notebook as you would like.\n",
    "# Just don't have scratch work cells with runtime errors because\n",
    "# notebook cells are run sequentially for automated code testing.\n",
    "\n",
    "# Any cells included for scratch work that are no longer needed may be deleted so long as\n",
    "# - all the required functions are still defined and available when called\n",
    "# - no cells requiring variable assignments are deleted\n",
    "#    - as this causes their `cell ids` to be lost, but these `cell-ids` are required for automated code testing.\n"
   ]
  },
  {
   "cell_type": "code",
   "execution_count": null,
   "id": "2b7d32b6",
   "metadata": {
    "id": "2b7d32b6"
   },
   "outputs": [],
   "source": [
    "# Cell for scratch work\n"
   ]
  },
  {
   "cell_type": "code",
   "execution_count": null,
   "id": "15a47207",
   "metadata": {
    "deletable": false,
    "id": "15a47207"
   },
   "outputs": [],
   "source": [
    "# 1 point [format: callable function f with signature f(j,x), i.e.,\n",
    "#                  the jth Lagrange basis function of order len(x_subset)-1]\n",
    "p1q0 = construct_jth_Lagrange_basis_function # equivalent to\n",
    "# p1q0 = lambda j, x: construct_jth_Lagrange_basis_function(j, x)\n",
    "\n",
    "# As long as your `construct_jth_Lagrange_basis_function` is\n",
    "# correct you do not need to change anything in this cell"
   ]
  },
  {
   "cell_type": "code",
   "execution_count": null,
   "id": "18bc44cf",
   "metadata": {
    "deletable": false,
    "id": "18bc44cf"
   },
   "outputs": [],
   "source": [
    "# 1 point [format: callable function f with signature f(x,y), i.e.,\n",
    "#                  a Lagrange polynomial of order len(x_subset)-1 passing through x and y]\n",
    "\n",
    "p1q1 = construct_Lagrange_polynomial # equivalent to\n",
    "# p1q1 = lambda x,y: construct_Lagrange_polynomial(x,y)\n",
    "\n",
    "# As long as your `construct_jth_Lagrange_basis_function` is\n",
    "# correct you do not need to change anything in this cell"
   ]
  },
  {
   "cell_type": "markdown",
   "id": "a92c6e5e",
   "metadata": {
    "id": "a92c6e5e"
   },
   "source": [
    "## Problem 1 Questions 2-3 (2 points)\n",
    "\n",
    "Complete the `construct_Lagrange_piecewise_polynomial` function of the problem prompt by correctly piecing together ***Lagrange polynomials*** created from the `construct_Lagrange_polynomial` function.  \n",
    "\n",
    "The `Lagrange_piecewise_polynomial` will be tested for correctness."
   ]
  },
  {
   "cell_type": "code",
   "execution_count": null,
   "id": "b496a5ae",
   "metadata": {
    "id": "b496a5ae"
   },
   "outputs": [],
   "source": [
    "def construct_Lagrange_piecewise_polynomial(x, y, order):\n",
    "\n",
    "    '''\n",
    "    `x`/`y` : are numpy arrays of the same length\n",
    "    `order` : each piecewise interpolation will use `order+1` data points\n",
    "\n",
    "              Piecewise functions are end-to-end, so for ``order=2` and len(x)=5`\n",
    "              two piecewise Lagrange polynomials of `order 2` will be made from\n",
    "              `len(x[:3])=3` and `len(x[2:])=3` data points and connect at `x[2]`\n",
    "    '''\n",
    "\n",
    "    if len(x) != len(y):\n",
    "        return \"Error: len(x) is not len(y).\"\n",
    "    if len(x)%order != 1 and order != 1:\n",
    "        return \"Error: order and len(x) are note compatible.\"\n",
    "\n",
    "    @np.vectorize\n",
    "    def Lagrange_piecewise_polynomial(w):\n",
    "        pass\n",
    "\n",
    "    return Lagrange_piecewise_polynomial # which may be evaluated over, e.g., `np.linspace(x[0],x[-1],n)`"
   ]
  },
  {
   "cell_type": "code",
   "execution_count": null,
   "id": "8595df44",
   "metadata": {
    "id": "8595df44"
   },
   "outputs": [],
   "source": [
    "# Cell for scratch work\n",
    "\n",
    "# You are welcome to add as many new cells into this notebook as you would like.\n",
    "# Just don't have scratch work cells with runtime errors because\n",
    "# notebook cells are run sequentially for automated code testing.\n",
    "\n",
    "# Any cells included for scratch work that are no longer needed may be deleted so long as\n",
    "# - all the required functions are still defined and available when called\n",
    "# - no cells requiring variable assignments are deleted\n",
    "#    - as this causes their `cell ids` to be lost, but these `cell-ids` are required for automated code testing.\n"
   ]
  },
  {
   "cell_type": "code",
   "execution_count": null,
   "id": "abd664c2",
   "metadata": {
    "id": "abd664c2"
   },
   "outputs": [],
   "source": [
    "# Cell for scratch work\n"
   ]
  },
  {
   "cell_type": "code",
   "execution_count": null,
   "id": "945333c0",
   "metadata": {
    "deletable": false,
    "id": "945333c0"
   },
   "outputs": [],
   "source": [
    "# 1 point [format: callable function f with signature f(x,y), i.e.,\n",
    "#                  a piecewise Lagrange polynomial of order 2 passing through x and y]\n",
    "p1q2 = lambda x,y: construct_Lagrange_piecewise_polynomial(x,y, order=2)\n",
    "\n",
    "# As long as your `construct_jth_Lagrange_basis_function` is\n",
    "# correct you do not need to change anything in this cell"
   ]
  },
  {
   "cell_type": "code",
   "execution_count": null,
   "id": "cc976dfb",
   "metadata": {
    "deletable": false,
    "id": "cc976dfb"
   },
   "outputs": [],
   "source": [
    "# 1 point [format: callable function f with signature f(x,y), i.e.,\n",
    "#                  a piecewise Lagrange polynomial of order 1 passing through x and y]\n",
    "p1q3 = lambda x,y: construct_Lagrange_piecewise_polynomial(x,y, order=1)\n",
    "\n",
    "# As long as your `construct_jth_Lagrange_basis_function` is\n",
    "# correct you do not need to change anything in this cell"
   ]
  },
  {
   "cell_type": "code",
   "execution_count": null,
   "id": "bcd8ea0b",
   "metadata": {
    "id": "bcd8ea0b"
   },
   "outputs": [],
   "source": [
    "x,y = np.sort(stats.norm.rvs(size=5)), stats.norm.rvs(size=5)\n",
    "plt.plot(x,y,'k.')\n",
    "grid = np.linspace(x[0],x[-1], 100)\n",
    "for j in range(len(x)):\n",
    "    plt.plot(grid, p1q0(j, x)(grid),'k--')\n",
    "plt.plot(grid, p1q1(x,y)(grid))\n",
    "plt.plot(grid, p1q2(x,y)(grid))\n",
    "plt.plot(grid, p1q3(x,y)(grid))\n"
   ]
  },
  {
   "cell_type": "markdown",
   "id": "3f21d585",
   "metadata": {
    "id": "3f21d585"
   },
   "source": [
    "### Problem 1 Questions 4-7 (1 point)\n",
    "\n",
    "\n",
    "4. (0.25 points) What is true about ***high order Lagrange piecewise polynomials***?\n",
    "\n",
    "    1. They generally have discontinuities where the pieces connect\n",
    "    2. They are continuous and differentiable everywhere\n",
    "    3. They will not always alternate between convex and concave pieces\n",
    "    4. They are good for trend fitting and data smoothing\n",
    "    \n",
    "\n",
    "5. (0.25 points) Suppose some ***data smoothing / prediction*** model is ***estimated*** and produces $\\hat y \\approx E[y|x]$ which is a $k^{th}$ degree $(k+1<n=m\\times k)$ polynomial in $x$. Which of the following are true?\n",
    "\n",
    "    1. The ***Lagrange polynomial*** on $(x, \\hat y)$ will be the same as the $\\hat y$ curve\n",
    "    2. The ***Lagrange polynomial*** on $(x, y)$ ***interpolates*** the same values as $\\hat y$\n",
    "    3. The $\\hat y$ curve from $x_{(0)}$ to $x_{(n)}$ can be defined as an ***order-k piecewise Lagrange polynomial***; that is, the polynomials defining $\\hat y$ and the ***order-k piecewise Lagrange polynomial*** are unique and pass through the same points so they're identical\n",
    "    4. None of the above\n",
    "    \n",
    "\n",
    "6. (0.25 points) Which of the following describes ***approximating*** a $k^{th}$ degree ***Lagrange polynomial*** defined over $k+1$ data points by setting $y_{(j)}$ to $0$ for some of the Lagrange basis functions?\n",
    "\n",
    "    1. A ***lower order piecewise Lagrange polynomial*** resulting in different Lagrange basis functions\n",
    "    2. Removing some of the Lagrange basis functions producing a $k'<k$ order polynomial defined over $k+1$ data points\n",
    "    3. Using a ***smoothing matrix*** to produce $\\hat y \\approx E[y|x]$\n",
    "    4. None of the above\n",
    "    \n",
    "\n",
    "    \n",
    "7. (0.25 points) Which of the following is correct?\n",
    "\n",
    "    1. ***Approximation*** is when a reduced representation of a function is used in place of the function\n",
    "    2. ***Estimation*** is when a family of functional forms is chosen to model $E[y|x]$\n",
    "    3. ***Data smoothing / Prediction*** is when the parameters within a family of functional forms are chosen so the resulting function resembles observed data\n",
    "    4. None of the above\n"
   ]
  },
  {
   "cell_type": "code",
   "execution_count": null,
   "id": "7fc5c3ce",
   "metadata": {
    "deletable": false,
    "id": "7fc5c3ce"
   },
   "outputs": [],
   "source": [
    "# 0.25 points each [format: `str` either \"A\" or \"B\" or \"C\" or \"D\" based on the choices above]\n",
    "p1q4 = #<\"A\"|\"B\"|\"C\"|\"D\">\n",
    "p1q5 = #<\"A\"|\"B\"|\"C\"|\"D\">\n",
    "p1q6 = #<\"A\"|\"B\"|\"C\"|\"D\">\n",
    "p1q7 = #<\"A\"|\"B\"|\"C\"|\"D\">\n",
    "# Uncomment the above and keep each only either \"A\" or \"B\" or \"C\" or \"D\"\n",
    "\n",
    "# This cell will produce a runtime error until the `p1q3`-`p1q10` variables are assigned values"
   ]
  }
 ],
 "metadata": {
  "celltoolbar": "Edit Metadata",
  "colab": {
   "provenance": []
  },
  "kernelspec": {
   "display_name": "Python 3 (ipykernel)",
   "language": "python",
   "name": "python3"
  },
  "language_info": {
   "codemirror_mode": {
    "name": "ipython",
    "version": 3
   },
   "file_extension": ".py",
   "mimetype": "text/x-python",
   "name": "python",
   "nbconvert_exporter": "python",
   "pygments_lexer": "ipython3",
   "version": "3.11.4"
  }
 },
 "nbformat": 4,
 "nbformat_minor": 5
}
