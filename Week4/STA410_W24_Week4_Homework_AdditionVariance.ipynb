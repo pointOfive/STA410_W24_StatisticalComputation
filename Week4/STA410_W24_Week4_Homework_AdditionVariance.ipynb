{
  "cells": [
    {
      "cell_type": "markdown",
      "id": "e6ce86ac",
      "metadata": {
        "id": "e6ce86ac"
      },
      "source": [
        "# STA410 Week 4 Programming Assignment<br>(10 possible points which will be rescaled to 2 course points)\n",
        "\n",
        "0. **Paired or individual assignment.** Create code solutions for these assignments either individually or in the context of a paired effort.\n",
        "\n",
        "   >  Seek homework partners in class, in course discussion board on piazza, etc.   \n",
        "\n",
        "    \n",
        "1. **Paired students each separately submit their (common) work, including (agreeing) contribution of work statements for each problem.**  \n",
        "  \n",
        "   > Students must work in accordance with the [University of Toronto’s Code of Behaviour on Academic Matters](https://governingcouncil.utoronto.ca/secretariat/policies/code-behaviour-academic-matters-july-1-2019) (and see also http://academicintegrity.utoronto.ca.); however, students working in pairs may share work without restriction within their pair. Getting and sharing \"hints\" from other classmates is encouraged; but, the eventual code creation work and submission must be your own individual or paired creation.\n",
        "      \n",
        "2. **Do not delete, replace, or rearranged cells** as this erases `cell ids` upon which automated code tests are based.\n",
        "\n",
        "   > The \"Edit > Undo Delete Cells\" option in the notebook editor might be helpful; otherwise, redownload the notebook (so it has the correct required `cells ids`) and repopulate it with your answers (assuming you don't overwrite them when you redownload the notebook).\n",
        "  >> ***If you are working in any environment other than*** [UofT JupyterHub](https://jupyter.utoronto.ca/hub/user-redirect/git-pull?repo=https://github.com/pointOfive/sta410hw0&branch=master), [Google Colab](https://colab.research.google.com/github/pointOfive/sta410hw0/blob/master/sta410hw0.ipynb), or [UofT JupyterLab](https://jupyter.utoronto.ca/hub/user-redirect/git-pull?repo=https://github.com/pointOfive/sta410hw0&branch=master&urlpath=/lab/tree/sta410hw0), your system must meet the following versioning requirements\n",
        "   >>\n",
        "   >>   - [notebook format >=4.5](https://github.com/jupyterlab/jupyterlab/issues/9729)\n",
        "   >>   - jupyter [notebook](https://jupyter.org/install#jupyter-notebook) version [>=6.2](https://jupyter-notebook.readthedocs.io/en/stable/) for \"classic\" notebooks served by [jupyterhub](https://jupyterhub.readthedocs.io/en/stable/quickstart.html)\n",
        "   >>   - [jupyterlab](https://jupyter.org/install) version [>=3.0.13](https://github.com/jupyterlab/jupyterlab/releases/tag/v3.0.13) for \"jupyterlab\" notebooks  \n",
        "   >>    \n",
        "   >> otherwise `cell ids` mat not be supported and you will not get any credit for your submitted homework.\n",
        "   >>\n",
        "   >> You may check if `cell ids` are present and working by running the following command in a cell\n",
        "   >>\n",
        "   >> `! grep '\"id\":' <path/to/notebook>.ipynb`\n",
        "   >>\n",
        "   >> and making sure the `cell ids` **do not change** when you save your notebook.\n",
        "   \n",
        "3. ***You may add cells for scratch work*** but if required answers are not submitted through the provided cells where the answers are requested your answers may not be marked.\n",
        "\n",
        "\n",
        "4. **No cells may have any runtime errors** because this causes subsequent automated code tests to fail and you will not get marks for tests which fail because of previous runtime errors.\n",
        "\n",
        "  > Run time errors include, e.g., unassigned variables, mismatched parentheses, and any code which does not work when the notebook cells are sequentially run, even if it was provided for you as part of the starter code. ***It is best to restart and re-run the cells in your notebook to ensure there are no runtime errors before submitting your work.***\n",
        "  >\n",
        "  > - The `try`-`except` block syntax catches runtime errors and transforms them into `exceptions` which will not cause subsequent automated code tests to fail.  \n",
        "\n",
        "\n",
        "5. **No jupyter shortcut commands** such as `! python script.py 10` or `%%timeit` may be included in the final submission as they will cause subsequent automated code tests to fail.\n",
        "\n",
        "   > ***Comment out ALL jupyter shortcut commands***, e.g., `# ! python script.py 10` or `# %%timeit` in submitted notebooks.\n",
        "\n",
        "\n",
        "6. **Python library imports are limited** to only libraries imported in the starter code and the [standard python modules](https://docs.python.org/3/py-modindex.html). Importing additional libraries will cause subsequent automated code tests to fail.\n",
        "\n",
        "  > Unless a problem instructs differently, you may use any functions available from the libraries imported in the starter code; otherwise, you are expected to create your own Python functionality based on the Python stdlib (standard libary, i.e., base Python and standard Python modules).\n",
        "\n",
        "\n",
        "7. You are encouraged to adapt code you find available online into your notebook; however, if you do so please provide a link to the utilized resource. ***If failure to cite such references is identified and confirmed, your mark will be immediately reduced to 0.***  "
      ]
    },
    {
      "cell_type": "code",
      "execution_count": 2,
      "id": "aac48101",
      "metadata": {
        "deletable": false,
        "editable": false,
        "id": "aac48101"
      },
      "outputs": [],
      "source": [
        "# Unless otherwise instructed, you may use any functions available\n",
        "# from the following library imports\n",
        "import numpy as np\n",
        "import matplotlib.pyplot as plt\n",
        "from scipy import stats\n",
        "import math"
      ]
    },
    {
      "cell_type": "markdown",
      "id": "42753104",
      "metadata": {
        "id": "42753104"
      },
      "source": [
        "# Problem 0 (required)\n",
        "\n",
        "Are you working with a partner to complete this assignment?  \n",
        "- If not, assign  the value of `None` into the variable `Partner`.\n",
        "- If so, assign the name of the person you worked with into the variable `Partner`.\n",
        "    - Format the name as `\"<First Name> <Last Name>\"` as a `str` type, e.g., \"Scott Schwartz\"."
      ]
    },
    {
      "cell_type": "code",
      "execution_count": 3,
      "id": "52c51729",
      "metadata": {
        "deletable": false,
        "id": "52c51729"
      },
      "outputs": [],
      "source": [
        "# Required: only worth points when not completed, in which case, you'll lose points\n",
        "Partner = \"Woorim Kang\"\n",
        "# This cell will produce a runtime error until you assign a value to this variable"
      ]
    },
    {
      "cell_type": "markdown",
      "id": "10f92126",
      "metadata": {
        "id": "10f92126"
      },
      "source": [
        "What was your contribution in completing the code for this assignments problems? Assign one of the following into each of the `Problem_X` variables below.\n",
        "\n",
        "- `\"I worked alone\"`\n",
        "- `\"I contributed more than my partner\"`\n",
        "- `\"My partner and I contributed equally\"`\n",
        "- `\"I contributed less than my partner\"`\n",
        "- `\"I did not contribute\"`"
      ]
    },
    {
      "cell_type": "code",
      "execution_count": 4,
      "id": "fe720578",
      "metadata": {
        "deletable": false,
        "id": "fe720578"
      },
      "outputs": [],
      "source": [
        "# Required: only worth points when not completed, in which case, you'll lose points\n",
        "Problem_1 = \"My partner and I contributed equally\"\n",
        "Problem_2 = \"My partner and I contributed equally\"\n",
        "# This cell will produce a runtime error until you assign a value to this variable"
      ]
    },
    {
      "cell_type": "markdown",
      "id": "3ccce959",
      "metadata": {
        "id": "3ccce959"
      },
      "source": [
        "# Problem 1 (5 points)\n",
        "\n",
        "For this problem your code may not use `sum` or `np.sum` or `math.fsum` (except in the `fan` function as specified below); however,\n",
        "you may benchmark your algorithms against these functions in order to observe their diverging levels of ***roundoff error***.\n",
        "\n",
        "Define a Python function with signature `summation(x, method=\"kahan\", *args, **kwargs)` and docstring\n",
        "  ```\n",
        "    x                : (list) [x[0], x[1], ..., x[n-1]] of numbers\n",
        "    method(=\"kahan\") : (str)  <'sorted'|'fan'|'kahan'>\n",
        "\n",
        "   return (float) sum of x[0], x[1], ..., x[n-1] using the indicated method\n",
        "  ```\n",
        "\n",
        "  which returns the sum of `x` according to the requested method as follows:\n",
        "\n",
        "  - `\"sorted\"` assumes `x` is already sorted by increasing magnitude and adds them sequentially\n",
        "      - **Do not sort** `x`: assume the input `x` is is already sorted by increasing magnitude\n",
        "  \n",
        "\n",
        "  - `\"fan\"` assumes  the values in `x` are of roughly equal magnitude and that `len(x) = 2**k` for integer `k` and adds them in the following *pairwise* manner\n",
        "\n",
        "    ```\n",
        "    # The \"fan\" method is also known as \"pairwise summation\"\n",
        "    def fan(x, minimum_list_length_for_recursion=2):\n",
        "        \"\"\"\n",
        "        Replace this docstring with a high level explanation of this function and\n",
        "        the appropriate usage and behavior (including types) of inputs and outputs.\n",
        "        Additionally add explanatory clarifying comments into the function as needed.\n",
        "        \"\"\"\n",
        "        if len(x)<minimum_list_length_for_recursion: # stopping criterion\n",
        "            return sum(x) # `sum(x)` may be used here as provided but not in other functions\n",
        "        new_x = []\n",
        "        for j in range(int(len(x)/2)): # what is this doing?\n",
        "            new_x += [x[j*2]+x[j*2+1]] # what is this doing?\n",
        "        return fan(new_x, minimum_list_length_for_recursion) # what is this doing?\n",
        "    ```\n",
        "\n",
        "\n",
        "  - `\"kahan\"` uses the order of the numbers as supplied and sums them acording to [Kahan's improved summation algorithm](https://en.wikipedia.org/wiki/Kahan_summation_algorithm) designed to sequentially minimize accumulated ***roundoff error*** $\\big|\\sum_{i=1}^k x_i - \\left[\\sum_{i=1}^k x_i\\right]_c\\big|$ of the *computer representation* $[\\cdot]_c$:\n",
        "\n",
        "    > $\\begin{align*} & {} s = x_1 & {} & \\texttt{ # sum so far}\\\\ & {} a = 0 & {} & \\texttt{ # adjustment needed}\\\\ & {} \\text{for } i = 2, ..., n \\\\ & {} \\{ \\\\ & {} \\quad \\quad y = x_i - a & {} &  \\texttt{ # adjusting for roundoff error on previous step}\\\\ & {} \\quad \\quad t = s + y & {} & \\texttt{ # new sum so far}\\\\ & {} \\quad \\quad a = (t - s) - y & {} & \\texttt{ # detectable roundoff error in } s+y\\\\ & {} \\quad \\quad s = t & {} & \\texttt{ # sum so far}\\\\ & {} \\} \\end{align*}$\n",
        "\n",
        "For the `\"sorted\"` and `\"kahan\"` functions, alter the base algorithm to implement the `return_cumulative_sequence` flag which causes the function to return the cumulative sumation rather than just the final value when set to `True`.\n",
        "\n",
        "*This problem is inspired by the **Addition of Several Numbers** section in Chapter 2.3 **Computer Storage and Arithmatic: Errors** following Chapter 2.2 **The Floating-Point Number System** on page 99 of James E. Gentle's **Computational Statistics** textbook.*"
      ]
    },
    {
      "cell_type": "code",
      "execution_count": 5,
      "id": "c2a4a78f",
      "metadata": {
        "deletable": false,
        "id": "c2a4a78f"
      },
      "outputs": [],
      "source": [
        "# Complete the following functions as specified in the problem prompt.\n",
        "\n",
        "def sorted_sum(x, return_cumulative_sequence=False):\n",
        "  \"\"\"\n",
        "  Calculate the sum of sorted list x.\n",
        "\n",
        "  The input list is assumed to be sorted by increasing magnitude. If the\n",
        "  `return_cumulative_sequence` flag is set to True, the function returns a\n",
        "  list of cumulative sums instead of the final sum.\n",
        "\n",
        "  Parameters:\n",
        "  - x (List(float)): a list of numbers that is already sorted\n",
        "    by increasing magnitude.\n",
        "  - return_cumulative_sequence (List): A flag to indicate whether to return\n",
        "    the cumulative sequence of sums (True) or just the final sum (False).\n",
        "\n",
        "  Returns:\n",
        "  - sum (float) or list of sums (List(float)) of x\n",
        "  \"\"\"\n",
        "  cumulative = [] if return_cumulative_sequence else None\n",
        "  total = 0\n",
        "  for num in x:\n",
        "    total += num\n",
        "    if return_cumulative_sequence:\n",
        "      cumulative.append(total)\n",
        "  return cumulative if return_cumulative_sequence else total\n",
        "\n",
        "def fan(x, minimum_list_length_for_recursion=2):\n",
        "  \"\"\"\n",
        "  Calculate the sum list x using the pairwise summation algorithm.\n",
        "\n",
        "  This function sums the numbers in a pairewise fashion, recursively breaking\n",
        "  down the list into smaller pairs and summing those in order to reduce\n",
        "  rounding errors compared to straightforward summation\n",
        "  (like sorted_sum function).\n",
        "\n",
        "  Parameters:\n",
        "  - x (List(float)):  a list of numbers. The length of x is a power of two.\n",
        "  - minimum_list_length_for_recursion (int): the minimum length of x to use\n",
        "    recursion.\n",
        "\n",
        "  Returns:\n",
        "  - the total sum of the numbers in the list (float).\n",
        "\n",
        "  \"\"\"\n",
        "\n",
        "  # If the current list is short enough to stop recursion,\n",
        "  # directly sum the list and return it\n",
        "  if len(x) < minimum_list_length_for_recursion:\n",
        "    return sum(x)\n",
        "\n",
        "  new_x = []\n",
        "\n",
        "  # Pair up and sum elements in x\n",
        "  for j in range(int(len(x)/2)):\n",
        "    new_x.append(x[j*2] + x[j*2 + 1])   # store the results in new_x\n",
        "\n",
        "  # Recursively sum the new list\n",
        "  return fan(new_x, minimum_list_length_for_recursion)\n",
        "\n",
        "\n",
        "def kahan(x, return_cumulative_sequence=False):\n",
        "  \"\"\"\n",
        "  Calculate the sum of list x using Kahan summation algorithm.\n",
        "\n",
        "  If the `return_cumulative_sequence` flag is set to True, the function\n",
        "  returns a list of cumulative sums instead of the final sum.\n",
        "\n",
        "  Parameters:\n",
        "  - x (List(float)):  a list of numbers.\n",
        "  - return_cumulative_sequence (List): A flag to indicate whether to return\n",
        "    the cumulative sequence of sums (True) or just the final sum (False).\n",
        "\n",
        "    Returns:\n",
        "  - sum (float) or list of sums (List(float)) of x\n",
        "  \"\"\"\n",
        "\n",
        "  s = 0.0\n",
        "  a = 0\n",
        "\n",
        "  cumulative_seq = [] if return_cumulative_sequence else None\n",
        "\n",
        "  for i in x:\n",
        "    y = i - a\n",
        "    t = s + y\n",
        "    a = (t - s) - y\n",
        "    s = t\n",
        "\n",
        "    if return_cumulative_sequence:\n",
        "      cumulative_seq.append(s)\n",
        "\n",
        "  return cumulative_seq if return_cumulative_sequence else s\n",
        "\n",
        "# The `**kwargs` construct allows any optional argument to be passed to the `summation` function\n",
        "# https://stackoverflow.com/questions/9539921/how-do-i-create-a-python-function-with-optional-arguments\n",
        "# E.g., `minimum_list_length_for_recursion` can be defined through `summation` and passed to `fan`\n",
        "def summation(x, method=\"kahan\", *args, **kwargs):\n",
        "    \"\"\"\n",
        "    Calculate the sum of list x using either \"kahan\", \"sorted_sum\" or \"fan\" methods.\n",
        "    In case no method is passed, the default method used is \"kahan\".\n",
        "    In case the method selected is \"sorted_sum\" then it is expected that the numbers\n",
        "    are sorted in order of increasing magnitude. In case the method selected is \"fan\"\n",
        "    then it is expected that len(x) is a power of two.\n",
        "\n",
        "    Parameters:\n",
        "    - x (List(float)):  a list of numbers.\n",
        "    - method (string):  name of the method to use.\n",
        "\n",
        "    **args, **kwargs:\n",
        "    return_cumulative_sequence (boolean): A flag to indicate whether to return\n",
        "    the cumulative sequence of sums (True) or just the final sum (False). Only\n",
        "    applicable for \"kahan\" and \"sorted_sum\" methods. By default it is false.\n",
        "    - minimum_list_length_for_recursion (int): the minimum length of x to use\n",
        "    recursion. Only applicable for \"fan\" method. By default it is 2.\n",
        "\n",
        "    Returns:\n",
        "    - sum (float) or list of sums (List(float)) of x\n",
        "\n",
        "\n",
        "    \"\"\"\n",
        "    if method=='sorted':\n",
        "        if 'return_cumulative_sequence' in kwargs:\n",
        "            arg_to_pass_forward = kwargs['return_cumulative_sequence']\n",
        "            return sorted_sum(x, return_cumulative_sequence=arg_to_pass_forward)\n",
        "        return sorted_sum(x)\n",
        "    elif method=='fan':\n",
        "        if 'minimum_list_length_for_recursion' in kwargs:\n",
        "            arg_to_pass_forward = kwargs['minimum_list_length_for_recursion']\n",
        "            return fan(x, minimum_list_length_for_recursion=arg_to_pass_forward)\n",
        "        return fan(x)\n",
        "    else:\n",
        "        if 'return_cumulative_sequence' in kwargs:\n",
        "            arg_to_pass_forward = kwargs['return_cumulative_sequence']\n",
        "            return kahan(x, return_cumulative_sequence=arg_to_pass_forward)\n",
        "        return kahan(x)"
      ]
    },
    {
      "cell_type": "markdown",
      "id": "526cbaf9",
      "metadata": {
        "id": "526cbaf9"
      },
      "source": [
        "## Hints:\n",
        "\n",
        "- Function docstring may be accessed with `help(<f>)` or `<f>?`.  \n",
        "- **Do not sort** `x` for the `sorted_sum` function: assume the input `x` is is already sorted by increasing magnitude\n",
        "- The mathematical $i$ (which is \"1-indexed\") is not the same as `i` in Python (which is \"0-indexed\").\n",
        "- Ensure the values of `i` in `for i in <iterable>` are what you think they are.\n",
        "- Different summation algorithms accumulate ***roundoff error*** at different rates\n",
        "\n",
        "    > since any time the magnitudes of the smallest significant digits for two floating-point numbers differ, their sum cannot include smallest significant digits of the smaller magnitude floating-point number\n",
        "\n",
        "  and these ***roundoff error*** can be benchmarked against Python's [most numerically accurate summation](https://stackoverflow.com/questions/33004029/is-numpy-sum-implemented-in-such-a-way-that-numerical-errors-are-avoided) \"gold standard\"\n",
        "\n",
        "  ```\n",
        "  import math\n",
        "  # create list of numbers x\n",
        "  math.fsum(x) # as opposed to `np.sum(x)` and `sum(x)`\n",
        "  ```\n",
        "  \n",
        "  \n",
        "- Your code may not use `sum`, `np.sum`, or `math.fsum`, with the exception of the `fan` function which can use `sum` as it is given in the function definition.\n",
        "    \n",
        "    - The `sum` function is a built-in function that is always accessible as part of the [Python stdlib](https://docs.python.org/3/library/).\n",
        "    - The `np.sum` function is part of the `numpy` (pronounced \"numb\"-\"pie\") library, and as such it is not a [standard module](https://docs.python.org/3/py-modindex.html) and cannot be used until it is installed on the system  \n",
        "    \n",
        "        - via `! pip install numpy` or `! [conda|mamba] install numpy` if you're using `conda` or (the faster) `mamba` package managers\n",
        "        \n",
        "        - and imported into the Python session via `import numpy as np` (which is the standard alias used when importing `numpy`)\n",
        "\n",
        "\n",
        "- You do not need `numpy` to complete this problem; but, it would be worthwhile importing it to compare the results of the `np.sum` to your own functions, especially the `fan` function.\n",
        "\n",
        "- The Python `dict` type is demonstrated below in connection with discussing the `**kwargs` parameter; but, Python dictionaries are not otherwise necessary for completing this exercise; although, they are a ***very*** important data type (called a ***hash table***) more generally, and/so they are something that students should be comfortable using.\n",
        "\n",
        "- The Python `enumerate` function demonstrated below could be useful for implementing the `return_cumulative_sequence=True` version of the code."
      ]
    },
    {
      "cell_type": "code",
      "execution_count": null,
      "id": "18f30606",
      "metadata": {
        "colab": {
          "base_uri": "https://localhost:8080/"
        },
        "id": "18f30606",
        "outputId": "d2ba4652-f3a7-43b6-b6d6-420a7b79237f"
      },
      "outputs": [
        {
          "output_type": "stream",
          "name": "stdout",
          "text": [
            "((1, 2), 3)\n",
            "{'a': 4, 'b': 4}\n"
          ]
        }
      ],
      "source": [
        "# the *args and **kwargs allow for arbitrary named\n",
        "# and unnamed arguments to be passed to functions\n",
        "def f(*args, **kwargs):\n",
        "    print(args)\n",
        "    print(kwargs)\n",
        "\n",
        "f((1,2), 3, a=4, b=4)"
      ]
    },
    {
      "cell_type": "code",
      "execution_count": null,
      "id": "37ee924e",
      "metadata": {
        "colab": {
          "base_uri": "https://localhost:8080/"
        },
        "id": "37ee924e",
        "outputId": "88a74812-3c77-477d-a9ca-45bbe0f50b03"
      },
      "outputs": [
        {
          "output_type": "execute_result",
          "data": {
            "text/plain": [
              "{'a': 4, 'b': 5}"
            ]
          },
          "metadata": {},
          "execution_count": 6
        }
      ],
      "source": [
        "# the `dict` type in Python is a key:value dictionary hash table\n",
        "# and can be created as follows\n",
        "my_dictionary = {'a':4, 'b':5}\n",
        "my_dictionary"
      ]
    },
    {
      "cell_type": "code",
      "execution_count": null,
      "id": "11c07615",
      "metadata": {
        "colab": {
          "base_uri": "https://localhost:8080/"
        },
        "id": "11c07615",
        "outputId": "da3c212d-3925-4721-a52e-6d037a45e3cd"
      },
      "outputs": [
        {
          "output_type": "stream",
          "name": "stdout",
          "text": [
            "a\n",
            "b\n"
          ]
        }
      ],
      "source": [
        "# Iterating over a dictionary means iterating over keys; although,\n",
        "# the order of the keys are based on a hash table so the original order\n",
        "# specidfied is not guaranteed to be respected in general and can be lost\n",
        "# In the example here the original order IS respected, but this is not guaranteed in general...\n",
        "for key in my_dictionary:\n",
        "    print(key)"
      ]
    },
    {
      "cell_type": "code",
      "execution_count": null,
      "id": "850aac24",
      "metadata": {
        "colab": {
          "base_uri": "https://localhost:8080/"
        },
        "id": "850aac24",
        "outputId": "65a98132-efb9-4f7f-d08d-8c75d7f98efc"
      },
      "outputs": [
        {
          "output_type": "stream",
          "name": "stdout",
          "text": [
            "4\n",
            "5\n"
          ]
        }
      ],
      "source": [
        "# Here's how you can get the values\n",
        "for (key,value) in my_dictionary.items():\n",
        "    print(value)"
      ]
    },
    {
      "cell_type": "code",
      "execution_count": null,
      "id": "ea955912",
      "metadata": {
        "colab": {
          "base_uri": "https://localhost:8080/"
        },
        "id": "ea955912",
        "outputId": "3e52989e-f6bc-4678-b20d-1716dfbbf525"
      },
      "outputs": [
        {
          "output_type": "execute_result",
          "data": {
            "text/plain": [
              "[('a', 4), ('b', 5)]"
            ]
          },
          "metadata": {},
          "execution_count": 9
        }
      ],
      "source": [
        "# What's happening above is that `my_dictionary.items()` is a generator which will produce the items\n",
        "list(my_dictionary.items()) # `list()` forces the generator to be run and instantiate all its values\n",
        "# so the `for` loop iterates over ('a',4)\n",
        "# then ('b',5)"
      ]
    },
    {
      "cell_type": "code",
      "execution_count": null,
      "id": "bcc7eb47",
      "metadata": {
        "colab": {
          "base_uri": "https://localhost:8080/"
        },
        "id": "bcc7eb47",
        "outputId": "f5b11870-182b-4602-e185-9e9d8c48377a"
      },
      "outputs": [
        {
          "output_type": "execute_result",
          "data": {
            "text/plain": [
              "('a', 4)"
            ]
          },
          "metadata": {},
          "execution_count": 10
        }
      ],
      "source": [
        "# and at each step it assings the key:value pair with what's called \"tuple unpacking\" as\n",
        "key,value = 'a',4 # same as (key,value) = ('a',4)\n",
        "key, value"
      ]
    },
    {
      "cell_type": "code",
      "execution_count": null,
      "id": "56378de4",
      "metadata": {
        "colab": {
          "base_uri": "https://localhost:8080/"
        },
        "id": "56378de4",
        "outputId": "8f0a100f-9466-4aac-bae0-b970a19316b9"
      },
      "outputs": [
        {
          "output_type": "stream",
          "name": "stdout",
          "text": [
            "('a', 'b')\n",
            "{}\n"
          ]
        }
      ],
      "source": [
        "# Returning the the *args and **kwargs of a function f\n",
        "# you can unpack the values of a list for the *args parameter of f\n",
        "f(*my_dictionary)\n",
        "# here the keys (but not the values) of my_dictionary are treated as a list"
      ]
    },
    {
      "cell_type": "code",
      "execution_count": null,
      "id": "4879d1c8",
      "metadata": {
        "colab": {
          "base_uri": "https://localhost:8080/"
        },
        "id": "4879d1c8",
        "outputId": "58fefa8e-2f6b-44bd-9e10-6aa94277d4f1"
      },
      "outputs": [
        {
          "output_type": "stream",
          "name": "stdout",
          "text": [
            "(4, 5)\n",
            "{}\n"
          ]
        }
      ],
      "source": [
        "# Here's how you could get the values\n",
        "f(*my_dictionary.values())"
      ]
    },
    {
      "cell_type": "code",
      "execution_count": null,
      "id": "37e44175",
      "metadata": {
        "colab": {
          "base_uri": "https://localhost:8080/"
        },
        "id": "37e44175",
        "outputId": "45019548-bda9-4f3b-d3fc-f961b8e67b57"
      },
      "outputs": [
        {
          "output_type": "stream",
          "name": "stdout",
          "text": [
            "()\n",
            "{'a': 4, 'b': 5}\n"
          ]
        }
      ],
      "source": [
        "# you can also unpack the key:value pairs of a dictionary into the **kwargs parameter of f\n",
        "f(**my_dictionary)"
      ]
    },
    {
      "cell_type": "code",
      "execution_count": null,
      "id": "83740dc2",
      "metadata": {
        "colab": {
          "base_uri": "https://localhost:8080/"
        },
        "id": "83740dc2",
        "outputId": "820277db-e686-46e7-df16-b5555dd958c1"
      },
      "outputs": [
        {
          "output_type": "stream",
          "name": "stdout",
          "text": [
            "0 1\n",
            "1 2\n",
            "2 3\n",
            "3 4\n",
            "4 5\n",
            "or\n",
            "0 0\n",
            "1 1\n",
            "2 2\n",
            "3 3\n",
            "4 4\n",
            "or\n",
            "0 a\n",
            "1 b\n",
            "or\n",
            "0 4\n",
            "1 5\n",
            "or\n",
            "0 ('a', 4)\n",
            "1 ('b', 5)\n"
          ]
        }
      ],
      "source": [
        "# Just as keys in dictionaries provide a sort index in\n",
        "for (key,value) in my_dictionary.items():\n",
        "    value#print(value)\n",
        "\n",
        "# you can create a numeric index for any list with `enumerate`\n",
        "# https://www.programiz.com/python-programming/methods/built-in/enumerate\n",
        "for i,xi in enumerate([1,2,3,4,5]):\n",
        "    print(i,xi)\n",
        "print('or')\n",
        "for i,xi in enumerate(range(5)):\n",
        "    print(i,xi)\n",
        "print('or')\n",
        "for i,xi in enumerate(my_dictionary):\n",
        "    print(i,xi)\n",
        "print('or')\n",
        "for i,xi in enumerate(my_dictionary.values()):\n",
        "    print(i,xi)\n",
        "print('or')\n",
        "for i,xi in enumerate(my_dictionary.items()):\n",
        "    print(i,xi)"
      ]
    },
    {
      "cell_type": "code",
      "execution_count": null,
      "id": "0b1ae13a",
      "metadata": {
        "id": "0b1ae13a"
      },
      "outputs": [],
      "source": [
        "# Cell for scratch work\n",
        "\n",
        "# You are welcome to add as many new cells into this notebook as you would like.\n",
        "# Just don't have scratch work cells with runtime errors because\n",
        "# notebook cells are run sequentially for automated code testing.\n",
        "\n",
        "# Any cells included for scratch work that are no longer needed may be deleted so long as\n",
        "# - all the required functions are still defined and available when called\n",
        "# - no cells requiring variable assignments are deleted\n",
        "#    - as this causes their `cell ids` to be lost, but these `cell-ids` are required for automated code testing."
      ]
    },
    {
      "cell_type": "code",
      "execution_count": 6,
      "id": "980c666d",
      "metadata": {
        "id": "980c666d",
        "colab": {
          "base_uri": "https://localhost:8080/"
        },
        "outputId": "263a0a8b-230d-4422-c0ab-dbf2861fe249"
      },
      "outputs": [
        {
          "output_type": "stream",
          "name": "stdout",
          "text": [
            "Help on function kahan in module __main__:\n",
            "\n",
            "kahan(x, return_cumulative_sequence=False)\n",
            "    Calculate the sum of list x using Kahan summation algorithm.\n",
            "    \n",
            "    If the `return_cumulative_sequence` flag is set to True, the function\n",
            "    returns a list of cumulative sums instead of the final sum.\n",
            "    \n",
            "    Parameters:\n",
            "    - x (List(float)):  a list of numbers.\n",
            "    - return_cumulative_sequence (List): A flag to indicate whether to return\n",
            "      the cumulative sequence of sums (True) or just the final sum (False).\n",
            "    \n",
            "      Returns:\n",
            "    - sum (float) or list of sums (List(float)) of x\n",
            "\n",
            "Help on function sorted_sum in module __main__:\n",
            "\n",
            "sorted_sum(x, return_cumulative_sequence=False)\n",
            "    Calculate the sum of sorted list x.\n",
            "    \n",
            "    The input list is assumed to be sorted by increasing magnitude. If the\n",
            "    `return_cumulative_sequence` flag is set to True, the function returns a\n",
            "    list of cumulative sums instead of the final sum.\n",
            "    \n",
            "    Parameters:\n",
            "    - x (List(float)): a list of numbers that is already sorted\n",
            "      by increasing magnitude.\n",
            "    - return_cumulative_sequence (List): A flag to indicate whether to return\n",
            "      the cumulative sequence of sums (True) or just the final sum (False).\n",
            "    \n",
            "    Returns:\n",
            "    - sum (float) or list of sums (List(float)) of x\n",
            "\n",
            "Help on function fan in module __main__:\n",
            "\n",
            "fan(x, minimum_list_length_for_recursion=2)\n",
            "    Calculate the sum list x using the pairwise summation algorithm.\n",
            "    \n",
            "    This function sums the numbers in a pairewise fashion, recursively breaking\n",
            "    down the list into smaller pairs and summing those in order to reduce\n",
            "    rounding errors compared to straightforward summation\n",
            "    (like sorted_sum function).\n",
            "    \n",
            "    Parameters:\n",
            "    - x (List(float)):  a list of numbers. The length of x is a power of two.\n",
            "    - minimum_list_length_for_recursion (int): the minimum length of x to use\n",
            "      recursion.\n",
            "    \n",
            "    Returns:\n",
            "    - the total sum of the numbers in the list (float).\n",
            "\n",
            "Help on function summation in module __main__:\n",
            "\n",
            "summation(x, method='kahan', *args, **kwargs)\n",
            "    Calculate the sum of list x using either \"kahan\", \"sorted_sum\" or \"fan\" methods.\n",
            "    In case no method is passed, the default method used is \"kahan\".\n",
            "    In case the method selected is \"sorted_sum\" then it is expected that the numbers\n",
            "    are sorted in order of increasing magnitude. In case the method selected is \"fan\"\n",
            "    then it is expected that len(x) is a power of two.\n",
            "    \n",
            "    Parameters:\n",
            "    - x (List(float)):  a list of numbers.\n",
            "    - method (string):  name of the method to use.\n",
            "    \n",
            "    **args, **kwargs:\n",
            "    return_cumulative_sequence (boolean): A flag to indicate whether to return\n",
            "    the cumulative sequence of sums (True) or just the final sum (False). Only \n",
            "    applicable for \"kahan\" and \"sorted_sum\" methods. By default it is false.\n",
            "    - minimum_list_length_for_recursion (int): the minimum length of x to use\n",
            "    recursion. Only applicable for \"fan\" method. By default it is 2. \n",
            "    \n",
            "    Returns:\n",
            "    - sum (float) or list of sums (List(float)) of x\n",
            "\n"
          ]
        }
      ],
      "source": [
        "# Cell for scratch work\n",
        "help(kahan)\n",
        "help(sorted_sum)\n",
        "help(fan)\n",
        "help(summation)"
      ]
    },
    {
      "cell_type": "markdown",
      "id": "15684cf2",
      "metadata": {
        "id": "15684cf2"
      },
      "source": [
        "### Problem 1 Question 0 (1.5 points)\n",
        "\n",
        "In addition to providing a high level statement of the purpose of a function,\n",
        "docstrings must indicate how to use the function (including types and restrictions on inputs)\n",
        "and the expected behavior of the returned output (and its type). Please see the docstring provided in problem 2 below for an example of an appropriate docstring if an example is required.\n",
        "\n",
        "0. Document the `summation`, `sorted_sum`, `kahan`, and `fan` functions, including providing inline code comments in `fan` which clarify\n",
        "\n",
        "    - `range(int(len(x)/2))`\n",
        "\n",
        "    - `new_x += [x[j*2]+x[j*2+1]]`\n",
        "\n",
        "    - and the `return` line\n",
        "\n",
        "- Remember that you can examine your docstring with `help(<f>)` and `<f>?`."
      ]
    },
    {
      "cell_type": "markdown",
      "id": "9fadbbc6",
      "metadata": {
        "id": "9fadbbc6"
      },
      "source": [
        "### Problem 1 Questions 1-4 (1 point)\n",
        "\n",
        "What are the results of the following function calls?\n",
        "\n",
        "1. (0.25 points) `summation([2e16]+10*[2e0], method=\"sorted\")`\n",
        "2. (0.25 points) `summation(10*[2e0]+[2e16], method=\"sorted\")`\n",
        "3. (0.25 points) `summation([2e15]+10*[2e0], method=\"sorted\")`\n",
        "4. (0.25 points) `summation(10*[2e0]+[2e15], method=\"sorted\")`"
      ]
    },
    {
      "cell_type": "code",
      "execution_count": null,
      "id": "df17bea6",
      "metadata": {
        "id": "df17bea6"
      },
      "outputs": [],
      "source": [
        "# Cell for scratch work\n",
        "\n",
        "# You are welcome to add as many new cells into this notebook as you would like.\n",
        "# Just don't have scratch work cells with runtime errors because\n",
        "# notebook cells are run sequentially for automated code testing.\n",
        "\n",
        "# Any cells included for scratch work that are no longer needed may be deleted so long as\n",
        "# - all the required functions are still defined and available when called\n",
        "# - no cells requiring variable assignments are deleted\n",
        "#    - as this causes their `cell ids` to be lost, but these `cell-ids` are required for automated code testing.\n"
      ]
    },
    {
      "cell_type": "code",
      "execution_count": null,
      "id": "74ab9df5",
      "metadata": {
        "id": "74ab9df5"
      },
      "outputs": [],
      "source": [
        "# Cell for scratch work\n"
      ]
    },
    {
      "cell_type": "code",
      "execution_count": 7,
      "id": "7215d509",
      "metadata": {
        "deletable": false,
        "colab": {
          "base_uri": "https://localhost:8080/"
        },
        "id": "7215d509",
        "outputId": "6ac54e94-a130-4c8d-b65f-88978f272fd1"
      },
      "outputs": [
        {
          "output_type": "stream",
          "name": "stdout",
          "text": [
            "2e+16\n",
            "2.000000000000002e+16\n",
            "2000000000000020.0\n",
            "2000000000000020.0\n"
          ]
        }
      ],
      "source": [
        "# 0.25 points each [format(s): (float)]\n",
        "p1q1 = print(summation([2e16]+10*[2e0], method=\"sorted\"))\n",
        "p1q2 = print(summation(10*[2e0]+[2e16], method=\"sorted\"))\n",
        "p1q3 = print(summation([2e15]+10*[2e0], method=\"sorted\"))\n",
        "p1q4 = print(summation(10*[2e0]+[2e15], method=\"sorted\"))\n",
        "# Uncommenting the lines above will assign the correct answers to each variable\n",
        "# so long as the functions `summation` and `sorted_sum` are correctly defined\n",
        "\n",
        "# This cell will produce a runtime error until all variables are assigned values"
      ]
    },
    {
      "cell_type": "markdown",
      "id": "b7ed0c68",
      "metadata": {
        "id": "b7ed0c68"
      },
      "source": [
        "### Problem 1 Questions 5-8 (2 points)\n",
        "\n",
        "The function calls\n",
        "\n",
        "5. (0.25 points) `summation(list(sorted(x, key = lambda x: abs(x))), method=\"sorted\")`\n",
        "6. (0.25 points) `summation(list(x), method=\"fan\")`\n",
        "7. (0.5 points) `summation(list(x), method=\"kahan\")`\n",
        "8. (1 point) `np.array(summation(list(x), method=\"kahan\", return_cumulative_sequence=True))-np.array(summation(list(x), method=\"sorted\", return_cumulative_sequence=True))`\n",
        "\n",
        "will be tested with\n",
        "\n",
        "```python\n",
        "from scipy import stats\n",
        "np.random.seed(seed)\n",
        "n = 2**20\n",
        "x = stats.norm().rvs(size=n)\n",
        "```\n",
        "  \n",
        "for some choice of `seed`.\n",
        "\n",
        "- No variable assignments are required: the function and methods will be tested directly.\n",
        "- The `key = lambda x: abs(x)` expression specifies an anonymous \"lambda\" function."
      ]
    },
    {
      "cell_type": "code",
      "execution_count": 8,
      "id": "339f6d4c",
      "metadata": {
        "colab": {
          "base_uri": "https://localhost:8080/"
        },
        "id": "339f6d4c",
        "outputId": "b802d41c-cedc-4a2d-a3c5-3b090328c7d1"
      },
      "outputs": [
        {
          "output_type": "stream",
          "name": "stdout",
          "text": [
            "-7.041305820941419\n",
            "-7.041305820936714\n",
            "-7.041305820936882\n",
            "[0.00000000e+00 0.00000000e+00 0.00000000e+00 ... 2.12878604e-11\n",
            " 2.12878604e-11 2.12878604e-11]\n"
          ]
        }
      ],
      "source": [
        "from scipy import stats\n",
        "np.random.seed(100)\n",
        "n = 2**20\n",
        "x = stats.norm().rvs(size=n)\n",
        "\n",
        "p1q5 = print(summation(list(sorted(x, key = lambda x: abs(x))), method=\"sorted\"))\n",
        "p1q6 = print(summation(list(x), method=\"fan\"))\n",
        "p1q7 = print(summation(list(x), method=\"kahan\"))\n",
        "p1q8 = print(np.array(summation(list(x), method=\"kahan\", return_cumulative_sequence=True))-np.array(summation(list(x), method=\"sorted\", return_cumulative_sequence=True)))\n"
      ]
    },
    {
      "cell_type": "markdown",
      "id": "8e1340e0",
      "metadata": {
        "id": "8e1340e0"
      },
      "source": [
        "### Problem 1 Questions 9 (0.5 points)\n",
        "\n",
        "The figures below compare the difference in the running cumulative sums for the `sorted_sum` and `kahan` functions (when they are passed `return_cumulative_sequence=True`) against the `sum`, `np.sum`, and `math.fsum` functions.\n",
        "\n",
        "9. Which of the following is the most similar to the `sorted_sum` and `kahan` functions?\n",
        "\n",
        "  - `sum`\n",
        "  - `np.sum`\n",
        "  - `mathf.sum`"
      ]
    },
    {
      "cell_type": "code",
      "execution_count": 12,
      "id": "e2340e06",
      "metadata": {
        "deletable": false,
        "id": "e2340e06"
      },
      "outputs": [],
      "source": [
        "# 0.5 points [format(s): `str` either \"sum\" or \"np.sum\" or \"math.fsum\"]\n",
        "\n",
        "p1q9_sorted_sum = \"sum\" #<\"sum\"|\"np.sum\"|\"math.fsum\">\n",
        "p1q9_kahan = \"math.fsum\" #<\"sum\"|\"np.sum\"|\"math.fsum\">\n",
        "# Uncomment the above and keep only either \"sum\" or \"np.sum\" or \"math.fsum\"\n",
        "# Each of  \"sum\" and \"np.sum\" and \"math.fsum\" should be assigned only once\n",
        "\n",
        "# This cell will produce a runtime error until all variables are assigned values"
      ]
    },
    {
      "cell_type": "code",
      "execution_count": 10,
      "id": "7c5512ce",
      "metadata": {
        "colab": {
          "base_uri": "https://localhost:8080/",
          "height": 489
        },
        "id": "7c5512ce",
        "outputId": "008aa11c-982b-437b-dbe4-36c3f911fc89"
      },
      "outputs": [
        {
          "output_type": "display_data",
          "data": {
            "text/plain": [
              "<Figure size 2000x500 with 2 Axes>"
            ],
            "image/png": "[encoded data removed]"
          },
          "metadata": {}
        }
      ],
      "source": [
        "np.random.seed(100)\n",
        "n = 2**12\n",
        "x = list(stats.norm().rvs(size=n))\n",
        "#x = sorted(x, key = lambda x: abs(x))\n",
        "\n",
        "try:\n",
        "\n",
        "    fig,ax = plt.subplots(1,2, figsize=(20,5))\n",
        "\n",
        "    ax[0].plot(np.array(summation(x, method=\"sorted\", return_cumulative_sequence=True))-np.array([sum(x[:(i+1)]) for i in range(len(x))]),\n",
        "               label=\"sum\")\n",
        "    ax[0].plot(np.array(summation(x, method=\"sorted\", return_cumulative_sequence=True))-np.array([np.sum(x[:(i+1)]) for i in range(len(x))]),\n",
        "               label=\"np.sum\")\n",
        "    ax[0].plot(np.array(summation(x, method=\"sorted\", return_cumulative_sequence=True))-np.array([math.fsum(x[:(i+1)]) for i in range(len(x))]),\n",
        "               label=\"math.fsum\")\n",
        "    ax[0].set_title(\"Difference between method='sorted' and `sum`, `np.sum`, `math.fsum`\\n\")\n",
        "    ax[0].legend()\n",
        "\n",
        "    ax[1].plot(np.array(summation(x, method=\"kahan\", return_cumulative_sequence=True))-np.array([sum(x[:(i+1)]) for i in range(len(x))]),\n",
        "               label=\"sum\")\n",
        "    ax[1].plot(np.array(summation(x, method=\"kahan\", return_cumulative_sequence=True))-np.array([np.sum(x[:(i+1)]) for i in range(len(x))]),\n",
        "               label=\"np.sum\")\n",
        "    ax[1].plot(np.array(summation(x, method=\"kahan\", return_cumulative_sequence=True))-np.array([math.fsum(x[:(i+1)]) for i in range(len(x))]),\n",
        "               label=\"math.fsum\")\n",
        "    ax[1].set_title(\"Difference between method='kahan' and `sum`, `np.sum`, `math.fsum`\\n\")\n",
        "    ax[1].legend()\n",
        "\n",
        "except:\n",
        "    pass"
      ]
    },
    {
      "cell_type": "markdown",
      "id": "4302889d",
      "metadata": {
        "id": "4302889d"
      },
      "source": [
        "# Problem 2 (5 points)\n",
        "\n",
        "For this problem your code may not use `sum` or `np.sum` or `math.fsum` or any variations therein (e.g., `np.mean` or `x.sum()` and `x.mean()` if `x` is an `np.array`). Similarly, `np.var(x)`, `x.var()`, and similar methods and functions may not be used in your code.  However, you may benchmark your algorithms against `np.var(x, ddof=0)*n` in order to observe the diverging levels of ***roundoff error*** for your implementated functions.\n",
        "\n",
        "Define a function with signature `SSE(x, formula)` and docstring\n",
        "\n",
        "  ```\n",
        "    The sum of differences of each element of x versus the mean of x\n",
        "    sum_i (x_i-xbar)^2\n",
        "  \n",
        "    x       : (list) [x[0], x[1], ..., x[n-1]] of numbers\n",
        "    formula : (str) <'online'|'realtime'|'recursive'>\n",
        "    \n",
        "    To reduce roundoff error  \n",
        "    - x is assumed to be sorted from smallest to largest in absolute value\n",
        "    - 'online' calcaulates `xbar` as `sum_i (x[i]/n)` rather than `(sum_i x[i])/n`\n",
        "       and `sum_i (x[i]-(xbar))**2` rather than `sum_i x[i]**2 - n*xbar**2`\n",
        "    - 'recursive' as specified is specifically designed to reduce roundoff error.    \n",
        "    \n",
        "    return (float) sum of squared errors of x[0], x[1], ..., x[n-1] using the indicated formula\n",
        "  ```\n",
        "\n",
        "  which computes the ***sum of squared errors*** with the following $O(n)$ complexity algorithms:\n",
        "  \n",
        "  - `\"online\"` and `\"realtime\"` use ***online*** (multiple pass **\"out of core\"**) and ***real-time*** (single pass) computations, respectively, i.e.,\n",
        "  \n",
        "    $$\\underset{\\text{first pass } \\frac{x_1}{n}+\\frac{x_2}{n}+\\cdots}{\\underbrace{\\sum_{i=1}^n(x_i-\\bar x)^2}_{\\text{two pass algorithm with}}} = \\sum_{i=1}^n x_i^2 - n \\bar x^2 = \\underset{\\text{to $\\sum_{i=1}^{k-1} x_i^2$ and $\\sum_{i=1}^{k-1} x_i$ at step $k$}}{\\underbrace{\\sum_{i=1}^n x_i^2 - \\frac{1}{n} \\left(\\sum_{i=1}^n x_i\\right)^2}_{\\text{single pass algorithm adds $x_k^2$ & $x_k$}}}$$\n",
        "\n",
        "\n",
        "  - `\"recursive\"` computes the alternative algorithm designed to reduce accumulated roundoff error\n",
        "\n",
        "    > \\begin{align*} & {} a = x_1 & {} & \\texttt{ # mean so far}\\\\ & {} b = 0 & {} & \\texttt{ # sum of squares so far}\\\\ & {} \\text{for } i = 2, ..., n \\\\ & {} \\{ \\\\ & {} \\quad d = (x_i - a)/i & {} & \\texttt{ # new deviation from current mean per sample} \\\\ & {} \\quad a = d + a & {} & \\texttt{ # weighted average mean update}\\\\ & {} \\quad b = i(i - 1)d^2+ b & {} & \\texttt{ # cumulative sum of squared errors update}\\\\ & {} \\} \\end{align*}\n",
        "\n",
        "    where the $\\texttt{\"cumulative sum of squared errors update\"}$ results from the *recursive* formula suggested by the first full paragraph on page 120 of James E. Gentle's **Computational Statistics** textbook (and derived [here](https://math.stackexchange.com/questions/374881/recursive-formula-for-variance)).\n",
        "\n",
        "*This problem is inspired by the discussion about **Reducing the Error in Numerical Computations** in Chapter 3.2 **Algorithms and Data** on pages 114-116, **Computations without Storing Data** in Chapter 3.5 **Programming** on page 135, and **Recursion** on page 119-121 in Chapter 3.3 **Efficiency** of James E. Gentle's **Computational Statistics** textbook.*"
      ]
    },
    {
      "cell_type": "markdown",
      "id": "6a9b4709",
      "metadata": {
        "id": "6a9b4709"
      },
      "source": [
        "## Hints\n",
        "\n",
        "- Your code may NOT use `sum`, `np.sum`, `math.fsum`, `np.mean()`, `x.sum()`, `x.mean()`, `np.var(x)`, `x.var()`, etc.\n",
        "- The mathematical $i$ (which is \"1-indexed\") is not the same as `i` in Python (which is \"0-indexed\").\n",
        "- Ensure the values of `i` in `for i in <iterable>` are what you think they are.\n",
        "- Different sum of squared errors algorithms accumulate ***roundoff error*** at different rates since their operations and sequences are different and ***roundoff error*** accumulates at different rates depending on the specific characteristics of any given operation.\n",
        "\n",
        "- ***Roundoff error*** can be benchmarked against\n",
        "\n",
        "  ```\n",
        "  import numpy as np\n",
        "  # https://numpy.org/doc/stable/reference/generated/numpy.var.html\n",
        "  np.var(x, ddof=0)*n\n",
        "  ```\n",
        "  \n",
        "  which provides a reasonably accurate implementation for sum of squared errors.\n",
        "  \n",
        "- Make sure your implementation matches implementation specificed in the docstring:\n",
        "\n",
        "```\n",
        "    To reduce roundoff error  \n",
        "    - x is assumed to be sorted from smallest to largest in absolute value\n",
        "    - 'online' calcaulates `xbar` as `sum_i (x[i]/n)` rather than `(sum_i x[i])/n`\n",
        "       and `sum_i (x[i]-(xbar))**2` rather than `sum_i x[i]**2 - n*xbar**2`\n",
        "    - 'recursive' as specified is specifically designed to reduce roundoff error.    \n",
        "```  "
      ]
    },
    {
      "cell_type": "code",
      "execution_count": 31,
      "id": "bfeff164",
      "metadata": {
        "deletable": false,
        "id": "bfeff164"
      },
      "outputs": [],
      "source": [
        "# Complete the `SSE` function as specified in the problem prompt.\n",
        "# Feel free to use helper functions for each of the different formulas as in problem 3.\n",
        "def SSE(x, formula):\n",
        "\n",
        "    \"\"\"\n",
        "    x       : (list) [x[0], x[1], ..., x[n-1]] of numbers\n",
        "    formula : (str) <'online'|'realtime'|'recursive'>\n",
        "\n",
        "    To reduce roundoff error\n",
        "    - x is assumed to be sorted from smallest to largest in absolute value\n",
        "    - 'online' calcaulates `xbar` as `sum_i (x[i]/n)` rather than `(sum_i x[i])/n`\n",
        "       and `sum_i (x[i]-(xbar))**2` rather than `sum_i x[i]**2 - n*xbar**2`\n",
        "    - 'recursive' as specified is specifically designed to reduce roundoff error.\n",
        "\n",
        "    return (float) sum of squared errors of x[0], x[1], ..., x[n-1] using the indicated formula\n",
        "    \"\"\"\n",
        "    if formula == 'online': # online method\n",
        "      x_div_n = [a/len(x) for a in x] # divide each element by n\n",
        "      xbar = 0.0\n",
        "      for i in x_div_n:\n",
        "        xbar += i # add the elements to obtain xbar\n",
        "      sse = 0.0\n",
        "      diffs = [(xi - xbar)**2 for xi in x]  # subtract xbar from each element and square it\n",
        "      for i in diffs:\n",
        "        sse += i  # add the differences\n",
        "      return sse  # return\n",
        "\n",
        "    if formula == \"realtime\": # realtime method\n",
        "      x_squared_sum = 0.0  # Running sum of squares\n",
        "      x_sum = 0.0         # Running sum\n",
        "\n",
        "      sse = 0.0           # Running sum of squared errors\n",
        "\n",
        "      for i, value in enumerate(x, start=1):\n",
        "          x_squared_sum += value ** 2\n",
        "          x_sum += value\n",
        "          sse = x_squared_sum - (i * (x_sum / i) ** 2)\n",
        "\n",
        "      return sse\n",
        "\n",
        "    if formula == \"recursive\":\n",
        "      xbar = x[0] # mean so far is the first element\n",
        "      sse = 0.0 # sse so far\n",
        "      for i, val in enumerate(x[1:]):\n",
        "        index = i+2 # +1 because of 0 indexing and + 1 because starting from 0 again\n",
        "        d = (val - xbar)/index  # new deviation from current mean per sample\n",
        "        xbar += d # weighted average mean update\n",
        "        sse += index * (index - 1) * (d**2) # cumulative sum of squared errors update\n",
        "      return sse"
      ]
    },
    {
      "cell_type": "markdown",
      "id": "dc4d3ab3",
      "metadata": {
        "id": "dc4d3ab3"
      },
      "source": [
        "### Problem 2 Question 0 (0.5 points)\n",
        "\n",
        "\n",
        "In addition to providing a high level statement of the purpose of a function,\n",
        "docstrings must indicate how to use the function (including types and restrictions on inputs)\n",
        "and the expected behavior of the returned output (and its type).\n",
        "\n",
        "Inline comments in code should help the human reader quickly recognize the different components of the code.  E.g., in a function inline comments should help delineate the different segments of the function.  Additionally, inline comments can be used to clarify code that is complex enough to not be immediately interpretable, which again should help the human reader quickly understand the purpose of a segment of code.\n",
        "\n",
        "0. (0.5 points) **Document your code**. If you created helper functions, did you include appropriate docstrings for each helper function? Or, if you did not create helper functions, did you include appropriate inline comments clearly indicating (in a manner that is easy for humans to recognize) the different formulas within the `SSE` function? \"Yes\" or \"No\"?\n",
        "\n",
        "- Inaccurate reporting may result in a deduction ranging from 1 to 5 points, depending upon the severity of the misrepresentation."
      ]
    },
    {
      "cell_type": "code",
      "execution_count": 13,
      "id": "747c3072",
      "metadata": {
        "deletable": false,
        "id": "747c3072"
      },
      "outputs": [],
      "source": [
        "# 1 point [format: `str` either \"Yes\" or \"No\"]\n",
        "p2q0 = \"Yes\"#<\"Yes\"|\"No\">\n",
        "# Uncomment the above and keep only either \"Yes\" or \"No\"\n",
        "\n",
        "# This cell will produce a runtime error until you assign a value to this variable"
      ]
    },
    {
      "cell_type": "code",
      "execution_count": null,
      "id": "84c0eb7a",
      "metadata": {
        "id": "84c0eb7a"
      },
      "outputs": [],
      "source": [
        "# removed this as it is not compatible with Markus\n",
        "#comment_character_count_ok = sum([len(line.strip()) for line in inspect.getsource(sum_of_squares).split(\"\\n\") if re.search(\"#\", line)])>250\n",
        "#docstrings = re.findall(\"\\'\\'\\'.*?\\'\\'\\'\", inspect.getsource(sum_of_squares).replace('\"',\"'\").replace(' ',\"\").replace('\\n',\"\"))\n",
        "#docstrings_ok = len(docstrings)>3 and np.mean([len(ds.replace(\"'\",\"\")) for ds in docstrings][1:]) > 30\n",
        "#hint = \"[1 point] Reported answer '\" + str(p4q0) + \"' docstring or code comments for final problem.\\n\"\n",
        "#hint += \"Docstring might be okay: \" + str(docstrings_ok) + \".\\n\"\n",
        "#hint += \"Comment might be okay: \" + str(comment_character_count_ok) + \".\\n\"\n",
        "#hint += \"If 'Yes' reported but insufficient docstring or code comments for final problem\\n\"\n",
        "#hint += \"1 to 5 points are deducted depending on the severity of the misrepresentation.\"\n",
        "#assert p4q0==\"Yes\" and (comment_character_count_ok or docstrings_ok), hint"
      ]
    },
    {
      "cell_type": "markdown",
      "id": "2eecc4a8",
      "metadata": {
        "id": "2eecc4a8"
      },
      "source": [
        "### Problem 2 Question 1 (0.5 points)\n",
        "\n",
        "1. Choose the best justification for why the docstring specifies that\n",
        "\n",
        "    ```\n",
        "    'online' calcaulates `xbar` as `sum_i (x[i]/n)` rather than `(sum_i x[i])/n`\n",
        "    ```\n",
        "    \n",
        "    1. The fact that the `x[i]/n` operation may induce roundoff error relative to `x[i]`\n",
        "    2. This allows the `sum_i` operations to be avoided so unnecessary roundoff error is also avoided\n",
        "    3. The `sum_i (x[i])` value exists in a denser region of the floating point representation where roundoff error is generally smaller\n",
        "    4. The value `sum_i (x[i]/n)` exists in a denser region of the floating point representation where roundoff error is generally smaller"
      ]
    },
    {
      "cell_type": "code",
      "execution_count": 15,
      "id": "24c4bb26",
      "metadata": {
        "deletable": false,
        "id": "24c4bb26"
      },
      "outputs": [],
      "source": [
        "# 1 point [format: `str` either \"A\" or \"B\" or \"C\" or \"D\" based on the choices above]\n",
        "p2q1 = \"D\"#<\"A\"|\"B\"|\"C\"|\"D\">\n",
        "# Uncomment the above and keep only either \"A\" or \"B\" or \"C\" or \"D\"\n",
        "\n",
        "# This cell will produce a runtime error until you assign a value to this variable"
      ]
    },
    {
      "cell_type": "markdown",
      "id": "c8aef8db",
      "metadata": {
        "id": "c8aef8db"
      },
      "source": [
        "### Problem 2 Question 2 (0.5 points)\n",
        "\n",
        "2. Choose the best justification for why the docstring specifies that\n",
        "\n",
        "```\n",
        "'online' calcaulates ... `sum_i (x[i]-(xbar))**2` rather than `sum_i x[i]**2 - n*xbar**2`\n",
        "```\n",
        "\n",
        "- (A) `sum_i (x[i]-(xbar))**2` sums smaller absolute magnitudes than `sum_i x[i]**2` so introduces less roundoff error\n",
        "- (B) `sum_i x[i]**2` and `n*xbar**2` may have different magnitudes resulting in significant roundoff error when subtracted\n",
        "- (C) `sum_i x[i]**2` and `n*xbar**2` may result in catastrophic cancellation when subtracted\n",
        "- (D) All off the above"
      ]
    },
    {
      "cell_type": "code",
      "execution_count": 17,
      "id": "a347f1bf",
      "metadata": {
        "deletable": false,
        "id": "a347f1bf"
      },
      "outputs": [],
      "source": [
        "# 0.5 points [format: `str` either \"A\" or \"B\" or \"C\" or \"D\" based on the choices above]\n",
        "p2q2 = \"D\"#<\"A\"|\"B\"|\"C\"|\"D\">\n",
        "# Uncomment the above and keep only either \"A\" or \"B\" or \"C\" or \"D\"\n",
        "\n",
        "# This cell will produce a runtime error until you assign a value to this variable"
      ]
    },
    {
      "cell_type": "markdown",
      "id": "79d97189",
      "metadata": {
        "id": "79d97189"
      },
      "source": [
        "### Problem 2 Question 3 (0.5 points)\n",
        "\n",
        "The `'realtime'` algorithm uses `(x**2).sum() - x.sum()**2/n` as opposed to `(x**2).sum() - n*((x/n).sum()**2`.  This is because the idea with the `'realtime'` algorithm is that it reads data in as a stream without necessrily knowing `n` and yet can still calculate the sum of squared errors.\n",
        "Thus, the idea that `x/n` is a computation that could be used while the data was being streamed in does not really make sense for the `'realtime'` algorithm. Nonetheless, this is something that we could explore anyway...\n",
        "\n",
        "3. What does the code below demonstrate when `mu=1e10` and `std=1e1`?\n",
        "\n",
        "     1. `(x**2).sum() - x.sum()**2/n` is generally more numerically accurate than `(x**2).sum() - n*((x/n).sum()**2)`\n",
        "     2. `(x**2).sum() - n*((x/n).sum()**2)` is generally more numerically accurate than `(x**2).sum() - x.sum()**2/n` because `(x/n).sum()` is generally more numerically accurate than `x.sum()**2`\n",
        "     3. That neither `(x**2).sum() - x.sum()**2/n` nor `(x**2).sum() - n*((x/n).sum()**2)` are numerically accurate for this data\n",
        "     4. There is not enough evidence here to conclude anything about the numerical accuracy of `(x**2).sum() - x.sum()**2/n` and `(x**2).sum() - n*((x/n).sum()**2)` for this data"
      ]
    },
    {
      "cell_type": "code",
      "execution_count": 32,
      "id": "7ff85e53",
      "metadata": {
        "deletable": false,
        "id": "7ff85e53",
        "colab": {
          "base_uri": "https://localhost:8080/"
        },
        "outputId": "5b5b65b6-addb-41cb-fd80-40427dd0e961"
      },
      "outputs": [
        {
          "output_type": "stream",
          "name": "stdout",
          "text": [
            "The proportion of trials where `(x**2).sum() - n*((x/n).sum()**2)`\n",
            "is more accurate than `(x**2).sum() - x.sum()**2/n` is 0.382\n",
            "with an average error of 7074087.7689151475\n",
            "The proportion of trials where `(x**2).sum() - n*((x/n).sum()**2)`\n",
            "is less accurate than `(x**2).sum() - x.sum()**2` is 0.381\n",
            "with an average error of 7009858.653663308\n"
          ]
        }
      ],
      "source": [
        "n,mu,std,count1,count2,total_error1,total_error2,trials = 1000,1e1,1e1,0,0,0,0,1000\n",
        "n,mu,std,count1,count2,total_error1,total_error2,trials = 1000,1e10,1e1,0,0,0,0,1000\n",
        "for i in range(trials):\n",
        "    x = stats.norm(loc=mu, scale=std).rvs(size=n)\n",
        "    x = np.array(sorted(x, key = lambda x: np.abs(x)))\n",
        "    divide_before = abs((x**2).sum() - n*((x/n).sum()**2) - n*np.var(x, ddof=0))\n",
        "    divide_after = abs((x**2).sum() - x.sum()**2/n - n*np.var(x, ddof=0))\n",
        "    if divide_before<divide_after:\n",
        "        count1 += 1\n",
        "        total_error1 += divide_before\n",
        "    if divide_before>divide_after:\n",
        "        count2 += 1\n",
        "        total_error2 += divide_after\n",
        "\n",
        "finding = \"The proportion of trials where `(x**2).sum() - n*((x/n).sum()**2)`\\n\"\n",
        "finding += \"is more accurate than `(x**2).sum() - x.sum()**2/n` is \"+str(count1/trials)+\"\\n\"\n",
        "finding += \"with an average error of \"+str(total_error1/count1)+\"\\n\"\n",
        "finding += \"The proportion of trials where `(x**2).sum() - n*((x/n).sum()**2)`\\n\"\n",
        "finding += \"is less accurate than `(x**2).sum() - x.sum()**2` is \"+str(count2/trials)+\"\\n\"\n",
        "finding += \"with an average error of \"+str(total_error2/count2)\n",
        "print(finding)"
      ]
    },
    {
      "cell_type": "code",
      "execution_count": 28,
      "id": "ae30f6dc",
      "metadata": {
        "deletable": false,
        "id": "ae30f6dc"
      },
      "outputs": [],
      "source": [
        "# 1 point [format: `str` either \"A\" or \"B\" or \"C\" or \"D\" based on the choices above]\n",
        "p2q3 = \"D\"#<\"A\"|\"B\"|\"C\"|\"D\">\n",
        "# Uncomment the above and keep only either \"A\" or \"B\" or \"C\" or \"D\"\n",
        "\n",
        "# This cell will produce a runtime error until you assign a value to this variable"
      ]
    },
    {
      "cell_type": "markdown",
      "id": "828df001",
      "metadata": {
        "id": "828df001"
      },
      "source": [
        "### Problem 2 Questions 4-6 (2.5 points)\n",
        "\n",
        "The `SSE` function will be tested using data generated as\n",
        "\n",
        "```python\n",
        "n = 100\n",
        "np.random.seed(seed)\n",
        "x = stats.norm(loc=mu, scale=std).rvs(size=n)\n",
        "```\n",
        "\n",
        "for various choices of `seed`, `mu`, and `std`.\n",
        "\n",
        "For your implementation to be considered \"correct\" it must match the specifications given in the problem prompt; namely,\n",
        "\n",
        "```\n",
        "    - x is assumed to be sorted from smallest to largest in absolute value\n",
        "    - 'online' calcaulates `xbar` as `sum_i (x[i]/n)` rather than `(sum_i x[i])/n`\n",
        "       and `sum_i (x[i]-(xbar))**2` rather than `sum_i x[i]**2 - n*xbar**2`\n",
        "    - 'recursive' as specified is specifically designed to reduce roundoff error.    \n",
        "```\n",
        "\n",
        "- No variable assignments are required: the function and formulas will be tested directly."
      ]
    },
    {
      "cell_type": "code",
      "execution_count": null,
      "id": "b17a629f",
      "metadata": {
        "id": "b17a629f"
      },
      "outputs": [],
      "source": [
        "# Cell for scratch work\n",
        "\n",
        "# You are welcome to add as many new cells into this notebook as you would like.\n",
        "# Just don't have scratch work cells with runtime errors because\n",
        "# notebook cells are run sequentially for automated code testing.\n",
        "\n",
        "# Any cells included for scratch work that are no longer needed may be deleted so long as\n",
        "# - all the required functions are still defined and available when called\n",
        "# - no cells requiring variable assignments are deleted\n",
        "#    - as this causes their `cell ids` to be lost, but these `cell-ids` are required for automated code testing."
      ]
    },
    {
      "cell_type": "code",
      "execution_count": null,
      "id": "313bd4e4",
      "metadata": {
        "id": "313bd4e4"
      },
      "outputs": [],
      "source": [
        "# Cell for scratch work\n"
      ]
    },
    {
      "cell_type": "markdown",
      "id": "f6afc213",
      "metadata": {
        "id": "f6afc213"
      },
      "source": [
        "### Problem 2 Question 7 (0.5 points)\n",
        "\n",
        "For\n",
        "\n",
        "```python\n",
        "mu,sigma,n=1e10,1e1,1000\n",
        "x=stats.norm(loc=mu, scale=sigma).rvs(size=n)\n",
        "x = np.array(sorted(x, key = lambda x: abs(x)))\n",
        "```\n",
        "\n",
        "how does `SSE(x, formula=\"recursive\")` and the other methods `\"online\"` and `\"realtime\"` compare to `np.var(x, ddof=0)*n` for ?\n",
        "\n",
        "- (A) All methods are indistinguisably similarly accurate relative to `np.var(x, ddof=0)*n`\n",
        "- (B) `SSE(x, formula=\"recursive\")` is always the same as `np.var(x, ddof=0)*n`\n",
        "- (C) `SSE(x, formula=\"realtime\")` is always reasonably close to `np.var(x, ddof=0)*n`\n",
        "- (D) `SSE(x, formula=\"recursive\")` is likely to closer to `np.var(x, ddof=0)*n` than `SSE(x, formula=\"online\")`\n",
        "- (E) `SSE(x, formula=\"online\")` is likely to closer to `np.var(x, ddof=0)*n` than `SSE(x, formula=\"recursive\")`"
      ]
    },
    {
      "cell_type": "code",
      "execution_count": 20,
      "id": "f08b1b56",
      "metadata": {
        "id": "f08b1b56"
      },
      "outputs": [],
      "source": [
        "# Cell for scratch work\n",
        "\n",
        "# You are welcome to add as many new cells into this notebook as you would like.\n",
        "# Just don't have scratch work cells with runtime errors because\n",
        "# notebook cells are run sequentially for automated code testing.\n",
        "mu,sigma,n=1e10,1e1,1000\n",
        "x=stats.norm(loc=mu, scale=sigma).rvs(size=n)\n",
        "x = np.array(sorted(x, key = lambda x: abs(x)))\n",
        "# Any cells included for scratch work that are no longer needed may be deleted so long as\n",
        "# - all the required functions are still defined and available when called\n",
        "# - no cells requiring variable assignments are deleted\n",
        "#    - as this causes their `cell ids` to be lost, but these `cell-ids` are required for automated code testing."
      ]
    },
    {
      "cell_type": "code",
      "execution_count": 34,
      "id": "b6fcdc5b",
      "metadata": {
        "id": "b6fcdc5b",
        "colab": {
          "base_uri": "https://localhost:8080/"
        },
        "outputId": "c4d08352-5215-49b3-e7df-226775140433"
      },
      "outputs": [
        {
          "output_type": "stream",
          "name": "stdout",
          "text": [
            "98243.7446073073 98243.70183550077 -50331648.0 98243.70183549891\n"
          ]
        }
      ],
      "source": [
        "# Cell for scratch work\n",
        "recursive = SSE(x, formula=\"recursive\")\n",
        "online = SSE(x, formula=\"online\")\n",
        "realtime = SSE(x, formula=\"realtime\")\n",
        "npvar = np.var(x, ddof=0) * len(x)\n",
        "print(recursive, online, realtime, npvar)"
      ]
    },
    {
      "cell_type": "code",
      "execution_count": 35,
      "id": "ebb40e0e",
      "metadata": {
        "deletable": false,
        "id": "ebb40e0e"
      },
      "outputs": [],
      "source": [
        "# 0.5 points [format: `str` either \"A\" or \"B\" or \"C\" or \"D\" based on the choices above]\n",
        "p2q7 = \"E\"#<\"A\"|\"B\"|\"C\"|\"D\">\n",
        "# Uncomment the above and keep only either \"A\" or \"B\" or \"C\" or \"D\"\n",
        "\n",
        "# This cell will produce a runtime error until you assign a value to this variable"
      ]
    }
  ],
  "metadata": {
    "celltoolbar": "Edit Metadata",
    "kernelspec": {
      "display_name": "Python 3 (ipykernel)",
      "language": "python",
      "name": "python3"
    },
    "language_info": {
      "codemirror_mode": {
        "name": "ipython",
        "version": 3
      },
      "file_extension": ".py",
      "mimetype": "text/x-python",
      "name": "python",
      "nbconvert_exporter": "python",
      "pygments_lexer": "ipython3",
      "version": "3.11.4"
    },
    "colab": {
      "provenance": []
    }
  },
  "nbformat": 4,
  "nbformat_minor": 5
}