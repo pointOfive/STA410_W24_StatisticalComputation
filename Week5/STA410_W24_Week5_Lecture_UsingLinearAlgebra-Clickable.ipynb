{
 "cells": [
  {
   "cell_type": "markdown",
   "metadata": {
    "id": "YymWs_lQA0_x"
   },
   "source": [
    "<a name=\"cell-solving\"></a>\n",
    "\n",
    "# 5. With great power comes great responsiblity: Using Linear Algebra for Good\n",
    "\n",
    "1. [Scaling / Artifical Ill-Conditioning](#cell-sovling-condition-artificial)\n",
    "2. [Multicollinearity and Variance Inflation Factors (VIFs)](#cell-sovling-Axb-math-multicollinearity)\n",
    "3. [Principal Components Analysis (PCA)](#cell-sovling-Axb-math-pca) [$X=UDV^T$](#cell-sovling-X-UDVt)\n",
    "    <!-- 1. [Why use PCA?](#cell-sovling-X-UDVt) -->\n",
    "    1. [SVD Versus Eigendecomposition for PCA (or PCR)](#cell-sovling-X-UDVt)\n",
    "    2. [Independent Components Analysis (ICA)](#cell-sovling-Axb-math-ica)\n",
    "4. [Principal Components Regression (PCR)](#cell-sovling-Axb-math-pcr)\n",
    "5. [$Ax=b\\;$in a few ways that aren't$\\;A^{-1}$](#cell-sovling-Axb)\n",
    "    1. [The return of the SVD](#cell-sovling-svd)\n",
    "    2. [The Cholesky](#cell-sovling-chol)\n",
    "    3. [Multivariate Normal](#cell-sovling-chol-mvn)\n",
    "    4. [Square Root Decomposition](#cell-sovling-mvn)\n",
    "    5. [$QR$ Decomposition](#cell-sovling-qr)\n",
    "\n",
    "    \n",
    "\n",
    "\n",
    "\n"
   ]
  },
  {
   "cell_type": "markdown",
   "metadata": {
    "slideshow": {
     "slide_type": "slide"
    }
   },
   "source": [
    "# 5. With great power comes great responsiblity: Using Linear Algebra for Good\n",
    "\n",
    "Understanding <u>linear algebra</u> greatly clarifies both computational behavior and applied analysis\n",
    "\n",
    "- Magnitude differences in the ***singular values*** lead to ***numerical roundoff error*** \n",
    "- Magnitude differences in the ***singular values*** lead to an ***ill-conditioned*** matrix multiplication problem \n",
    "\n",
    "> <font style=\"color:white\"> The end of the previous STA410_W24_Week4_Lecture_NumericalErrors.ipynb notebook introduced ***singular value decomposition (SVD)*** and defined ***matrix condition number*** as the ratio of the largest to smallest ***singular values*** $\\frac{\\lambda_{\\max}}{\\lambda_{\\min}}$ </font>\n",
    "\n",
    "> <font style=\"color:white\"> See STA410_W24_Extra_DerivingMatrixCondition.ipynb for a formalization of the $\\frac{\\lambda_{\\max}}{\\lambda_{\\min}}$ ***matrix condition number*** as bounding the matrix multiplication problem's ***condition***</font>\n",
    "\n",
    "\n",
    "- <font style=\"color:white\"> For a more general review of the core ***linear algebra*** concepts that we will continue to build upon in this current notebook, please review the again highly relevant STA410_W24_Week4_Prerequesite_LinearAlgebra.ipynb notebook </font>\n"
   ]
  },
  {
   "cell_type": "markdown",
   "metadata": {
    "slideshow": {
     "slide_type": "slide"
    }
   },
   "source": [
    "# 5. With great power comes great responsiblity: Using Linear Algebra for Good\n",
    "\n",
    "Understanding <u>linear algebra</u> greatly clarifies both computational behavior and applied analysis\n",
    "\n",
    "- Magnitude differences in the ***singular values*** lead to ***numerical roundoff error*** \n",
    "- Magnitude differences in the ***singular values*** lead to an ***ill-conditioned*** matrix multiplication problem \n",
    "\n",
    "> The end of the previous `STA410_W24_Week4_Lecture_NumericalErrors.ipynb` notebook introduced ***singular value decomposition (SVD)*** and defined ***matrix condition number*** as the ratio of the largest to smallest ***singular values*** $\\frac{\\lambda_{\\max}}{\\lambda_{\\min}}$\n",
    "\n",
    "> See `STA410_W24_Extra_DerivingMatrixCondition.ipynb` for a formalization of the $\\frac{\\lambda_{\\max}}{\\lambda_{\\min}}$ ***matrix condition number*** as bounding the matrix multiplication problem's ***condition***\n",
    "\n",
    "\n",
    "- For a more general review of the core ***linear algebra*** concepts that we will continue to build upon in this current notebook, please review the again highly relevant `STA410_W24_Week4_Prerequesite_LinearAlgebra.ipynb` notebook \n"
   ]
  },
  {
   "cell_type": "markdown",
   "metadata": {
    "id": "ZO0NZKM3vF0z",
    "slideshow": {
     "slide_type": "slide"
    }
   },
   "source": [
    "<a name=\"cell-sovling-condition-artificial\"></a>\n",
    "\n",
    "# 5.1 Scaling / Artifical Ill-Conditioning ([Return to TOC](#cell-solving))\n",
    "\n",
    "---\n",
    "\n",
    "- $X$ will be ***ill-conditioned*** when column scales $X_{\\cdot i}$ and $X_{\\cdot j}$ are very different<br>$\\quad\\longrightarrow\\quad$ this causes the ***singular values*** $\\lambda_i$ and $\\lambda_j$ of the matrix (in ***SVD*** $X=UDV^T$) to have very different magnitudes\n",
    "\n",
    "- <font style=\"color:white\">This is <u>***artifical ill-conditioning***</u> in the case of a ***design matrix*** $X$<br>$\\quad\\longrightarrow\\quad$ the columns can just be rescaled to produced ***well-conditioned*** $\\tilde X$</font>\n",
    "\n",
    "    > <font style=\"color:white\">Remember the ever-present recommendation \"center and scale your data\" for regression?<font>\n",
    "    > -  <font style=\"color:white\">Or how $E[X^2]-E[X]^2$ variance calcultions can break on \"uncentered\" data but would work just fine for \"centered\" data?</font>\n",
    "    >\n",
    "    > <font style=\"color:white\">Centering and scaling your data just fixes ***artifical ill-conditioning*** problems...</font>\n",
    "\n",
    "<!-- This is because the sum of the ***singular values*** are [bounded](https://math.stackexchange.com/questions/1472420/upper-bound-for-the-sum-of-absolute-values-of-the-eigenvalues) by the sum of the elements of a matrix; thus,  -->\n",
    "\n",
    "<br><br><br>\n"
   ]
  },
  {
   "cell_type": "markdown",
   "metadata": {
    "id": "ZO0NZKM3vF0z",
    "slideshow": {
     "slide_type": "slide"
    }
   },
   "source": [
    "<a name=\"cell-sovling-condition-artificial\"></a>\n",
    "\n",
    "# 5.1 Scaling / Artifical Ill-Conditioning ([Return to TOC](#cell-solving))\n",
    "\n",
    "---\n",
    "\n",
    "- $X$ will be ***ill-conditioned*** when column scales $X_{\\cdot i}$ and $X_{\\cdot j}$ are very different<br>$\\quad\\longrightarrow\\quad$ this causes the ***singular values*** $\\lambda_i$ and $\\lambda_j$ of the matrix (in ***SVD*** $X=UDV^T$) to have very different magnitudes\n",
    "\n",
    "- This is <u>***artifical ill-conditioning***</u> in the case of ***design matrix*** $X$<br>$\\quad\\longrightarrow\\quad$ the columns can just be rescaled to produced ***well-conditioned*** $\\tilde X$\n",
    "\n",
    "    > Remember the ever-present recommendation \"center and scale your data\" for regression?\n",
    "    > -  Or how $E[X^2]-E[X]^2$ variance calcultions can break on \"uncentered\" data \n",
    "    but would work just fine for \"centered\" data?\n",
    "    >\n",
    "    > Centering and scaling your data just fixes ***artifical ill-conditioning*** problems...\n",
    "\n",
    "<!-- This is because the sum of the ***singular values*** are [bounded](https://math.stackexchange.com/questions/1472420/upper-bound-for-the-sum-of-absolute-values-of-the-eigenvalues) by the sum of the elements of a matrix; thus,  -->\n",
    "\n",
    "<br><br><br>\n"
   ]
  },
  {
   "cell_type": "markdown",
   "metadata": {
    "id": "ZO0NZKM3vF0z",
    "slideshow": {
     "slide_type": "slide"
    }
   },
   "source": [
    "<a name=\"cell-sovling-condition-artificial\"></a>\n",
    "\n",
    "# 5.1 Scaling / Artifical Ill-Conditioning ([Return to TOC](#cell-solving))\n",
    "\n",
    "---\n",
    "\n",
    "- $X$ will be ***ill-conditioned*** when ~~column~~ROW scales $X_{k\\cdot }$ and $X_{l\\cdot }$ are very different<br>$\\quad\\longrightarrow\\quad$ this causes the ***singular values*** $\\lambda_k$ and $\\lambda_l$ of the matrix (in ***SVD*** $X=UDV^T$) to have very different magnitudes\n",
    "\n",
    "- This is <u>***artifical ill-conditioning***</u> in the case of some ***matrix*** $X$<br>$\\quad\\longrightarrow\\quad$ the ~~columns~~ROWS can just be rescaled to produced ***well-conditioned*** $\\tilde X$\n",
    "\n",
    "\n",
    "<span style=\"color:white\">\n",
    "    \n",
    "***Multivariate first-order Taylor approximations*** to systems of nonlinear equations \n",
    "\n",
    "$$\\overset{\\text{nonlinear system}}{\\underset{\\text{of equations}}{b = f(x)}} \\approx \\underbrace{f(x^{(t)}) + \\overbrace{\\left[\\begin{array}{ccc}\\frac{\\partial f_1(x^{(t)})}{\\partial x_1} & \\cdots & \\frac{\\partial f_1(x^{(t)})}{\\partial x_p} \\\\\n",
    "\\vdots & \\ddots & \\vdots \\\\\n",
    "\\frac{\\partial f_n(x^{(t)})}{\\partial x_1} & \\cdots & \\frac{\\partial f_n(x^{(t)})}{\\partial x_p} \n",
    "\\end{array} \\right]}^{\\text{the Jacobian } J_{f(x)}(x^{(t)}) \\,=\\, \\nabla_{f(x)}(x^{(t)})^T}  (x-x^{(t)})}_{\\text{Approximated as a system of } \\underset{\\color{white}{b \\,\\approx\\, f(x^{(t)})+  J_{f(x)}(x^{(t)} (x-x^{(t)})}}{\\text{linear equations }b \\,\\approx\\, c+Ax'}} \\quad \\begin{array}{l}\\text{can be rescaled, i.e., to $c_ib_i = c_if_i(x)$}\\\\\\text{(rescaling outcome variables of $f$)}\\\\\\text{to remove magnitude differences}\\\\\\text{between parital derivatives rows}\\\\\\text{so the }\\textbf{Jacobian}\\text{ is }\\textbf{well-conditioned}\\end{array}$$\n",
    "    \n",
    "</span>\n"
   ]
  },
  {
   "cell_type": "markdown",
   "metadata": {
    "id": "ZO0NZKM3vF0z",
    "slideshow": {
     "slide_type": "slide"
    }
   },
   "source": [
    "<a name=\"cell-sovling-condition-artificial\"></a>\n",
    "\n",
    "# 5.1 Scaling / Artifical Ill-Conditioning ([Return to TOC](#cell-solving))\n",
    "\n",
    "---\n",
    "\n",
    "- $X$ will be ***ill-conditioned*** when ~~column~~ROW scales $X_{k\\cdot }$ and $X_{l\\cdot }$ are very different<br>$\\quad\\longrightarrow\\quad$ this causes the ***singular values*** $\\lambda_k$ and $\\lambda_l$ of the matrix (in ***SVD*** $X=UDV^T$) to have very different magnitudes\n",
    "\n",
    "- This is <u>***artifical ill-conditioning***</u> in the case of some ***matrix*** $X$<br>$\\quad\\longrightarrow\\quad$ the ~~columns~~ROWS can just be rescaled to produced ***well-conditioned*** $\\tilde X$\n",
    "\n",
    "***Multivariate first-order Taylor approximations*** to systems of nonlinear equations \n",
    "\n",
    "$$\\overset{\\text{nonlinear system}}{\\underset{\\text{of equations}}{b = f(x)}} \\approx \\underbrace{f(x^{(t)}) + \\overbrace{\\left[\\begin{array}{ccc}\\frac{\\partial f_1(x^{(t)})}{\\partial x_1} & \\cdots & \\frac{\\partial f_1(x^{(t)})}{\\partial x_p} \\\\\n",
    "\\vdots & \\ddots & \\vdots \\\\\n",
    "\\frac{\\partial f_n(x^{(t)})}{\\partial x_1} & \\cdots & \\frac{\\partial f_n(x^{(t)})}{\\partial x_p} \n",
    "\\end{array} \\right]}^{\\text{the Jacobian } J_{f(x)}(x^{(t)}) \\,=\\, \\nabla_{f(x)}(x^{(t)})^T}  (x-x^{(t)})}_{\\text{Approximated as a system of } \\underset{\\color{gray}{b \\,\\approx\\, f(x^{(t)})+  J_{f(x)}(x^{(t)} (x-x^{(t)})}}{\\text{linear equations }b \\,\\approx\\, c+Ax'}} \\quad \\begin{array}{l}\\text{can be rescaled, i.e., to $c_ib_i = c_if_i(x)$}\\\\\\text{(rescaling outcome variables of $f$)}\\\\\\text{to remove magnitude differences}\\\\\\text{between parital derivatives rows}\\\\\\text{so the }\\textbf{Jacobian}\\text{ is }\\textbf{well-conditioned}\\end{array}$$\n",
    "\n"
   ]
  },
  {
   "cell_type": "markdown",
   "metadata": {
    "id": "g4H47Q6MRbWb",
    "slideshow": {
     "slide_type": "slide"
    }
   },
   "source": [
    "<a name=\"cell-sovling-Axb-math-multicollinearity\"></a>\n",
    "# 5.2 Multicollinearity<br>and Variance Inflation Factors (VIFs) ([Return to TOC](#cell-solving))\n",
    "---\n",
    "***Multicollinearity*** (the degree to which the covariates are linear combinations of each other)<br> figures prominently in ***linear model regression*** contexts and <u>is driven by ***singular values***</u>\n",
    "\n",
    "<font style=\"color:white\">For ***design matrix*** $X_{n\\times p} = U_{n\\times r} D_{r \\times r} (V^T)_{r\\times p}$</font>\n",
    "\n",
    "- <font style=\"color:white\">$r<p$ means some columns of $X$ are perfectly ***collinear*** making $X$ statistically intractable without alteration</font>\n",
    "\n",
    "- <font style=\"color:white\">$r=p$ means $X$ is technically ***full rank***; but, whenever ***singular values*** $\\lambda_j = D_{jj}$ are relatively very small<br>the numerical contribution of ***loadings*** $U_{\\cdot j}$ and ***basis vectors*** $V_{\\cdot j}$ constructing $X$ degrade due ***roundoff error***</font> \n",
    "    - <font style=\"color:white\">(and if totally lost in ***roundoff error***, then $X$ IS ***non-full rank*** numerically speaking)</font>\n",
    "\n",
    "<font style=\"color:white\">When \n",
    "$$X_{n\\times p} = U_{n\\times p} D_{p \\times p} (V^T)_{p\\times p} \\approx U_{n\\times r} D_{r \\times r} (V^T)_{r\\times p} \\;\\text{ for } r<p$$</font>\n",
    "\n",
    "<font style=\"color:white\">then $X$ is behaving numerically like it's characteristically ***non-full rank***, which is exactly when there's ***high multicollinearity***</font>\n",
    "- <font style=\"color:white\">The relative magnitudes of the ***singular values*** of $X$ characterize the degree the ***multicollinearity*** present in $X$...</font>\n"
   ]
  },
  {
   "cell_type": "markdown",
   "metadata": {
    "id": "g4H47Q6MRbWb",
    "slideshow": {
     "slide_type": "slide"
    }
   },
   "source": [
    "<a name=\"cell-sovling-Axb-math-multicollinearity\"></a>\n",
    "# 5.2 Multicollinearity<br>and Variance Inflation Factors (VIFs) ([Return to TOC](#cell-solving))\n",
    "---\n",
    "***Multicollinearity*** (the degree to which the covariates are linear combinations of each other)<br> figures prominently in ***linear model regression*** contexts and <u>is driven by ***singular values***</u>\n",
    "\n",
    "\n",
    "For ***design matrix*** $X_{n\\times p} = U_{n\\times r} D_{r \\times r} (V^T)_{r\\times p}$\n",
    "\n",
    "- $r<p$ means some columns of $X$ are perfectly ***collinear*** making $X$ statistically intractable without alteration\n",
    "\n",
    "- $r=p$ means $X$ is technically ***full rank***; but, whenever ***singular values*** $\\lambda_j = D_{jj}$ are relatively very small<br>the numerical contribution of ***loadings*** $U_{\\cdot j}$ and ***basis vectors*** $V_{\\cdot j}$ constructing $X$ degrade due ***roundoff error*** \n",
    "    - (and if totally lost in ***roundoff error***, then $X$ IS ***non-full rank*** numerically speaking)\n",
    "\n",
    "<font style=\"color:white\">When \n",
    "$$X_{n\\times p} = U_{n\\times p} D_{p \\times p} (V^T)_{p\\times p} \\approx U_{n\\times r} D_{r \\times r} (V^T)_{r\\times p} \\;\\text{ for } r<p$$</font>\n",
    "\n",
    "<font style=\"color:white\">then $X$ is behaving numerically like it's characteristically ***non-full rank***, which is exactly when there's ***high multicollinearity***</font>\n",
    "- <font style=\"color:white\">The relative magnitudes of the ***singular values*** of $X$ characterize the degree the ***multicollinearity*** present in $X$...</font>\n"
   ]
  },
  {
   "cell_type": "markdown",
   "metadata": {
    "id": "g4H47Q6MRbWb",
    "slideshow": {
     "slide_type": "slide"
    }
   },
   "source": [
    "<a name=\"cell-sovling-Axb-math-multicollinearity\"></a>\n",
    "# 5.2 Multicollinearity<br>and Variance Inflation Factors (VIFs) ([Return to TOC](#cell-solving))\n",
    "---\n",
    "***Multicollinearity*** (the degree to which the covariates are linear combinations of each other)<br> figures prominently in ***linear model regression*** contexts and <u>is driven by ***singular values***</u>\n",
    "\n",
    "For ***design matrix*** $X_{n\\times p} = U_{n\\times r} D_{r \\times r} (V^T)_{r\\times p}$\n",
    "\n",
    "- $r<p$ means some columns of $X$ are perfectly ***collinear*** making $X$ statistically intractable without alteration\n",
    "\n",
    "- $r=p$ means $X$ is technically ***full rank***; but, whenever ***singular values*** $\\lambda_j = D_{jj}$ are relatively very small<br>the numerical contribution of ***loadings*** $U_{\\cdot j}$ and ***basis vectors*** $V_{\\cdot j}$ constructing $X$ degrade due ***roundoff error*** \n",
    "    - (and if totally lost in ***roundoff error***, then $X$ IS ***non-full rank*** numerically speaking)\n",
    "\n",
    "When \n",
    "$$X_{n\\times p} = U_{n\\times p} D_{p \\times p} (V^T)_{p\\times p} \\approx U_{n\\times r} D_{r \\times r} (V^T)_{r\\times p} \\;\\text{ for } r<p$$\n",
    "\n",
    "then $X$ is behaving numerically like it's characteristically ***non-full rank***, which is exactly when there's ***high multicollinearity***\n",
    "- The relative magnitudes of the ***singular values*** of $X$ characterize the degree the ***multicollinearity*** present in $X$...\n"
   ]
  },
  {
   "cell_type": "markdown",
   "metadata": {
    "id": "g4H47Q6MRbWb",
    "slideshow": {
     "slide_type": "slide"
    }
   },
   "source": [
    "<a name=\"cell-sovling-Axb-math-multicollinearity\"></a>\n",
    "\n",
    "# 5.2 Multicollinearity<br>and Variance Inflation Factors (VIFs) ([Return to TOC](#cell-solving))\n",
    "\n",
    "---\n",
    "\n",
    "***Variance Inflation Factors (VIFs)*** $\\frac {1}{1-R_{j}^{2}}$ quantify  ***multicollinearity*** <font style=\"color:gray\">(which might also be called \"observed covariate confounding\")</font>\n",
    "\n",
    "> $R_{j}^{2}$ is the ***coefficient of determination*** for the regression of $X_{j}$ on all others except $X_{j}$\n",
    "> \n",
    "> $${\\displaystyle X_{j}= \\alpha_{0}+\\alpha_{1}X_{1} + \\alpha_{2}X_{2}+\\cdots + \\underset{\\text{no } X_j}{\\alpha_{j-1}X_{j-1} + \\alpha_{j+1}X_{j+1}}+\\cdots\\alpha_{k}X_{p}}+\\epsilon$$\n",
    "\n",
    "<span style=\"color:white\">\n",
    "The more predictive $X_{j}$ is of the others the larger $R^2_j$ is and the more the coefficient uncertainty *inflates*\n",
    "\n",
    "$$ {\\displaystyle {\\widehat {\\operatorname {var} }}({\\hat {\\beta }}_{j})=s^{2}[(X^{T}X)^{-1}]_{jj} =  {\\frac {s^{2}}{(n-1){\\widehat {\\operatorname {var} }}(X_{j})}}\\cdot \\underset{VIF}{\\frac {1}{1-R_{j}^{2}}}} \\quad \\begin{array}{ll}\\text{$s^2$ is the }\\textbf{residual variance}\\\\\\text{ of the original regression}\\end{array}$$\n",
    "\n",
    "But this can be reformulated in terms of ***singular values*** which shows that\n",
    "<span>\n",
    "    \n",
    "- <font style=\"color:white\">it's small ***singular values*** $\\lambda_i = D_{jj}$ of ***design matrix*** $X$ lead to *inflated* ${\\widehat {\\operatorname {var} }}({\\hat {\\beta }}_{j})$ \n",
    "$${\\widehat {\\operatorname {var} }}({\\hat {\\beta }}_{j})=s^{2}[(X^{T}X)^{-1}]_{jj} = s^{2}[(VD^2V^T)^{-1}]_{jj} = s^{2}[(VD^{-2}V^T)]_{jj} = s^2 \\sum_{i=1}^{p}V_{ji}^2D_{ii}^{-2}$$</font>\n"
   ]
  },
  {
   "cell_type": "markdown",
   "metadata": {
    "id": "g4H47Q6MRbWb",
    "slideshow": {
     "slide_type": "slide"
    }
   },
   "source": [
    "<a name=\"cell-sovling-Axb-math-multicollinearity\"></a>\n",
    "\n",
    "# 5.2 Multicollinearity<br>and Variance Inflation Factors (VIFs) ([Return to TOC](#cell-solving))\n",
    "\n",
    "---\n",
    "\n",
    "***Variance Inflation Factors (VIFs)*** $\\frac {1}{1-R_{j}^{2}}$ quantify  ***multicollinearity*** <font style=\"color:gray\">(which might also be called \"observed covariate confounding\")</font>\n",
    "\n",
    "> $R_{j}^{2}$ is the ***coefficient of determination*** for the regression of $X_{j}$ on all others except $X_{j}$\n",
    "> \n",
    "> $${\\displaystyle X_{j}= \\alpha_{0}+\\alpha_{1}X_{1} + \\alpha_{2}X_{2}+\\cdots + \\underset{\\text{no } X_j}{\\alpha_{j-1}X_{j-1} + \\alpha_{j+1}X_{j+1}}+\\cdots\\alpha_{k}X_{p}}+\\epsilon$$\n",
    "\n",
    "\n",
    "The more predictive $X_{j}$ is of the others the larger $R^2_j$ is and the more the coefficient uncertainty *inflates*\n",
    "\n",
    "$$ {\\displaystyle {\\widehat {\\operatorname {var} }}({\\hat {\\beta }}_{j})=s^{2}[(X^{T}X)^{-1}]_{jj} =  {\\frac {s^{2}}{(n-1){\\widehat {\\operatorname {var} }}(X_{j})}}\\cdot \\underset{VIF}{\\frac {1}{1-R_{j}^{2}}}} \\quad \\begin{array}{ll}\\text{$s^2$ is the }\\textbf{residual variance}\\\\\\text{ of the original regression}\\end{array}$$\n",
    "\n",
    "<span style=\"color:white\">\n",
    "But this can be reformulated in terms of ***singular values*** which shows that\n",
    "<span>\n",
    "    \n",
    "- <font style=\"color:white\">it's small ***singular values*** $\\lambda_i = D_{jj}$ of ***design matrix*** $X$ lead to *inflated* ${\\widehat {\\operatorname {var} }}({\\hat {\\beta }}_{j})$ \n",
    "$${\\widehat {\\operatorname {var} }}({\\hat {\\beta }}_{j})=s^{2}[(X^{T}X)^{-1}]_{jj} = s^{2}[(VD^2V^T)^{-1}]_{jj} = s^{2}[(VD^{-2}V^T)]_{jj} = s^2 \\sum_{i=1}^{p}V_{ji}^2D_{ii}^{-2}$$</font>\n"
   ]
  },
  {
   "cell_type": "markdown",
   "metadata": {
    "id": "g4H47Q6MRbWb",
    "slideshow": {
     "slide_type": "slide"
    }
   },
   "source": [
    "<a name=\"cell-sovling-Axb-math-multicollinearity\"></a>\n",
    "\n",
    "# 5.2 Multicollinearity<br>and Variance Inflation Factors (VIFs) ([Return to TOC](#cell-solving))\n",
    "\n",
    "---\n",
    "\n",
    "***Variance Inflation Factors (VIFs)*** $\\frac {1}{1-R_{j}^{2}}$ quantify  ***multicollinearity*** <font style=\"color:gray\">(which might also be called \"observed covariate confounding\")</font>\n",
    "\n",
    "> $R_{j}^{2}$ is the ***coefficient of determination*** for the regression of $X_{j}$ on all others except $X_{j}$\n",
    "> \n",
    "> $${\\displaystyle X_{j}= \\alpha_{0}+\\alpha_{1}X_{1} + \\alpha_{2}X_{2}+\\cdots + \\underset{\\text{no } X_j}{\\alpha_{j-1}X_{j-1} + \\alpha_{j+1}X_{j+1}}+\\cdots\\alpha_{k}X_{p}}+\\epsilon$$\n",
    "\n",
    "The more predictive $X_{j}$ is of the others the larger $R^2_j$ is and the more the coefficient uncertainty *inflates*\n",
    "\n",
    "$$ {\\displaystyle {\\widehat {\\operatorname {var} }}({\\hat {\\beta }}_{j})=s^{2}[(X^{T}X)^{-1}]_{jj} =  {\\frac {s^{2}}{(n-1){\\widehat {\\operatorname {var} }}(X_{j})}}\\cdot \\underset{VIF}{\\frac {1}{1-R_{j}^{2}}}} \\quad \\begin{array}{ll}\\text{$s^2$ is the }\\textbf{residual variance}\\\\\\text{ of the original regression}\\end{array}$$\n",
    "\n",
    "But this can be reformulated in terms of ***singular values*** which shows that\n",
    "\n",
    "- it's small ***singular values*** $\\lambda_i = D_{jj}$ of ***design matrix*** $X$ lead to *inflated* ${\\widehat {\\operatorname {var} }}({\\hat {\\beta }}_{j})$ \n",
    "$${\\widehat {\\operatorname {var} }}({\\hat {\\beta }}_{j})=s^{2}[(X^{T}X)^{-1}]_{jj} = s^{2}[(VD^2V^T)^{-1}]_{jj} = s^{2}[(VD^{-2}V^T)]_{jj} = s^2 \\sum_{i=1}^{p}V_{ji}^2D_{ii}^{-2}$$\n"
   ]
  },
  {
   "cell_type": "markdown",
   "metadata": {
    "slideshow": {
     "slide_type": "slide"
    }
   },
   "source": [
    "# 5.2 Multicollinearity<br>and Variance Inflation Factors (VIFs)\n",
    "\n",
    "---\n"
   ]
  },
  {
   "cell_type": "code",
   "execution_count": 1,
   "metadata": {
    "id": "LbvCD6r5qkec"
   },
   "outputs": [],
   "source": [
    "import numpy as np; from scipy import stats; import statsmodels.api as sm; import matplotlib.pyplot as plt\n",
    "from statsmodels.stats.outliers_influence import variance_inflation_factor as VIF # https://en.wikipedia.org/wiki/Variance_inflation_factor#Calculation_and_analysis"
   ]
  },
  {
   "cell_type": "code",
   "execution_count": 2,
   "metadata": {
    "id": "tbpRFzwXhMh6"
   },
   "outputs": [
    {
     "name": "stdout",
     "output_type": "stream",
     "text": [
      "X columns ARE standardized: column means [8.21565038e-17 3.49720253e-17] column standard deviations [1. 1.]\n",
      "['Condition No.:' '1']\n"
     ]
    },
    {
     "data": {
      "text/html": [
       "<div>\n",
       "<style scoped>\n",
       "    .dataframe tbody tr th:only-of-type {\n",
       "        vertical-align: middle;\n",
       "    }\n",
       "\n",
       "    .dataframe tbody tr th {\n",
       "        vertical-align: top;\n",
       "    }\n",
       "\n",
       "    .dataframe thead th {\n",
       "        text-align: right;\n",
       "    }\n",
       "</style>\n",
       "<table border=\"1\" class=\"dataframe\">\n",
       "  <thead>\n",
       "    <tr style=\"text-align: right;\">\n",
       "      <th></th>\n",
       "      <th>Coef.</th>\n",
       "      <th>Std.Err.</th>\n",
       "      <th>t</th>\n",
       "      <th>P&gt;|t|</th>\n",
       "      <th>[0.025</th>\n",
       "      <th>0.975]</th>\n",
       "    </tr>\n",
       "  </thead>\n",
       "  <tbody>\n",
       "    <tr>\n",
       "      <th>const</th>\n",
       "      <td>1.030566</td>\n",
       "      <td>0.093325</td>\n",
       "      <td>11.042762</td>\n",
       "      <td>7.647357e-19</td>\n",
       "      <td>0.845342</td>\n",
       "      <td>1.215791</td>\n",
       "    </tr>\n",
       "    <tr>\n",
       "      <th>x1</th>\n",
       "      <td>0.924965</td>\n",
       "      <td>0.095155</td>\n",
       "      <td>9.720636</td>\n",
       "      <td>5.378723e-16</td>\n",
       "      <td>0.736109</td>\n",
       "      <td>1.113821</td>\n",
       "    </tr>\n",
       "    <tr>\n",
       "      <th>x2</th>\n",
       "      <td>0.904045</td>\n",
       "      <td>0.095155</td>\n",
       "      <td>9.500785</td>\n",
       "      <td>1.605467e-15</td>\n",
       "      <td>0.715189</td>\n",
       "      <td>1.092901</td>\n",
       "    </tr>\n",
       "  </tbody>\n",
       "</table>\n",
       "</div>"
      ],
      "text/plain": [
       "          Coef.  Std.Err.          t         P>|t|    [0.025    0.975]\n",
       "const  1.030566  0.093325  11.042762  7.647357e-19  0.845342  1.215791\n",
       "x1     0.924965  0.095155   9.720636  5.378723e-16  0.736109  1.113821\n",
       "x2     0.904045  0.095155   9.500785  1.605467e-15  0.715189  1.092901"
      ]
     },
     "execution_count": 2,
     "metadata": {},
     "output_type": "execute_result"
    }
   ],
   "source": [
    "# very low multicollinearity so there's minimal variance inflation\n",
    "n = 100; X = stats.multivariate_normal(cov=np.array(((1,.09),(.09,1)))).rvs(n); X=(X-X.mean(axis=0))/X.std(axis=0); print(\"X columns ARE standardized:\", \"column means\", X.mean(axis=0), \"column standard deviations\",  X.std(axis=0))\n",
    "X = sm.add_constant(X); Y = X.dot(np.ones(3)) + stats.norm().rvs(n); model = sm.OLS(Y,X); results = model.fit(); print(results.summary2().tables[2].values[3,2:]); results.summary2().tables[1]"
   ]
  },
  {
   "cell_type": "code",
   "execution_count": 3,
   "metadata": {},
   "outputs": [
    {
     "name": "stdout",
     "output_type": "stream",
     "text": [
      "Variance Inflation Factors 1.0 1.0395967439003335 1.0395967439003335\n"
     ]
    }
   ],
   "source": [
    "print(\"Variance Inflation Factors\", VIF(X,0),VIF(X,1),VIF(X,2))"
   ]
  },
  {
   "cell_type": "code",
   "execution_count": 4,
   "metadata": {},
   "outputs": [
    {
     "name": "stdout",
     "output_type": "stream",
     "text": [
      "s(X^TX)^{-1/2}                   [0.09332524 0.09515499 0.09515499]\n",
      "s(VIF/(n-1)*Var[X])^{-1/2}       [0.09332524 0.09515499 0.09515499]\n",
      "\n",
      "Singular Values [10.932350655916524, 10.0, 8.971271322175104] Singular Values^{-2} [0.008367060195489186, 0.01, 0.012424874682517491]\n",
      "s*(SUM_i V_ij^2 D_ii^{-2})^{1/2} [0.09332524 0.09515499 0.09515499]\n"
     ]
    }
   ],
   "source": [
    "s = (float(results.summary2().tables[0].iloc[-1,-1]))**.5 # residual error\n",
    "XtXinv = np.linalg.inv(X.T.dot(X)); print('s(X^TX)^{-1/2}                  ', s*np.diag(XtXinv)**0.5)\n",
    "VIF_formula = np.array([VIF(X,0),VIF(X,1),VIF(X,2)]) # This formula doesn't work for the intercept since Var(X_intercept)=0\n",
    "VIF_formula[1:] = s*(VIF_formula[1:]/((n-1)*X.var(ddof=1,axis=0)[1:]))**0.5; VIF_formula[0] = s*XtXinv[0,0]**0.5; print('s(VIF/(n-1)*Var[X])^{-1/2}      ', VIF_formula)\n",
    "U,D,Vt = np.linalg.svd(X, full_matrices=False)\n",
    "print(\"\\nSingular Values\", list(D), \"Singular Values^{-2}\", list(D**(-2)))\n",
    "XtXinv_by_svd = (Vt.T*D**(-2)).dot(Vt) # will be the same (sans numeric error) to XtXinv\n",
    "XtXinv_by_svd_diag = (Vt.T**2*D**-2).sum(axis=1); print('s*(SUM_i V_ij^2 D_ii^{-2})^{1/2}', s*XtXinv_by_svd_diag**0.5) \n",
    "# confirming that these coefficient variances depend on the singular values"
   ]
  },
  {
   "cell_type": "markdown",
   "metadata": {
    "slideshow": {
     "slide_type": "slide"
    }
   },
   "source": [
    "# 5.2 Multicollinearity<br>and Variance Inflation Factors (VIFs)\n",
    "\n",
    "---\n"
   ]
  },
  {
   "cell_type": "code",
   "execution_count": 5,
   "metadata": {
    "id": "t9KQzbk3hfAt"
   },
   "outputs": [
    {
     "data": {
      "image/png": "[encoded data removed]",
      "text/plain": [
       "<Figure size 1800x800 with 4 Axes>"
      ]
     },
     "metadata": {},
     "output_type": "display_data"
    }
   ],
   "source": [
    "U,D,Vt = np.linalg.svd(X, full_matrices=False)\n",
    "fig,ax = plt.subplots(2,2, figsize=(18,8)); ax[0,0].bar(x=range(3), height=D); ax[0,0].set_title(\"Singular Values\"); \n",
    "# This shows that the approximate reconstruction of X is very poor \n",
    "ax[1,0].hist(np.abs(U.dot(np.diag(D)).dot(Vt) - X).flatten()); ax[1,1].hist(np.abs(U[:,:2].dot(np.diag(D[:2])).dot(Vt[:2,:])-X).flatten()); ax[1,0].set_title(\"Roundoff error in full reconstruction of X\"); ax[1,1].set_title(\"Approximation error in compact reconstruction of X\"); ax[0,1].plot((U[:,:2].dot(np.diag(D[:2])).dot(Vt[:2,:])).ravel(), X.ravel(),'.', label='Compact Reconstruction:  X~ = (U[:,:2]*D[:2]).dot(Vt[:2,:])'); ax[0,1].plot((U.dot(np.diag(D)).dot(Vt)).ravel(), X.ravel(),'.', label='Full reconstruction:            X~ = (U*D).dot(Vt)'); ax[0,1].set_title(\"X is poorly constructed with a lower rank approximation: X is characteristically full rank\"); ax[0,1].set_ylabel(\"Original X\"); ax[0,1].set_xlabel(\"Reconstructed X\"); ax[0,1].legend(); fig.tight_layout()"
   ]
  },
  {
   "cell_type": "markdown",
   "metadata": {
    "slideshow": {
     "slide_type": "slide"
    }
   },
   "source": [
    "# 5.2 Multicollinearity<br>and Variance Inflation Factors (VIFs)\n",
    "\n",
    "---\n"
   ]
  },
  {
   "cell_type": "code",
   "execution_count": 6,
   "metadata": {
    "id": "NP_q4L90hfJ0"
   },
   "outputs": [
    {
     "name": "stdout",
     "output_type": "stream",
     "text": [
      "X columns ARE standardized: column means [-6.55031585e-17  3.33066907e-18] column standard deviations [1. 1.]\n",
      "['Condition No.:' '15']\n"
     ]
    },
    {
     "data": {
      "text/html": [
       "<div>\n",
       "<style scoped>\n",
       "    .dataframe tbody tr th:only-of-type {\n",
       "        vertical-align: middle;\n",
       "    }\n",
       "\n",
       "    .dataframe tbody tr th {\n",
       "        vertical-align: top;\n",
       "    }\n",
       "\n",
       "    .dataframe thead th {\n",
       "        text-align: right;\n",
       "    }\n",
       "</style>\n",
       "<table border=\"1\" class=\"dataframe\">\n",
       "  <thead>\n",
       "    <tr style=\"text-align: right;\">\n",
       "      <th></th>\n",
       "      <th>Coef.</th>\n",
       "      <th>Std.Err.</th>\n",
       "      <th>t</th>\n",
       "      <th>P&gt;|t|</th>\n",
       "      <th>[0.025</th>\n",
       "      <th>0.975]</th>\n",
       "    </tr>\n",
       "  </thead>\n",
       "  <tbody>\n",
       "    <tr>\n",
       "      <th>const</th>\n",
       "      <td>1.166546</td>\n",
       "      <td>0.108154</td>\n",
       "      <td>10.785923</td>\n",
       "      <td>2.718493e-18</td>\n",
       "      <td>0.951889</td>\n",
       "      <td>1.381202</td>\n",
       "    </tr>\n",
       "    <tr>\n",
       "      <th>x1</th>\n",
       "      <td>0.338703</td>\n",
       "      <td>0.798411</td>\n",
       "      <td>0.424221</td>\n",
       "      <td>6.723437e-01</td>\n",
       "      <td>-1.245921</td>\n",
       "      <td>1.923327</td>\n",
       "    </tr>\n",
       "    <tr>\n",
       "      <th>x2</th>\n",
       "      <td>1.886027</td>\n",
       "      <td>0.798411</td>\n",
       "      <td>2.362226</td>\n",
       "      <td>2.016276e-02</td>\n",
       "      <td>0.301402</td>\n",
       "      <td>3.470651</td>\n",
       "    </tr>\n",
       "  </tbody>\n",
       "</table>\n",
       "</div>"
      ],
      "text/plain": [
       "          Coef.  Std.Err.          t         P>|t|    [0.025    0.975]\n",
       "const  1.166546  0.108154  10.785923  2.718493e-18  0.951889  1.381202\n",
       "x1     0.338703  0.798411   0.424221  6.723437e-01 -1.245921  1.923327\n",
       "x2     1.886027  0.798411   2.362226  2.016276e-02  0.301402  3.470651"
      ]
     },
     "execution_count": 6,
     "metadata": {},
     "output_type": "execute_result"
    }
   ],
   "source": [
    "# The standard errors are inflated for highly multicolliner X\n",
    "n = 100; X = stats.multivariate_normal(cov=np.array(((1,.99),(.99,1)))).rvs(n); X=(X-X.mean(axis=0))/X.std(axis=0); print(\"X columns ARE standardized:\", \"column means\", X.mean(axis=0), \"column standard deviations\",  X.std(axis=0))\n",
    "X = sm.add_constant(X); Y = X.dot(np.ones(3)) + stats.norm().rvs(n); model = sm.OLS(Y,X); results = model.fit(); print(results.summary2().tables[2].values[3,2:]); results.summary2().tables[1]"
   ]
  },
  {
   "cell_type": "code",
   "execution_count": 7,
   "metadata": {
    "id": "1zoX3DiWKbb1"
   },
   "outputs": [
    {
     "name": "stdout",
     "output_type": "stream",
     "text": [
      "Variance Inflation Factors 0.9999999999999998 54.49591650298695 54.49591650298695\n"
     ]
    }
   ],
   "source": [
    "print(\"Variance Inflation Factors\", VIF(X,0),VIF(X,1),VIF(X,2))"
   ]
  },
  {
   "cell_type": "code",
   "execution_count": 8,
   "metadata": {
    "id": "kGgIvIAzhlBf"
   },
   "outputs": [
    {
     "name": "stdout",
     "output_type": "stream",
     "text": [
      "s(X^TX)^{-1/2}                   [0.10815267 0.7983976  0.7983976 ]\n",
      "s(VIF/(n-1)*Var[X])^{-1/2}       [0.10815267 0.7983976  0.7983976 ]\n",
      "\n",
      "Singular Values [14.109509274423184, 10.0, 0.9600770984488548] Singular Values^{-2} [0.005023150395029791, 0.01, 1.0848951796647082]\n",
      "s*(SUM_i V_ij^2 D_ii^{-2})^{1/2} [0.10815267 0.7983976  0.7983976 ]\n"
     ]
    }
   ],
   "source": [
    "s = (float(results.summary2().tables[0].iloc[-1,-1]))**.5 # residual error\n",
    "XtXinv = np.linalg.inv(X.T.dot(X)); print('s(X^TX)^{-1/2}                  ', s*np.diag(XtXinv)**0.5)\n",
    "VIF_formula = np.array([VIF(X,0),VIF(X,1),VIF(X,2)])\n",
    "# This formula doesn't work for the intercept since Var(X_intercept)=0\n",
    "VIF_formula[1:] = s*(VIF_formula[1:]/((n-1)*X.var(ddof=1,axis=0)[1:]))**0.5; VIF_formula[0] = s*XtXinv[0,0]**0.5; print('s(VIF/(n-1)*Var[X])^{-1/2}      ', VIF_formula)\n",
    "U,D,Vt = np.linalg.svd(X, full_matrices=False)\n",
    "print(\"\\nSingular Values\", list(D), \"Singular Values^{-2}\", list(D**(-2)))\n",
    "XtXinv_by_svd = (Vt.T*D**(-2)).dot(Vt) # will be the same (sans numeric error) to XtXinv\n",
    "XtXinv_by_svd_diag = (Vt.T**2*D**-2).sum(axis=1); print('s*(SUM_i V_ij^2 D_ii^{-2})^{1/2}', s*XtXinv_by_svd_diag**0.5) \n",
    "# confirming that these coefficient variances depend on the singular values"
   ]
  },
  {
   "cell_type": "markdown",
   "metadata": {
    "slideshow": {
     "slide_type": "slide"
    }
   },
   "source": [
    "# 5.2 Multicollinearity<br>and Variance Inflation Factors (VIFs)\n",
    "\n",
    "---\n"
   ]
  },
  {
   "cell_type": "code",
   "execution_count": 9,
   "metadata": {},
   "outputs": [
    {
     "data": {
      "image/png": "[encoded data removed]",
      "text/plain": [
       "<Figure size 1800x800 with 4 Axes>"
      ]
     },
     "metadata": {},
     "output_type": "display_data"
    }
   ],
   "source": [
    "U,D,Vt = np.linalg.svd(X, full_matrices=False)\n",
    "fig,ax = plt.subplots(2,2, figsize=(18,8)); ax[0,0].bar(x=range(3), height=D); ax[0,0].set_title(\"Singular Values\"); \n",
    "# This shows that the approximate reconstruction of X is very poor \n",
    "ax[1,0].hist(np.abs(U.dot(np.diag(D)).dot(Vt) - X).flatten()); ax[1,1].hist(np.abs(U[:,:2].dot(np.diag(D[:2])).dot(Vt[:2,:])-X).flatten()); ax[1,0].set_title(\"Roundoff error in full reconstruction of X\"); ax[1,1].set_title(\"Approximation error in compact reconstruction of X\"); ax[0,1].plot((U[:,:2].dot(np.diag(D[:2])).dot(Vt[:2,:])).ravel(), X.ravel(),'.', label='Compact Reconstruction:  X~ = (U[:,:2]*D[:2]).dot(Vt[:2,:])'); ax[0,1].plot((U.dot(np.diag(D)).dot(Vt)).ravel(), X.ravel(),'.', label='Full reconstruction:            X~ = (U*D).dot(Vt)'); ax[0,1].set_title(\"X is NOT SO poorly constructed with a lower rank approximation: X is NOT characteristically full rank\"); ax[0,1].set_ylabel(\"Original X\"); ax[0,1].set_xlabel(\"Reconstructed X\"); ax[0,1].legend(); fig.tight_layout()"
   ]
  },
  {
   "cell_type": "markdown",
   "metadata": {
    "id": "EX-PokSfhtvL",
    "slideshow": {
     "slide_type": "slide"
    }
   },
   "source": [
    "<a name=\"cell-sovling-Axb-math-pca\"></a>\n",
    "\n",
    "# 5.3 Principal Components Analysis (PCA) $X=UDV^T$ ([Return to TOC](#cell-solving))\n",
    "\n",
    "---\n",
    "\n",
    "[***Principal Components Analysis***](https://en.wikipedia.org/wiki/Principal_component_analysis) (***PCA***) is an ***unsupervised learning*** methodology uncovering linear structure in $X_{n \\times m}$. \n",
    "\n",
    "a ***PCA*** is computed as either\n",
    "\n",
    "$$\\underbrace{\\tilde X \\div \\sqrt{n} = U_{n \\times m}D_{m \\times m}(V^T)_{m \\times m}}_{\\text{singular value decomposition of the data matrix}}\\quad\\text{ or }\\quad\n",
    "\\underbrace{\\hat \\Sigma = (\\tilde X^T\\tilde X \\div n) = V_{m \\times m}D^2_{m \\times m}V^T_{m \\times m}}_{\\text{eigendecomposition of the data covariance matrix}}$$\n",
    "\n",
    "where the data columns of $X_{n \\times m}$ are centered and scaled by their column means $\\overline{X_{\\cdot j}}$ and standard deviations $\\hat \\sigma_{X_{\\cdot j}}$ as $\\tilde X_{\\cdot j}  = (X_{\\cdot j} - \\overline{X_{\\cdot j}}) / \\hat \\sigma_{X_{\\cdot j}}$ <font style=\"color:gray\">(unless the original scales of the data are part of the information that should be extracted)</font>\n",
    " \n",
    "This shows [the connection](https://math.stackexchange.com/questions/3869/what-is-the-intuitive-relationship-between-svd-and-pca) between ***SVD*** $X=UDV^T$ and the ***eigendecomposition*** of the  ***gramian matrix*** $X^TX = V D^2 V^T$ whose ***eigenvalues*** are the square of the ***singular values*** of $X$ and whose ***(semi-)orthonormal*** matrix $V^T$ is equal to that of the ***SVD*** and actually ***orthonormal*** for ***full rank*** $X$ (if the ***gramian*** is ***positive definite*** so all ***eigenvalues*** are ***nonnegative***)."
   ]
  },
  {
   "cell_type": "code",
   "execution_count": 10,
   "metadata": {
    "id": "v655SVXFhyqa"
   },
   "outputs": [
    {
     "data": {
      "text/plain": [
       "(array([1., 1., 1., 1., 1., 1., 1., 1., 1., 1., 1.]),\n",
       " (11.0, 11.000000000000005),\n",
       " array([6.60840025, 2.65046789, 0.62719727, 0.26959744, 0.2234511 ,\n",
       "        0.21159612, 0.13526199, 0.12290143, 0.07704665, 0.05203544,\n",
       "        0.02204441]))"
      ]
     },
     "execution_count": 10,
     "metadata": {},
     "output_type": "execute_result"
    }
   ],
   "source": [
    "mtcars = sm.datasets.get_rdataset(\"mtcars\"); Xtilde = (mtcars.data - mtcars.data.mean())/np.std(mtcars.data); U,D,Vt = np.linalg.svd(Xtilde/np.sqrt(Xtilde.shape[0])) # The actually PCA computation...\n",
    "# Xtilde.dot(Xtilde)/n is the sample covariance matrix for \"centered\" Xtilde \n",
    "# The trace of the sample covariance matrix is the sum of the diagonal of the covariance matrix... which is the sum of the variances.\n",
    "# - There are 11 variables and the Xtilde has been \"standardized\" so each variance is 1... so the trace is 11.\n",
    "# The sum of the eigenvalues of a square matrix equals the trace of the square matrix... the sum of the eigenvalues is thus the sum of the variances. \n",
    "np.var(Xtilde).values, (np.var(Xtilde).sum(), (D**2).sum()), D**2 "
   ]
  },
  {
   "cell_type": "markdown",
   "metadata": {
    "slideshow": {
     "slide_type": "slide"
    }
   },
   "source": [
    "# 5.3 Principal Components Analysis (PCA) \n",
    "\n",
    "---\n",
    "\n",
    "***PCA*** is the ***SVD*** of $X_{n \\times m}=U_{n \\times m}D_{m \\times m}(V^T)_{m \\times m}$ which provides \n",
    "\n",
    "<span style=\"font-size:48px\">\n",
    "<table><tr><td><list><li><b>Principle directions</b> in $X$ &nbsp;&nbsp;&nbsp;&nbsp;&nbsp;&nbsp;&nbsp;&nbsp;&nbsp;&nbsp;&nbsp;&nbsp;&nbsp; $V_{\\cdot j}$ (columns of $V$)<br>&nbsp;&nbsp;&nbsp;&nbsp;&nbsp;&nbsp;which are <b>semi-orthonormal</b> ($V_{\\cdot j}V_{\\cdot j}^T=1$) </li><br>\n",
    "    <li><b>Loadings (projections)</b> of $X_{i \\cdot}$ &nbsp;&nbsp;&nbsp;&nbsp; $U_{i \\cdot}$ (rows of $U$)<br>&nbsp;&nbsp;&nbsp;&nbsp;&nbsp;onto this coordinate system &nbsp;&nbsp;&nbsp;&nbsp;&nbsp;&nbsp;&nbsp; $U=XVD^{-1}$</li><br>\n",
    "    <li><b>Principle components</b> of $X$ &nbsp;&nbsp;&nbsp;&nbsp;&nbsp;&nbsp;&nbsp; $U_{\\cdot j}$ (columns of $U$)<br>&nbsp;&nbsp;&nbsp;&nbsp;&nbsp;which are <b>semi-orthonormal</b> ($U_{\\cdot j}^TU_{\\cdot j}=1$)<br>&nbsp;&nbsp;&nbsp;&nbsp;&nbsp;which also implies they are <b>linearly independent</b></li><br>\n",
    "    <li><b>Squared singular values</b> $\\lambda_j^2=D_{jj}^2$ giving the<br>&nbsp;&nbsp;&nbsp;&nbsp;&nbsp;\"proportion of total variance explained\" by each <br> &nbsp;&nbsp;&nbsp;&nbsp;&nbsp;$V_{\\cdot j}$ <b>principal direction</b>; namley, $\\require{cancel}\\lambda_j^2\\cancel{\\text{Var}[U_j]}^1$\n",
    "    </list> </td><td>\n",
    "<img src=\"https://miro.medium.com/max/596/1*QinDfRawRskupf4mU5bYSA.png\"></td></tr></table></span>\n",
    "\n",
    "The collection of $X_{\\cdot j}$ are assumed to be (likely ***standardized***) ***independent correlated random variables*** now represented by the ***standardized*** ($E[U_{\\cdot j}] = 0$ and $\\text{Var}(U_{\\cdot j}) = 1$) collection of ***observations*** $U_{\\cdot j}$ (scaled by $\\lambda_j^2$) indexed in a different coordinate system (defined by orthogonal basis vectors $V_{\\cdot j}$)\n",
    "such that the $U_{\\cdot j}$ vectors are ***uncorrelated*** (and hence empirically ***linearly independent***)"
   ]
  },
  {
   "cell_type": "markdown",
   "metadata": {
    "slideshow": {
     "slide_type": "skip"
    }
   },
   "source": [
    "<!-- \n",
    "\n",
    "# 5.3 Principal Components Analysis (PCA) \n",
    "\n",
    "---\n",
    "\n",
    "***PCA*** is the ***SVD*** of $X_{n \\times m}=U_{n \\times m}D_{m \\times m}(V^T)_{m \\times m}$ which provides \n",
    "\n",
    "<span style=\"font-size:48px\">\n",
    "<table><tr><td><list><li><b>Principle directions</b> in $X$ &nbsp;&nbsp;&nbsp;&nbsp;&nbsp;&nbsp;&nbsp;&nbsp;&nbsp;&nbsp;&nbsp;&nbsp;&nbsp; $V_{\\cdot j}$ (columns of $V$) </li><br>\n",
    "    <li><b>Loadings (projections)</b> of $X_{i \\cdot}$ &nbsp;&nbsp;&nbsp;&nbsp; $U_{i \\cdot}$ (rows of $U$)<br>&nbsp;&nbsp;&nbsp;&nbsp;&nbsp;onto this coordinate system &nbsp;&nbsp;&nbsp;&nbsp;&nbsp;&nbsp;&nbsp; $U=XVD^{-1}$</li><br>\n",
    "    <li><b>Principle components</b> of $X$ &nbsp;&nbsp;&nbsp;&nbsp;&nbsp;&nbsp;&nbsp; $U_{\\cdot j}$ (columns of $U$)<br>&nbsp;&nbsp;&nbsp;&nbsp;&nbsp;which are <b>uncorrelated and linearly independent</b></li><br>\n",
    "    <li><b>Squared singular values</b> $\\lambda_j^2=D_{jj}^2$ giving the<br>&nbsp;&nbsp;&nbsp;&nbsp;&nbsp;\"proportion of total variance explained\" by each $V_{\\cdot j}$\n",
    "    </list> </td><td>\n",
    "<img src=\"https://miro.medium.com/max/596/1*QinDfRawRskupf4mU5bYSA.png\"></td></tr></table></span>\n",
    "\n",
    "With all this in place we can confirm that the sum of the variances equals the sum of the ***squared singular values***: \n",
    "\n",
    "$$\\require{cancel}\\begin{align*}\n",
    "m = & {} \\text{Var}\\left(\\sum_j X_{\\cdot j}\\right) = \\sum_j \\text{Var}\\left( X_{\\cdot j}\\right) = \\sum_j \\text{E}\\left[ X_{\\cdot j}^2\\right] - \\cancel{\\text{E}\\left[ X_{\\cdot j}\\right]^2}^0  \\\\  \n",
    "{} = & \\sum_j \\text{E}\\left[ (U_{\\cdot -}[DV^T]_{\\cdot j })^2\\right] = \\sum_j \\text{E}\\left[  \\sum_i (U_{\\cdot i}[D V^T]_{i j })^2 \\right] = \\sum_j  (VD^2V^T)_{j j}  = \\sum_{j} V_{j j}^2D_{jj}^{2} \\text{ unfinished}\n",
    "\\end{align*}$$\n",
    "\n",
    "-->"
   ]
  },
  {
   "cell_type": "markdown",
   "metadata": {
    "slideshow": {
     "slide_type": "slide"
    }
   },
   "source": [
    "# 5.3 Principal Components Analysis (PCA) \n",
    "\n",
    "---\n",
    "\n",
    "***PCA*** is the ***SVD*** of $X_{n \\times m}=U_{n \\times m}D_{m \\times m}(V^T)_{m \\times m}$ which provides \n",
    "\n",
    "<span style=\"font-size:48px\">\n",
    "<table><tr><td><list><li><b>Principle directions</b> in $X$ &nbsp;&nbsp;&nbsp;&nbsp;&nbsp;&nbsp;&nbsp;&nbsp;&nbsp;&nbsp;&nbsp;&nbsp;&nbsp; $V_{\\cdot j}$ (columns of $V$) </li><br>\n",
    "    <li><b>Loadings (projections)</b> of $X_{i \\cdot}$ &nbsp;&nbsp;&nbsp;&nbsp; $U_{i \\cdot}$ (rows of $U$)<br>&nbsp;&nbsp;&nbsp;&nbsp;&nbsp;onto this coordinate system &nbsp;&nbsp;&nbsp;&nbsp;&nbsp;&nbsp;&nbsp; $U=XVD^{-1}$</li><br>\n",
    "    <li><b>Principle components</b> of $X$ &nbsp;&nbsp;&nbsp;&nbsp;&nbsp;&nbsp;&nbsp; $U_{\\cdot j}$ (columns of $U$)<br>&nbsp;&nbsp;&nbsp;&nbsp;&nbsp;which are <b>uncorrelated and linearly independent</b></li><br>\n",
    "    <li><b>Squared singular values</b> $\\lambda_j^2=D_{jj}^2$ giving the<br>&nbsp;&nbsp;&nbsp;&nbsp;&nbsp;\"proportion of total variance explained\" by each $V_{\\cdot j}$\n",
    "    </list> </td><td>\n",
    "<img src=\"https://miro.medium.com/max/596/1*QinDfRawRskupf4mU5bYSA.png\"></td></tr></table></span>\n",
    "\n",
    "Each column of $U$ and $X$ are linear combinations of each other...\n",
    "\n",
    "- $U_{\\cdot j} = \\left[X  V D^{-1}\\right]_{\\cdot j} = \\sum_{k=1}^m X_{\\cdot k} V_{k j}/\\lambda_j$ <font style=\"color:gray\">is a \"weighted average variable\" of the columns of $X$</font>\n",
    "- $X_{\\cdot j} = \\left[U D V^T \\right]_{\\cdot j} = \\sum_{k=1}^m \\lambda_k U_{\\cdot k} [V^T]_{k j} \\approx \\sum_{k=1}^r \\lambda_k U_{\\cdot k} [V^T]_{k j}$<font style=\"color:gray\"> is a \"weighted average variable\" of the columns of $U$</font><br>or can be a low rank approximation based on a ***compact SVD*** reconstruction\n",
    "\n",
    "and $\\require{cancel} \\text{Var}[\\sum_{j=1}^m \\lambda_j U_{\\cdot j}] = \\sum_{j=1}^m \\lambda_j^2 \\text{Var}[ U_{\\cdot j}] = \\sum_{j=1}^m \\sum_{k=1}^m  \\text{Var}[X_{\\cdot k} V_{k j}] = \\sum_{j=1}^m \\sum_{k=1}^m V_{k j}^2 \\cancel{\\text{Var}[X_{\\cdot k} ]}^1 = \\sum_{j=1}^m 1 =m $\n"
   ]
  },
  {
   "cell_type": "markdown",
   "metadata": {
    "slideshow": {
     "slide_type": "slide"
    }
   },
   "source": [
    "# 5.3 Principal Components Analysis (PCA) \n",
    "\n",
    "---\n",
    "\n",
    "***PCA*** is the ***SVD*** of $X_{n \\times m}=U_{n \\times m}D_{m \\times m}(V^T)_{m \\times m}$ which provides \n",
    "\n",
    "<span style=\"font-size:48px\">\n",
    "<table><tr><td><list><li><b>Principle directions</b> in $X$ &nbsp;&nbsp;&nbsp;&nbsp;&nbsp;&nbsp;&nbsp;&nbsp;&nbsp;&nbsp;&nbsp;&nbsp;&nbsp; $V_{\\cdot j}$ (columns of $V$) </li><br>\n",
    "    <li><b>Loadings (projections)</b> of $X_{i \\cdot}$ &nbsp;&nbsp;&nbsp;&nbsp; $U_{i \\cdot}$ (rows of $U$)<br>&nbsp;&nbsp;&nbsp;&nbsp;&nbsp;onto this coordinate system &nbsp;&nbsp;&nbsp;&nbsp;&nbsp;&nbsp;&nbsp; $U=XVD^{-1}$</li><br>\n",
    "    <li><b>Principle components</b> of $X$ &nbsp;&nbsp;&nbsp;&nbsp;&nbsp;&nbsp;&nbsp; $U_{\\cdot j}$ (columns of $U$)<br>&nbsp;&nbsp;&nbsp;&nbsp;&nbsp;which are <b>uncorrelated and linearly independent</b></li><br>\n",
    "    <li><b>Squared singular values</b> $\\lambda_j^2=D_{jj}^2$ giving the<br>&nbsp;&nbsp;&nbsp;&nbsp;&nbsp;\"proportion of total variance explained\" by each $V_{\\cdot j}$\n",
    "    </list> </td><td>\n",
    "<img src=\"https://miro.medium.com/max/596/1*QinDfRawRskupf4mU5bYSA.png\"></td></tr></table></span>\n",
    "\n"
   ]
  },
  {
   "cell_type": "code",
   "execution_count": 420,
   "metadata": {},
   "outputs": [
    {
     "name": "stdout",
     "output_type": "stream",
     "text": [
      "[[-0.14166014 -0.54567409 -0.49281905 -0.3558868  -0.55914771]]\n",
      "[[-0.14166014 -0.54567409 -0.49281905 -0.3558868  -0.55914771]]\n"
     ]
    }
   ],
   "source": [
    "i=1; X = stats.norm.rvs(size=(5,3))\n",
    "U,d,Vt = np.linalg.svd(X, full_matrices=False)\n",
    "j=0\n",
    "print((X @ (Vt.T)[:,[j]] / d[j]).T)\n",
    "print(U[:,[j]].T)"
   ]
  },
  {
   "cell_type": "code",
   "execution_count": 421,
   "metadata": {
    "id": "1jD4ITFSwdTz"
   },
   "outputs": [
    {
     "name": "stdout",
     "output_type": "stream",
     "text": [
      "[[-0.00609111 -1.20704628 -1.48879613 -0.61859934 -0.19793869]]\n",
      "[[-0.00609111 -1.20704628 -1.48879613 -0.61859934 -0.19793869]]\n"
     ]
    }
   ],
   "source": [
    "j=1\n",
    "print(X[:,[j]].T)\n",
    "print(((U*d)@Vt[:,[j]]).T)"
   ]
  },
  {
   "cell_type": "markdown",
   "metadata": {
    "slideshow": {
     "slide_type": "slide"
    }
   },
   "source": [
    "# 5.3 Principal Components Analysis (PCA) \n",
    "\n",
    "---"
   ]
  },
  {
   "cell_type": "code",
   "execution_count": 424,
   "metadata": {
    "id": "ZNEmnhR3hynr"
   },
   "outputs": [
    {
     "data": {
      "image/png": "[encoded data removed]",
      "text/plain": [
       "<Figure size 1800x500 with 3 Axes>"
      ]
     },
     "metadata": {},
     "output_type": "display_data"
    }
   ],
   "source": [
    "mtcars = sm.datasets.get_rdataset(\"mtcars\"); Xtilde = (mtcars.data - mtcars.data.mean())/np.std(mtcars.data)\n",
    "U,D,Vt = np.linalg.svd(Xtilde/np.sqrt(Xtilde.shape[0])) # The actually PCA computation...\n",
    "# Standard PCA analyses for so called \"Principle Components\": i^th column of U from the SVD is the i^th Principle Component\n",
    "# A compact SVD approximate reconstruction of Xtilde would use 1st through i^th Principle Components\n",
    "plt.figure(figsize=(18,5)); plt.subplot(131); plt.plot(D**2,'.'); plt.plot(D**2); plt.xlabel(\"Principle Component\"); plt.ylabel(\"Singular Values of ~X\"); plt.title(\"Variation Explained by Each Principle Component\"); plt.subplot(132); p=2; plt.plot(U[:,:p].dot(np.diag(D[:p])).dot(Vt[:p,:]).flatten(), Xtilde.values.flatten()/Xtilde.shape[0]**.5, '.', label=\"Rebuild ~X with 2 PCs\"); p=4; plt.plot(U[:,:p].dot(np.diag(D[:p])).dot(Vt[:p,:]).flatten(), Xtilde.values.flatten()/Xtilde.shape[0]**.5, '.', label=\"Rebuild ~X with 4 PCs\"); p=11; plt.plot(U[:,:p].dot(np.diag(D[:p])).dot(Vt[:p,:]).flatten(), Xtilde.values.flatten()/Xtilde.shape[0]**.5, '.', label=\"Rebuild ~X with 11 PCs\"); plt.legend(); plt.xlabel(\"Rebuilt value\"); plt.ylabel(\"Original value\"); plt.title(\"Reconstructing ~X from its Principle Components\"); plt.subplot(133); plt.plot(U[:,0],U[:,1],'.'); plt.xlabel(\"Principle Component 1\"); plt.ylabel(\"Principle Component 2\"); plt.title(\"Interpreting Principle Components of ~X\");\n",
    "for i in range(0, U.shape[0]):\n",
    "    if all(np.sum(((U[:i,:2]-U[i,:2])**2).dot([[1],[15]]), axis=1) > .02):\n",
    "        plt.text(U[i,0],U[i,1],mtcars.data.index[i], horizontalalignment=\"right\")\n",
    "for j in range(Vt.shape[0]):\n",
    "    plt.plot([0,Vt[0,j]],[0,Vt[1,j]],'k'); plt.text(Vt[0,j], Vt[1,j], mtcars.data.columns[j], color='r')\n",
    "# Third plot interprets the \"Principle Directions\" associated with each \"Principle Component\"\n",
    "# The first \"Principle Component\" (the first column of U from the SVD) points in the direction of cyl, disp negative mpg axes\n",
    "# The elements of the first column of U are the coordinates of the data points along this direction\n",
    "# The blue points are data points, and you can see their locations relative to the Priniple Directions"
   ]
  },
  {
   "cell_type": "markdown",
   "metadata": {
    "id": "8d3gU4sxjIPa",
    "slideshow": {
     "slide_type": "slide"
    }
   },
   "source": [
    "<a name=\"cell-sovling-X-UDVt\"></a>\n",
    "\n",
    "## 5.3.A SVD Versus Eigendecomposition for PCA (or PCR) ([Return to TOC](#cell-solving))\n",
    "\n",
    "---\n",
    "\n",
    "The ***PCA*** analyses above used an ***SVD*** computation; however <font style=\"color:gray\">(as discussed in this [stackoverflow](https://stats.stackexchange.com/questions/314046/why-does-andrew-ng-prefer-to-use-svd-and-not-eig-of-covariance-matrix-to-do-pca) conversation),</font><br>there are multiple distinct algorithms which could be used to compute $V^T$ and $D$ (and thus compute ***PCA***)\n",
    "\n",
    "- `np.linalg.svd(X)`/`np.linalg.svd(X^TX)`/`np.linalg.eig(X^TX)`/`np.linalg.eigh(X^TX)`\n",
    "\n",
    "But `np.linalg.svd(X)` is the best choice for two reasons:\n",
    "\n",
    "1. All computations generally entail ***roundoff error*** so $X^TX$ not only requires additional computation,<br>it also unneccesarily introduces numerical inaccuracy \n",
    "  - Even the ***singular values***/***eigenvalues*** $D_{ii}^2$ (of $X^TX$) tend to be less precice compared to the numerical accuracy of ***singular values*** $D_{ii}$ (of $X$) since squaring introducess the possibility for ***roundoff error***\n",
    "  \n",
    "2. The ***condition*** of $X$ for ***spectral radius*** ${\\rho(X) = \\max_i D_{ii}} > 1 > \\min_j D_{jj}$ is better than the ***condition*** of the ***gramian*** $X^TX$ with ***spectral radius*** ${\\rho(X^TX) = \\max_i D_{ii}^2} >> 1 >> \\min_j D_{jj}^2$ since\n",
    "   \n",
    "   $$\\kappa(X) = \\frac{\\max_i D_{ii}}{\\min_j D_{jj}} << \\frac{\\max_i D_{ii}^2}{\\min_j D_{jj}^2} = \\kappa(X^TX) \\quad \\text{ or } \\quad \\kappa(X^TX) = \\frac{\\lambda_{max}^2}{\\lambda_{min}^2} >> \\frac{\\lambda_{max}}{\\lambda_{min}} = \\kappa(X)$$\n",
    "\n"
   ]
  },
  {
   "cell_type": "markdown",
   "metadata": {
    "slideshow": {
     "slide_type": "slide"
    }
   },
   "source": [
    "<a name=\"cell-sovling-Axb-math-pca-pcr\"></a>\n",
    "\n",
    "## 5.3.A SVD Versus Eigendecomposition for PCA (or PCR)\n",
    "\n",
    "---\n"
   ]
  },
  {
   "cell_type": "code",
   "execution_count": 427,
   "metadata": {
    "id": "6O4knk5SjaDw"
   },
   "outputs": [
    {
     "name": "stdout",
     "output_type": "stream",
     "text": [
      "The total variance 7.0 should match the sum of the eigenvalues\n",
      "which is also equal to the sum of squares of singular values.\n",
      "\n",
      "[1.43104   1.1419107 1.0709775 1.0176375 0.9354291 0.7341884 0.6688168] 7.000000000000001\n",
      "[1.43104   1.1419107 1.0709775 1.0176375 0.9354291 0.7341884 0.6688168] 6.999999999999995\n",
      "[1.43104   1.1419107 1.0709775 1.0176375 0.9354291 0.7341884 0.6688168] 6.999999999999999\n",
      "[1.43104   1.1419107 1.0709775 1.0176375 0.9354291 0.7341884 0.6688168] 6.999999999999999\n",
      "[1.43104   1.1419107 1.0709775 1.0176375 0.9354291 0.7341884 0.6688168] 6.999999999999996\n",
      "[1.43104   1.1419107 1.0709775 1.0176375 0.9354291 0.7341884 0.6688168] 6.999999999999998\n",
      "[1.43104   1.1419107 1.0709775 1.0176375 0.9354291 0.7341884 0.6688168] 6.999999999999995\n"
     ]
    }
   ],
   "source": [
    "np.set_printoptions(precision=7)\n",
    "n,m = 100,7; X = stats.norm().rvs(size=(n,m)); X = (X - X.mean(axis=0))/X.std(axis=0)\n",
    "print(\"The total variance\", X.var(axis=0).sum(), end=\" \"); print(\"should match the sum of the eigenvalues\"); print(\"which is also equal to the sum of squares of singular values.\\n\")\n",
    "# Traditional PCA: eigendecomposition of the covariance matrix; np.linalg.eigh # \"complex Hermitian (conjugate symmetric) or a real symmetric matrix.\"\n",
    "eignvals = np.sort(np.linalg.eigh(np.cov(X.T, ddof=0))[0])[::-1]; print(eignvals, eignvals.sum())\n",
    "# Traditional PCA: eigendecomposition of the covariance matrix # np.linalg.eig: general eigendcomposition function\n",
    "eignvals = np.sort(np.linalg.eig(np.cov(X.T, ddof=0))[0])[::-1]; print(eignvals, eignvals.sum())\n",
    "# Traditional PCA: eigendecomposition of the covariance matrix # SVD/eigendecomposition equivalence for symmetric positive definite matrices\n",
    "eignvals = np.linalg.svd(np.cov(X.T, ddof=0))[1]; print(eignvals, eignvals.sum())\n",
    "# Traditional PCA: eigendecomposition of the covariance matrix # np.linalg.eigh with matrix-based covariance computation\n",
    "eignvals = np.sort(np.linalg.eigh(X.T.dot(X)/n)[0])[::-1]; print(eignvals, eignvals.sum())\n",
    "# Traditional PCA: eigendecomposition of the covariance matrix # np.linalg.eig with matrix-based covariance computation\n",
    "eignvals = np.sort(np.linalg.eig(X.T.dot(X)/n)[0])[::-1]; print(eignvals, eignvals.sum())\n",
    "# Traditional PCA: eigendecomposition of the covariance matrix # np.linalg.eig with matrix-based covariance computation\n",
    "eignvals = np.linalg.svd(X.T.dot(X)/n)[1]; print(eignvals, eignvals.sum())\n",
    "# PCA with SVD \n",
    "singvals = np.linalg.svd(X/n**0.5)[1]; print(singvals**2, (singvals**2).sum())"
   ]
  },
  {
   "cell_type": "markdown",
   "metadata": {},
   "source": [
    "In ***PCA***, because of the generally increased ***condition number*** of the ***covariance matrix*** $ X^T  X$ relative to the scaled data matrix $ X$, applying ***SVD*** to $ X$ is more numerically stable than computing the ***eigendecomposition*** or ***SVD*** of $ X^T  X$"
   ]
  },
  {
   "cell_type": "markdown",
   "metadata": {
    "slideshow": {
     "slide_type": "slide"
    }
   },
   "source": [
    "## 5.3.A SVD Versus Eigendecomposition for PCA (or PCR)\n",
    "\n",
    "---\n",
    "\n",
    "However..."
   ]
  },
  {
   "cell_type": "code",
   "execution_count": 428,
   "metadata": {},
   "outputs": [
    {
     "name": "stdout",
     "output_type": "stream",
     "text": [
      "23.4 µs ± 89.6 ns per loop (mean ± std. dev. of 7 runs, 10000 loops each)\n"
     ]
    }
   ],
   "source": [
    "%%timeit\n",
    "np.linalg.eigh(np.cov(X.T, ddof=0))"
   ]
  },
  {
   "cell_type": "code",
   "execution_count": 431,
   "metadata": {},
   "outputs": [
    {
     "name": "stdout",
     "output_type": "stream",
     "text": [
      "31.1 µs ± 261 ns per loop (mean ± std. dev. of 7 runs, 10000 loops each)\n"
     ]
    }
   ],
   "source": [
    "%%timeit\\\\ np.linalg.eig(np.cov(X.T, ddof=0))"
   ]
  },
  {
   "cell_type": "code",
   "execution_count": 432,
   "metadata": {},
   "outputs": [
    {
     "name": "stdout",
     "output_type": "stream",
     "text": [
      "28.2 µs ± 160 ns per loop (mean ± std. dev. of 7 runs, 10000 loops each)\n"
     ]
    }
   ],
   "source": [
    "%%timeit\\\\ np.linalg.svd(np.cov(X.T, ddof=0))"
   ]
  },
  {
   "cell_type": "code",
   "execution_count": 433,
   "metadata": {},
   "outputs": [
    {
     "name": "stdout",
     "output_type": "stream",
     "text": [
      "9.14 µs ± 12.2 ns per loop (mean ± std. dev. of 7 runs, 100000 loops each)\n"
     ]
    }
   ],
   "source": [
    "%%timeit\\\\ np.linalg.eigh(X.T.dot(X)/n)"
   ]
  },
  {
   "cell_type": "code",
   "execution_count": 434,
   "metadata": {},
   "outputs": [
    {
     "name": "stdout",
     "output_type": "stream",
     "text": [
      "16.6 µs ± 73.1 ns per loop (mean ± std. dev. of 7 runs, 100000 loops each)\n"
     ]
    }
   ],
   "source": [
    "%%timeit\\\\ np.linalg.eig(X.T.dot(X)/n)"
   ]
  },
  {
   "cell_type": "code",
   "execution_count": 435,
   "metadata": {},
   "outputs": [
    {
     "name": "stdout",
     "output_type": "stream",
     "text": [
      "13.8 µs ± 38.3 ns per loop (mean ± std. dev. of 7 runs, 100000 loops each)\n"
     ]
    }
   ],
   "source": [
    "%%timeit\\\\ np.linalg.svd(X.T.dot(X)/n)"
   ]
  },
  {
   "cell_type": "code",
   "execution_count": 436,
   "metadata": {},
   "outputs": [
    {
     "name": "stdout",
     "output_type": "stream",
     "text": [
      "310 µs ± 17.8 µs per loop (mean ± std. dev. of 7 runs, 1000 loops each)\n"
     ]
    }
   ],
   "source": [
    "%%timeit\\\\ np.linalg.svd(X/n**0.5)"
   ]
  },
  {
   "cell_type": "markdown",
   "metadata": {
    "slideshow": {
     "slide_type": "slide"
    }
   },
   "source": [
    "<a name=\"cell-sovling-Axb-math-ica\"></a>\n",
    "\n",
    "## 5.3.B Independent Components Analysis (ICA) ([Return to TOC](#cell-solving))\n",
    "\n",
    "---\n",
    "\n",
    "- ***Linear independence*** is not the same as ***statistical independence***\n",
    "- ***Principal components*** (columns of $U$ in $X=UDV^T$) are ***linear independent*** $\\Longrightarrow$ (empirically) ***uncorrelated***\n",
    "- The example shows that (as well as the ***principal components***) the ***principal directions*** (rows of $V^T$)  are ***linearly independent*** but elements of the ***principal components*** (the entries in the rows of $U$) are ***statistically dependent***\n",
    "\n",
    "<span style='color:white'>\n",
    "    \n",
    "***Independent Component Analysis (ICA)*** instead finds directions which may be ***linearly dependent*** but which nonetheless instead form a ***basis*** under which the data actually IS (empirically) ***statistically independent*** \n",
    "\n",
    "***PCA*** identifies sequential ***principal directions*** of maximal data variation; whereas, ***ICA*** finds directions maximizing ***kurtosis*** (***heavy tailedness***); so, ***PCA*** naturally identifies ***Gaussian covariance structure***; whereas, ***ICA*** contrarily works in the context of ***Anti-Gaussianity***... the less ***Gaussian*** the data is the better ***ICA*** can find \"pointy independent directions\"\n",
    "    \n",
    "</span>\n",
    "\n",
    "|![](https://alliance.seas.upenn.edu/~cis520/dynamic/2022/wiki/uploads/Lectures/PCA_ICA.png)|![](https://alliance.seas.upenn.edu/~cis520/dynamic/2022/wiki/uploads/Lectures/PCA_ICA.png)|\n",
    "|-|-|\n",
    "| | |\n",
    "\n",
    "\n"
   ]
  },
  {
   "cell_type": "markdown",
   "metadata": {
    "slideshow": {
     "slide_type": "slide"
    }
   },
   "source": [
    "<a name=\"cell-sovling-Axb-math-ica\"></a>\n",
    "\n",
    "## 5.3.B Independent Components Analysis (ICA) ([Return to TOC](#cell-solving))\n",
    "\n",
    "---\n",
    "\n",
    "- ***Linear independence*** is not the same as ***statistical independence***\n",
    "- ***Principal components*** (columns of $U$ in $X=UDV^T$) are ***linear independent*** $\\Longrightarrow$ (empirically) ***uncorrelated***\n",
    "- The example shows that (as well as the ***principal components***) the ***principal directions*** (rows of $V^T$)  are ***linearly independent*** but elements of the ***principal components*** (the entries in the rows of $U$) are ***statistically dependent***\n",
    "\n",
    "***Independent Component Analysis (ICA)*** instead finds directions which may be ***linearly dependent*** but which nonetheless instead form a ***basis*** under which the data actually IS (empirically) ***statistically independent*** \n",
    "\n",
    "***PCA*** identifies sequential ***principal directions*** of maximal data variation; whereas, ***ICA*** finds directions maximizing ***kurtosis*** (***heavy tailedness***); so, ***PCA*** naturally identifies ***Gaussian covariance structure***; whereas, ***ICA*** contrarily works in the context of ***Anti-Gaussianity***... the less ***Gaussian*** the data is the better ***ICA*** can find \"pointy independent directions\"\n",
    "\n",
    "|![](https://alliance.seas.upenn.edu/~cis520/dynamic/2022/wiki/uploads/Lectures/PCA_ICA.png)|![](https://alliance.seas.upenn.edu/~cis520/dynamic/2022/wiki/uploads/Lectures/PCA_ICA.png)|\n",
    "|-|-|\n",
    "| | |\n",
    "\n",
    "\n"
   ]
  },
  {
   "cell_type": "markdown",
   "metadata": {
    "slideshow": {
     "slide_type": "slide"
    }
   },
   "source": [
    "\n",
    "<a name=\"cell-sovling-Axb-math-pcr\"></a>\n",
    "\n",
    "# 5.4 Principal Components Regression (PCR) ([Return to TOC](#cell-solving))\n",
    "\n",
    "---\n",
    "\n",
    "For ***full rank*** $X_{n \\times m}$, the ***SVD*** $X=UDV^T$ produces an ***orthonormal*** $V$ so that the data point\n",
    "\n",
    "$$X_{i \\cdot} = U_{i \\cdot} DV^T \\quad \\text{ or } \\quad x_i = \\underbrace{VD}_{A}u_i$$ \n",
    "can be be represented by $U_{i \\cdot}$ in the ***orthogonal basis*** defined by the columns of $A=VD$\n"
   ]
  },
  {
   "cell_type": "code",
   "execution_count": 11,
   "metadata": {
    "slideshow": {
     "slide_type": "-"
    }
   },
   "outputs": [
    {
     "name": "stdout",
     "output_type": "stream",
     "text": [
      "[ 0.17941679 -1.46251905  0.06444479] \n",
      " [ 0.17941679 -1.46251905  0.06444479]\n"
     ]
    }
   ],
   "source": [
    "i=1; X = stats.norm.rvs(size=(5,3)); \n",
    "U,d,Vt = np.linalg.svd(X, full_matrices=False)\n",
    "print(X[i,:], \"\\n\", (U[i,:]*d)@Vt) # U[i,:]*d is the \"broadcasted\" version of U[i,:]@np.diag(D) # https://numpy.org/doc/stable/user/basics.broadcasting.html"
   ]
  },
  {
   "cell_type": "markdown",
   "metadata": {},
   "source": [
    "- <font style='color:white'>Data point $X_{i \\cdot}$ is represented in the ***standard (orthonormal) basis***<br>but the columns $X_{\\cdot j}$ are not necessarily ***linearly independent*** but</font>\n",
    "\n",
    "\n",
    "- <font style='color:white'>Data point $U_{i \\cdot}$ is represented in an ***orthogonal basis***<br>and $U$ itself has ***linearly independent*** (***semi-orthonormal*** $U^TU = I_{m \\times m}$) columns $U_{\\cdot j}$</font>\n",
    "\n"
   ]
  },
  {
   "cell_type": "markdown",
   "metadata": {
    "slideshow": {
     "slide_type": "slide"
    }
   },
   "source": [
    "\n",
    "<a name=\"cell-sovling-Axb-math-pcr\"></a>\n",
    "\n",
    "# 5.4 Principal Components Regression (PCR) ([Return to TOC](#cell-solving))\n",
    "\n",
    "---\n",
    "\n",
    "For ***full rank*** $X_{n \\times m}$, the ***SVD*** $X=UDV^T$ produces an ***orthonormal*** $V$ so that the data point\n",
    "\n",
    "$$X_{i \\cdot} = U_{i \\cdot} DV^T \\quad \\text{ or } \\quad x_i = \\underbrace{VD}_{A}u_i$$ \n",
    "can be be represented by $U_{i \\cdot}$ in the ***orthogonal basis*** defined by the columns of $A=VD$\n"
   ]
  },
  {
   "cell_type": "code",
   "execution_count": 441,
   "metadata": {
    "slideshow": {
     "slide_type": "-"
    }
   },
   "outputs": [
    {
     "name": "stdout",
     "output_type": "stream",
     "text": [
      "[-0.9030599 -0.0222713  0.7074139] \n",
      " [-0.9030599 -0.0222713  0.7074139]\n"
     ]
    }
   ],
   "source": [
    "i=1; X = stats.norm.rvs(size=(5,3)); \n",
    "U,d,Vt = np.linalg.svd(X, full_matrices=False)\n",
    "print(X[i,:], \"\\n\", (U[i,:]*d)@Vt) # U[i,:]*d is the \"broadcasted\" version of U[i,:]@np.diag(D) # https://numpy.org/doc/stable/user/basics.broadcasting.html"
   ]
  },
  {
   "cell_type": "markdown",
   "metadata": {},
   "source": [
    "- Data point $X_{i \\cdot}$ is represented in the ***standard (orthonormal) basis***<br>but the columns $X_{\\cdot j}$ are not necessarily ***linearly independent*** but\n",
    "\n",
    "\n",
    "- Data point $U_{i \\cdot}$ is represented in an ***orthogonal basis***<br>and $U$ itself has ***linearly independent*** (***semi-orthonormal*** $U^TU = I_{m \\times m}$) columns $U_{\\cdot j}$\n",
    "\n"
   ]
  },
  {
   "cell_type": "markdown",
   "metadata": {
    "slideshow": {
     "slide_type": "slide"
    }
   },
   "source": [
    "\n",
    "<a name=\"cell-sovling-Axb-math-pcr\"></a>\n",
    "\n",
    "# 5.4 Principal Components Regression (PCR) ([Return to TOC](#cell-solving))\n",
    "\n",
    "---\n",
    "\n",
    "For ***full rank*** $X_{n \\times m}$, the ***SVD*** $X=UDV^T$ produces an ***orthonormal*** $V$ so that the data point\n",
    "\n",
    "$$X_{i \\cdot} = U_{i \\cdot} DV^T \\quad \\text{ or } \\quad x_i = \\underbrace{VD}_{A}u_i$$ \n",
    "can be be represented by $U_{i \\cdot}$ in the ***orthogonal basis*** defined by the columns of $A=VD$\n"
   ]
  },
  {
   "cell_type": "code",
   "execution_count": 441,
   "metadata": {
    "slideshow": {
     "slide_type": "-"
    }
   },
   "outputs": [
    {
     "name": "stdout",
     "output_type": "stream",
     "text": [
      "[-0.9030599 -0.0222713  0.7074139] \n",
      " [-0.9030599 -0.0222713  0.7074139]\n"
     ]
    }
   ],
   "source": [
    "i=1; X = stats.norm.rvs(size=(5,3)); \n",
    "U,d,Vt = np.linalg.svd(X, full_matrices=False)\n",
    "print(X[i,:], \"\\n\", (U[i,:]*d)@Vt) # U[i,:]*d is the \"broadcasted\" version of U[i,:]@np.diag(D) # https://numpy.org/doc/stable/user/basics.broadcasting.html"
   ]
  },
  {
   "cell_type": "markdown",
   "metadata": {},
   "source": [
    "- A point in $m$-dimensional space can be equivalently defined by different ***bases***, so rows of $X$ and $U$ represent the same collection of points under different ***bases***; but, $U$ has ***linearly independent*** columns so it has no ***multicollinearity***\n",
    "\n",
    "- ***PCA*** initially figures as an ***unsupervised learning*** methodology, but it also has an interesting use in linear regression where it can replace a ***linearly dependent*** $X$ with ***linearly independent (semi-orthogonal)*** $U$ \n",
    "\n",
    "\n"
   ]
  },
  {
   "cell_type": "markdown",
   "metadata": {
    "id": "1KW4HUcXiYMN",
    "slideshow": {
     "slide_type": "slide"
    }
   },
   "source": [
    "# 5.4 Principal Components Regression (PCR) \n",
    "\n",
    "---\n",
    "\n",
    "***Principal components*** provides a \"latent factors\" interpretation as $U$ columns are linear combinations of the original columns of $X$; namely, $x_i = VDu_i$ but where the elements of $u_i$ are empirically uncorrelated, and hence have no ***multicollinearity***...\n",
    "\n",
    "$\\hat y_i = \\beta_0 + \\beta_1 X_{i1} + \\beta_2 X_{i2} + \\beta_3 X_{i3} + \\cdots =  \\beta_0 + \\tilde\\beta_1 U_{i1} + \\tilde\\beta_2 U_{i2} + \\tilde\\beta_3 U_{i3} + \\cdots \\quad \\text{ since $X_{\\cdot j}$ and $U_{\\cdot j}$}$\n",
    "\n",
    "$U_{\\cdot j} = \\left[X  V D^{-1}\\right]_{\\cdot j} = \\sum_{k=1}^m X_{\\cdot k} V_{k j}/\\lambda_j \\quad \\text{ and } \\quad X_{\\cdot j} = \\left[U D V^T \\right]_{\\cdot j} = \\sum_{k=1}^m \\lambda_k U_{\\cdot k} [V^T]_{k j} \\quad \\text{ are linear combinations of each other...}$\n",
    "\n",
    "\n",
    "> <font style='color:white'>$U$ from the ***SVD*** of $X$ or computable from $V$ and $D$ of the ***gramian*** $X^TX$ ***eigendecomposition***</font>\n",
    ">\n",
    "> <font style='color:white'>$$X = UDV^T \\Longrightarrow \\underbrace{XVD^{-1} = UDV^TVD^{-1} = U}_{\\text{expressed for a single data point }D^{-1}V^Tx_i = u_i}$$</font>\n",
    ">\n",
    "> - <font style='color:white'>has ***SVD*** $U=U\\Lambda W^T = U_{n\\times m}I_{m \\times m}I_{m \\times m}$ (characteristic of all ***orthogonal matrices***)</font>\n",
    "> - <font style='color:white'>so $U$ ***singular values*** $\\lambda_i = \\Lambda_{ii} = I_{ii} = 1$ and $1 = \\kappa(U)\\;$ ($<< \\kappa(X)$ ***ill-conditioned***)</font>\n",
    "> - <font style='color:white'>avoids attribution uncertainty driven variance inflaction from ***multicollinearity***</font>\n",
    ">    - <font style='color:white'>by replacing a potentially ***ill-conditioned*** $X$ with a ***perfectly conditioned*** $U$</font>\n",
    ">    - <font style='color:white'>since the ***singular values*** of $X$ have already been factored out in $UDV^T$</font>\n"
   ]
  },
  {
   "cell_type": "markdown",
   "metadata": {
    "id": "1KW4HUcXiYMN",
    "slideshow": {
     "slide_type": "slide"
    }
   },
   "source": [
    "# 5.4 Principal Components Regression (PCR) \n",
    "\n",
    "---\n",
    "\n",
    "***Principal components*** provides a \"latent factors\" interpretation as $U$ columns are linear combinations of the original columns of $X$; namely, $x_i = VDu_i$ but where the elements of $u_i$ are empirically uncorrelated, and hence have no ***multicollinearity***...\n",
    "\n",
    "$\\hat y_i = \\beta_0 + \\beta_1 X_{i1} + \\beta_2 X_{i2} + \\beta_3 X_{i3} + \\cdots =  \\beta_0 + \\tilde\\beta_1 U_{i1} + \\tilde\\beta_2 U_{i2} + \\tilde\\beta_3 U_{i3} + \\cdots \\quad \\text{ since $X_{\\cdot j}$ and $U_{\\cdot j}$}$\n",
    "\n",
    "$U_{\\cdot j} = \\left[X  V D^{-1}\\right]_{\\cdot j} = \\sum_{k=1}^m X_{\\cdot k} V_{k j}/\\lambda_j \\quad \\text{ and } \\quad X_{\\cdot j} = \\left[U D V^T \\right]_{\\cdot j} = \\sum_{k=1}^m \\lambda_k U_{\\cdot k} [V^T]_{k j} \\quad \\text{ are linear combinations of each other...}$\n",
    "\n",
    "\n",
    "> $U$ from the ***SVD*** of $X$ or computable from $V$ and $D$ of the ***gramian*** $X^TX$ ***eigendecomposition*** \n",
    ">\n",
    ">  $$X = UDV^T \\Longrightarrow \\underbrace{XVD^{-1} = UDV^TVD^{-1} = U}_{\\text{expressed for a single data point }D^{-1}V^Tx_i = u_i}$$\n",
    ">\n",
    "> - has ***SVD*** $U=U\\Lambda W^T = U_{n\\times m}I_{m \\times m}I_{m \\times m}$ (characteristic of all ***orthogonal matrices***)\n",
    "> - so $U$ ***singular values*** $\\lambda_i = \\Lambda_{ii} = I_{ii} = 1$ and $1 = \\kappa(U)\\;$ ($<< \\kappa(X)$ ***ill-conditioned***)\n",
    "> - avoids attribution uncertainty driven variance inflaction from ***multicollinearity***\n",
    ">    - by replacing a potentially ***ill-conditioned*** $X$ with a ***perfectly conditioned*** $U$\n",
    ">    - since the ***singular values*** of $X$ have already been factored out in $UDV^T$\n"
   ]
  },
  {
   "cell_type": "markdown",
   "metadata": {
    "slideshow": {
     "slide_type": "slide"
    }
   },
   "source": [
    "# 5.4 Principal Components Regression (PCR) \n",
    "\n",
    "---\n"
   ]
  },
  {
   "cell_type": "code",
   "execution_count": 467,
   "metadata": {
    "id": "PuRAtOkgiZJU"
   },
   "outputs": [
    {
     "data": {
      "text/html": [
       "<div>\n",
       "<style scoped>\n",
       "    .dataframe tbody tr th:only-of-type {\n",
       "        vertical-align: middle;\n",
       "    }\n",
       "\n",
       "    .dataframe tbody tr th {\n",
       "        vertical-align: top;\n",
       "    }\n",
       "\n",
       "    .dataframe thead th {\n",
       "        text-align: right;\n",
       "    }\n",
       "</style>\n",
       "<table border=\"1\" class=\"dataframe\">\n",
       "  <thead>\n",
       "    <tr style=\"text-align: right;\">\n",
       "      <th></th>\n",
       "      <th>0</th>\n",
       "      <th>1</th>\n",
       "      <th>2</th>\n",
       "      <th>3</th>\n",
       "    </tr>\n",
       "  </thead>\n",
       "  <tbody>\n",
       "    <tr>\n",
       "      <th>0</th>\n",
       "      <td>Model:</td>\n",
       "      <td>OLS</td>\n",
       "      <td>Adj. R-squared:</td>\n",
       "      <td>0.839</td>\n",
       "    </tr>\n",
       "    <tr>\n",
       "      <th>1</th>\n",
       "      <td>Dependent Variable:</td>\n",
       "      <td>y</td>\n",
       "      <td>AIC:</td>\n",
       "      <td>275.2616</td>\n",
       "    </tr>\n",
       "    <tr>\n",
       "      <th>2</th>\n",
       "      <td>Date:</td>\n",
       "      <td>2024-02-02 09:49</td>\n",
       "      <td>BIC:</td>\n",
       "      <td>283.0771</td>\n",
       "    </tr>\n",
       "    <tr>\n",
       "      <th>3</th>\n",
       "      <td>No. Observations:</td>\n",
       "      <td>100</td>\n",
       "      <td>Log-Likelihood:</td>\n",
       "      <td>-134.63</td>\n",
       "    </tr>\n",
       "    <tr>\n",
       "      <th>4</th>\n",
       "      <td>Df Model:</td>\n",
       "      <td>2</td>\n",
       "      <td>F-statistic:</td>\n",
       "      <td>258.8</td>\n",
       "    </tr>\n",
       "    <tr>\n",
       "      <th>5</th>\n",
       "      <td>Df Residuals:</td>\n",
       "      <td>97</td>\n",
       "      <td>Prob (F-statistic):</td>\n",
       "      <td>1.30e-39</td>\n",
       "    </tr>\n",
       "    <tr>\n",
       "      <th>6</th>\n",
       "      <td>R-squared:</td>\n",
       "      <td>0.842</td>\n",
       "      <td>Scale:</td>\n",
       "      <td>0.89154</td>\n",
       "    </tr>\n",
       "  </tbody>\n",
       "</table>\n",
       "</div>"
      ],
      "text/plain": [
       "                     0                 1                    2         3\n",
       "0               Model:               OLS      Adj. R-squared:     0.839\n",
       "1  Dependent Variable:                 y                 AIC:  275.2616\n",
       "2                Date:  2024-02-02 09:49                 BIC:  283.0771\n",
       "3    No. Observations:               100      Log-Likelihood:   -134.63\n",
       "4            Df Model:                 2         F-statistic:     258.8\n",
       "5        Df Residuals:                97  Prob (F-statistic):  1.30e-39\n",
       "6           R-squared:             0.842               Scale:   0.89154"
      ]
     },
     "execution_count": 467,
     "metadata": {},
     "output_type": "execute_result"
    }
   ],
   "source": [
    "n = 100; X = stats.multivariate_normal(cov=np.array(((1,.999),(.999,1)))).rvs(n)\n",
    "Y = 1 + X.dot(np.ones(2)) + stats.norm().rvs(n)  \n",
    "model = sm.OLS(Y,sm.add_constant(X)); results = model.fit(); results.summary2().tables[0] # scale = residual variance\n",
    "#float(results.summary2().tables[0].iloc[-1,-1])**.5"
   ]
  },
  {
   "cell_type": "code",
   "execution_count": 469,
   "metadata": {
    "id": "K_mltS7DpgQy"
   },
   "outputs": [
    {
     "data": {
      "text/html": [
       "<div>\n",
       "<style scoped>\n",
       "    .dataframe tbody tr th:only-of-type {\n",
       "        vertical-align: middle;\n",
       "    }\n",
       "\n",
       "    .dataframe tbody tr th {\n",
       "        vertical-align: top;\n",
       "    }\n",
       "\n",
       "    .dataframe thead th {\n",
       "        text-align: right;\n",
       "    }\n",
       "</style>\n",
       "<table border=\"1\" class=\"dataframe\">\n",
       "  <thead>\n",
       "    <tr style=\"text-align: right;\">\n",
       "      <th></th>\n",
       "      <th>Coef.</th>\n",
       "      <th>Std.Err.</th>\n",
       "      <th>t</th>\n",
       "      <th>P&gt;|t|</th>\n",
       "      <th>[0.025</th>\n",
       "      <th>0.975]</th>\n",
       "    </tr>\n",
       "  </thead>\n",
       "  <tbody>\n",
       "    <tr>\n",
       "      <th>const</th>\n",
       "      <td>1.065204</td>\n",
       "      <td>0.097378</td>\n",
       "      <td>10.938885</td>\n",
       "      <td>1.276737e-18</td>\n",
       "      <td>0.871936</td>\n",
       "      <td>1.258472</td>\n",
       "    </tr>\n",
       "    <tr>\n",
       "      <th>x1</th>\n",
       "      <td>0.050351</td>\n",
       "      <td>2.167678</td>\n",
       "      <td>0.023228</td>\n",
       "      <td>9.815161e-01</td>\n",
       "      <td>-4.251889</td>\n",
       "      <td>4.352591</td>\n",
       "    </tr>\n",
       "    <tr>\n",
       "      <th>x2</th>\n",
       "      <td>2.012132</td>\n",
       "      <td>2.165624</td>\n",
       "      <td>0.929123</td>\n",
       "      <td>3.551315e-01</td>\n",
       "      <td>-2.286032</td>\n",
       "      <td>6.310295</td>\n",
       "    </tr>\n",
       "  </tbody>\n",
       "</table>\n",
       "</div>"
      ],
      "text/plain": [
       "          Coef.  Std.Err.          t         P>|t|    [0.025    0.975]\n",
       "const  1.065204  0.097378  10.938885  1.276737e-18  0.871936  1.258472\n",
       "x1     0.050351  2.167678   0.023228  9.815161e-01 -4.251889  4.352591\n",
       "x2     2.012132  2.165624   0.929123  3.551315e-01 -2.286032  6.310295"
      ]
     },
     "execution_count": 469,
     "metadata": {},
     "output_type": "execute_result"
    }
   ],
   "source": [
    "results.summary2().tables[1]"
   ]
  },
  {
   "cell_type": "code",
   "execution_count": 472,
   "metadata": {
    "id": "qfExbNJxiZLb"
   },
   "outputs": [
    {
     "data": {
      "text/plain": [
       "(539.282932587103, 539.282932587103)"
      ]
     },
     "execution_count": 472,
     "metadata": {},
     "output_type": "execute_result"
    }
   ],
   "source": [
    "VIF(X,0),VIF(X,1)"
   ]
  },
  {
   "cell_type": "markdown",
   "metadata": {
    "slideshow": {
     "slide_type": "slide"
    }
   },
   "source": [
    "# 5.4 Principal Components Regression (PCR) \n",
    "\n",
    "---\n"
   ]
  },
  {
   "cell_type": "code",
   "execution_count": 473,
   "metadata": {
    "id": "V3O04R2bib95"
   },
   "outputs": [
    {
     "data": {
      "text/html": [
       "<div>\n",
       "<style scoped>\n",
       "    .dataframe tbody tr th:only-of-type {\n",
       "        vertical-align: middle;\n",
       "    }\n",
       "\n",
       "    .dataframe tbody tr th {\n",
       "        vertical-align: top;\n",
       "    }\n",
       "\n",
       "    .dataframe thead th {\n",
       "        text-align: right;\n",
       "    }\n",
       "</style>\n",
       "<table border=\"1\" class=\"dataframe\">\n",
       "  <thead>\n",
       "    <tr style=\"text-align: right;\">\n",
       "      <th></th>\n",
       "      <th>0</th>\n",
       "      <th>1</th>\n",
       "      <th>2</th>\n",
       "      <th>3</th>\n",
       "    </tr>\n",
       "  </thead>\n",
       "  <tbody>\n",
       "    <tr>\n",
       "      <th>0</th>\n",
       "      <td>Model:</td>\n",
       "      <td>OLS</td>\n",
       "      <td>Adj. R-squared:</td>\n",
       "      <td>0.839</td>\n",
       "    </tr>\n",
       "    <tr>\n",
       "      <th>1</th>\n",
       "      <td>Dependent Variable:</td>\n",
       "      <td>y</td>\n",
       "      <td>AIC:</td>\n",
       "      <td>275.2616</td>\n",
       "    </tr>\n",
       "    <tr>\n",
       "      <th>2</th>\n",
       "      <td>Date:</td>\n",
       "      <td>2024-02-02 09:50</td>\n",
       "      <td>BIC:</td>\n",
       "      <td>283.0771</td>\n",
       "    </tr>\n",
       "    <tr>\n",
       "      <th>3</th>\n",
       "      <td>No. Observations:</td>\n",
       "      <td>100</td>\n",
       "      <td>Log-Likelihood:</td>\n",
       "      <td>-134.63</td>\n",
       "    </tr>\n",
       "    <tr>\n",
       "      <th>4</th>\n",
       "      <td>Df Model:</td>\n",
       "      <td>2</td>\n",
       "      <td>F-statistic:</td>\n",
       "      <td>258.8</td>\n",
       "    </tr>\n",
       "    <tr>\n",
       "      <th>5</th>\n",
       "      <td>Df Residuals:</td>\n",
       "      <td>97</td>\n",
       "      <td>Prob (F-statistic):</td>\n",
       "      <td>1.30e-39</td>\n",
       "    </tr>\n",
       "    <tr>\n",
       "      <th>6</th>\n",
       "      <td>R-squared:</td>\n",
       "      <td>0.842</td>\n",
       "      <td>Scale:</td>\n",
       "      <td>0.89154</td>\n",
       "    </tr>\n",
       "  </tbody>\n",
       "</table>\n",
       "</div>"
      ],
      "text/plain": [
       "                     0                 1                    2         3\n",
       "0               Model:               OLS      Adj. R-squared:     0.839\n",
       "1  Dependent Variable:                 y                 AIC:  275.2616\n",
       "2                Date:  2024-02-02 09:50                 BIC:  283.0771\n",
       "3    No. Observations:               100      Log-Likelihood:   -134.63\n",
       "4            Df Model:                 2         F-statistic:     258.8\n",
       "5        Df Residuals:                97  Prob (F-statistic):  1.30e-39\n",
       "6           R-squared:             0.842               Scale:   0.89154"
      ]
     },
     "execution_count": 473,
     "metadata": {},
     "output_type": "execute_result"
    }
   ],
   "source": [
    "# but now we use U rather than X -- same model fit accuracy scores\n",
    "U,D,Vt = np.linalg.svd(X, full_matrices=False)\n",
    "model = sm.OLS(Y,sm.add_constant(U)); results = model.fit(); results.summary2().tables[0] # scale = residual variance\n",
    "#float(results.summary2().tables[0].iloc[-1,-1])**.5"
   ]
  },
  {
   "cell_type": "code",
   "execution_count": 474,
   "metadata": {
    "id": "wx6l-7ECp_a6"
   },
   "outputs": [
    {
     "data": {
      "text/html": [
       "<div>\n",
       "<style scoped>\n",
       "    .dataframe tbody tr th:only-of-type {\n",
       "        vertical-align: middle;\n",
       "    }\n",
       "\n",
       "    .dataframe tbody tr th {\n",
       "        vertical-align: top;\n",
       "    }\n",
       "\n",
       "    .dataframe thead th {\n",
       "        text-align: right;\n",
       "    }\n",
       "</style>\n",
       "<table border=\"1\" class=\"dataframe\">\n",
       "  <thead>\n",
       "    <tr style=\"text-align: right;\">\n",
       "      <th></th>\n",
       "      <th>Coef.</th>\n",
       "      <th>Std.Err.</th>\n",
       "      <th>t</th>\n",
       "      <th>P&gt;|t|</th>\n",
       "      <th>[0.025</th>\n",
       "      <th>0.975]</th>\n",
       "    </tr>\n",
       "  </thead>\n",
       "  <tbody>\n",
       "    <tr>\n",
       "      <th>const</th>\n",
       "      <td>1.065204</td>\n",
       "      <td>0.097378</td>\n",
       "      <td>10.938885</td>\n",
       "      <td>1.276737e-18</td>\n",
       "      <td>0.871936</td>\n",
       "      <td>1.258472</td>\n",
       "    </tr>\n",
       "    <tr>\n",
       "      <th>x1</th>\n",
       "      <td>21.497814</td>\n",
       "      <td>0.945500</td>\n",
       "      <td>22.736972</td>\n",
       "      <td>1.194684e-40</td>\n",
       "      <td>19.621257</td>\n",
       "      <td>23.374370</td>\n",
       "    </tr>\n",
       "    <tr>\n",
       "      <th>x2</th>\n",
       "      <td>-0.440283</td>\n",
       "      <td>0.972530</td>\n",
       "      <td>-0.452720</td>\n",
       "      <td>6.517615e-01</td>\n",
       "      <td>-2.370486</td>\n",
       "      <td>1.489919</td>\n",
       "    </tr>\n",
       "  </tbody>\n",
       "</table>\n",
       "</div>"
      ],
      "text/plain": [
       "           Coef.  Std.Err.          t         P>|t|     [0.025     0.975]\n",
       "const   1.065204  0.097378  10.938885  1.276737e-18   0.871936   1.258472\n",
       "x1     21.497814  0.945500  22.736972  1.194684e-40  19.621257  23.374370\n",
       "x2     -0.440283  0.972530  -0.452720  6.517615e-01  -2.370486   1.489919"
      ]
     },
     "execution_count": 474,
     "metadata": {},
     "output_type": "execute_result"
    }
   ],
   "source": [
    "# but tighter standard errors\n",
    "results.summary2().tables[1]"
   ]
  },
  {
   "cell_type": "code",
   "execution_count": 475,
   "metadata": {
    "id": "rRhqIjCGicAJ"
   },
   "outputs": [
    {
     "data": {
      "text/plain": [
       "(1.0, 1.0)"
      ]
     },
     "execution_count": 475,
     "metadata": {},
     "output_type": "execute_result"
    }
   ],
   "source": [
    "# because now there's no multicollinearity, so VIFs are 1\n",
    "VIF(U,0),VIF(U,1)"
   ]
  },
  {
   "cell_type": "markdown",
   "metadata": {
    "slideshow": {
     "slide_type": "slide"
    }
   },
   "source": [
    "# 5.4 Principal Components Regression (PCR) \n",
    "\n",
    "---\n"
   ]
  },
  {
   "cell_type": "code",
   "execution_count": 478,
   "metadata": {
    "id": "oL9tnUwIikrB"
   },
   "outputs": [
    {
     "data": {
      "image/png": "[encoded data removed]",
      "text/plain": [
       "<Figure size 1800x500 with 2 Axes>"
      ]
     },
     "metadata": {},
     "output_type": "display_data"
    }
   ],
   "source": [
    "# and the SVD of U=U*I*I so singular values of U are all 1\n",
    "fix,ax = plt.subplots(1,2,figsize=(18,5))\n",
    "U,D,Vt = np.linalg.svd(X, full_matrices=False); ax[0].bar(x=range(2), height=D); ax[0].set_title(\"Singular Values\"); \n",
    "U_,D_,Vt_ = np.linalg.svd(U, full_matrices=False); ax[1].bar(x=range(2), height=D_); ax[1].set_title(\"Singular Values\"); "
   ]
  },
  {
   "cell_type": "markdown",
   "metadata": {
    "slideshow": {
     "slide_type": "slide"
    }
   },
   "source": [
    "<a name=\"cell-sovling-Axb\"></a>\n",
    "\n",
    "# 5.5 $Ax=b\\;$in a few ways that aren't$\\;A^{-1}$ ([Return to TOC](#cell-solving))\n",
    "\n",
    "---\n",
    "\n",
    "The `STA410_W24_Week4_Prerequesite_LinearAlgebra.ipynb` notebook demonstrates that $A^{-1}$ computation is best done as ***backward substitution*** with ***lower triangular forms*** (probably arrived at through ***Gaussian elimination***).\n",
    "\n",
    "- <font style='color:white'>When unnecessary, actual $A^{-1}$ inversion is computationally wasteful...</font>\n",
    "- <font style='color:white'>At best $A^{-1}$ computations will introduce ***roundoff error*** and at worst be ***ill-conditioned*** with large $\\kappa(A^{-1})$</font>\n",
    "\n",
    "<span style='color:white'>\n",
    "    \n",
    "That same notebook introduced the ***Woodbury Matrix Identity*** \n",
    "\n",
    "$$(A + UCV)^{−1} = A^{−1} − A^{−1}U (C^{−1} + VA^{−1}U)^{−1}VA^{−1}$$\n",
    "\n",
    "which is trivial to invert if $A$ and $C$ are diagonal; and, it admits ***low rank*** $m<n$ matrix approximations, e.g., for $m=1$\n",
    "\n",
    "$$ \\Sigma_{n \\times n}^{-1} \\approx (I_{n \\times n} + \\mathbf{u}_{n\\times m}(\\mathbf{v}^T)_{n\\times m})^{-1} = I - \\mathbf{u}(1+\\mathbf{v}^T\\mathbf{u})^{-1}\\mathbf{v}^T = I - \\frac{\\mathbf{u}\\mathbf{v}^T}{1+\\mathbf{v}^T\\mathbf{u}} \\quad \\text{ with } A=I \\text{ and } C=1$$\n",
    "\n",
    "</span>\n",
    "\n"
   ]
  },
  {
   "cell_type": "markdown",
   "metadata": {
    "slideshow": {
     "slide_type": "slide"
    }
   },
   "source": [
    "<a name=\"cell-sovling-Axb\"></a>\n",
    "\n",
    "# 5.5 $Ax=b\\;$in a few ways that aren't$\\;A^{-1}$ ([Return to TOC](#cell-solving))\n",
    "\n",
    "---\n",
    "\n",
    "The `STA410_W24_Week4_Prerequesite_LinearAlgebra.ipynb` notebook demonstrates that $A^{-1}$ computation is best done as ***backward substitution*** with ***lower triangular forms*** (probably arrived at through ***Gaussian elimination***).\n",
    "\n",
    "- When unnecessary, actual $A^{-1}$ inversion is computationally wasteful... \n",
    "- At best $A^{-1}$ computations will introduce ***roundoff error*** and at worst be ***ill-conditioned*** <font style=\"color:gray\">with large $\\kappa(A^{-1})$</font>\n",
    "\n",
    "<span style='color:white'>\n",
    "    \n",
    "That same notebook introduced the ***Woodbury Matrix Identity*** \n",
    "\n",
    "$$(A + UCV)^{−1} = A^{−1} − A^{−1}U (C^{−1} + VA^{−1}U)^{−1}VA^{−1}$$\n",
    "\n",
    "which is trivial to invert if $A$ and $C$ are diagonal; and, it admits ***low rank*** $m<n$ matrix approximations, e.g., for $m=1$\n",
    "\n",
    "$$ \\Sigma_{n \\times n}^{-1} \\approx (I_{n \\times n} + \\mathbf{u}_{n\\times m}(\\mathbf{v}^T)_{n\\times m})^{-1} = I - \\mathbf{u}(1+\\mathbf{v}^T\\mathbf{u})^{-1}\\mathbf{v}^T = I - \\frac{\\mathbf{u}\\mathbf{v}^T}{1+\\mathbf{v}^T\\mathbf{u}} \\quad \\text{ with } A=I \\text{ and } C=1$$\n",
    "\n",
    "</span>\n",
    "\n"
   ]
  },
  {
   "cell_type": "markdown",
   "metadata": {
    "slideshow": {
     "slide_type": "slide"
    }
   },
   "source": [
    "<a name=\"cell-sovling-Axb\"></a>\n",
    "\n",
    "# 5.5 $Ax=b\\;$in a few ways that aren't$\\;A^{-1}$ ([Return to TOC](#cell-solving))\n",
    "\n",
    "---\n",
    "\n",
    "The `STA410_W24_Week4_Prerequesite_LinearAlgebra.ipynb` notebook demonstrates that $A^{-1}$ computation is best done as ***backward substitution*** with ***lower triangular forms*** (probably arrived at through ***Gaussian elimination***).\n",
    "\n",
    "- When unnecessary, actual $A^{-1}$ inversion is computationally wasteful... \n",
    "- At best $A^{-1}$ computations will introduce ***roundoff error*** and at worst be ***ill-conditioned*** <span style=\"color:gray\">with large $\\kappa(A^{-1})$</span>\n",
    "\n",
    "That same notebook introduced the ***Woodbury Matrix Identity*** \n",
    "\n",
    "$$(A + UCV)^{−1} = A^{−1} − A^{−1}U (C^{−1} + VA^{−1}U)^{−1}VA^{−1}$$\n",
    "\n",
    "which is trivial to invert if $A$ and $C$ are diagonal; and, it admits ***low rank*** $m<n$ matrix approximations, e.g., for $m=1$\n",
    "\n",
    "$$ \\Sigma_{n \\times n}^{-1} \\approx (I_{n \\times n} + \\mathbf{u}_{n\\times m}(\\mathbf{v}^T)_{n\\times m})^{-1} = I - \\mathbf{u}(1+\\mathbf{v}^T\\mathbf{u})^{-1}\\mathbf{v}^T = I - \\frac{\\mathbf{u}\\mathbf{v}^T}{1+\\mathbf{v}^T\\mathbf{u}} \\quad \\text{ with } A=I \\text{ and } C=1$$\n",
    "\n",
    "\n"
   ]
  },
  {
   "cell_type": "markdown",
   "metadata": {
    "slideshow": {
     "slide_type": "slide"
    }
   },
   "source": [
    "<a name=\"cell-sovling-svd\"></a>\n",
    "\n",
    "## 5.5.A The return of the SVD ([Return to TOC](#cell-solving))\n",
    "\n",
    "---\n",
    "The easiest inversions are for ***diagonal*** $D$ where $[D^{-1}]_{ii} = 1/D_{ii}$ and ***orthogonal*** $U$ where $U^{-1}=U^T$ \n",
    "\n",
    "\n",
    "<span style=\"color:white\">\n",
    "    \n",
    "If $A^{-1}$ exists then from the ***SVD*** $A = UDV^T$ and $A^{-1} = V D^{-} U^T$ with ***(semi-)orthogonal*** $U$ and $V$ and ***diagonal*** $D$\n",
    "\n",
    "$$x = V D^{-1} U^Tb \\quad \\text{ solves } \\quad x = A^{-1}b$$ \n",
    "\n",
    "For example, $\\hat \\beta$ solving $\\;X^TX\\hat \\beta = X^Ty\\;$ provides the ***least squares*** approximation $X\\hat \\beta \\approx  y$ is found the (unique) ***Moore-Penrose (generalized) inverse*** of $(X^TX)^+$ which follows directly from the ***SVD*** of $X = UDV^T$\n",
    "\n",
    "$$\\underset{(X^TX)^+(X^TX) = (X^TX)(X^TX)^+ = I}{(X^TX)^+ = V (D^{+})^2 V^T} \\underset{\\text{full rank}}{\\overset{\\text{if $X$ is}}{=}} (X^TX)^{-1} \\text{ with } (D^{+}_{ii})^2=\\frac{1}{D_{ii}^2} \\text{ so that } \\hat \\beta=V (D^{+})^2 V^T X^T y$$\n",
    "\n",
    "<span>\n"
   ]
  },
  {
   "cell_type": "code",
   "execution_count": null,
   "metadata": {},
   "outputs": [],
   "source": [
    "\n",
    "\n",
    "\n",
    "\n",
    "\n",
    "\n",
    "\n",
    "\n",
    "\n",
    "\n",
    "\n",
    "\n"
   ]
  },
  {
   "cell_type": "markdown",
   "metadata": {
    "slideshow": {
     "slide_type": "slide"
    }
   },
   "source": [
    "<a name=\"cell-sovling-svd\"></a>\n",
    "\n",
    "## 5.5.A The return of the SVD ([Return to TOC](#cell-solving))\n",
    "\n",
    "---\n",
    "The easiest inversions are for ***diagonal*** $D$ where $[D^{-1}]_{ii} = 1/D_{ii}$ and ***orthogonal*** $U$ where $U^{-1}=U^T$ \n",
    "\n",
    "    \n",
    "If $A^{-1}$ exists then from the ***SVD*** $A = UDV^T$ and $A^{-1} = V D^{-} U^T$ with ***(semi-)orthogonal*** $U$ and $V$ and ***diagonal*** $D$\n",
    "\n",
    "\n",
    "$$x = V D^{-1} U^Tb \\quad \\text{ solves } \\quad x = A^{-1}b$$ \n",
    "\n",
    "<span style=\"color:white\">\n",
    "\n",
    "For example, $\\hat \\beta$ solving $\\;X^TX\\hat \\beta = X^Ty\\;$ provides the ***least squares*** approximation $X\\hat \\beta \\approx  y$ is found the (unique) ***Moore-Penrose (generalized) inverse*** of $(X^TX)^+$ which follows directly from the ***SVD*** of $X = UDV^T$\n",
    "\n",
    "$$\\underset{(X^TX)^+(X^TX) = (X^TX)(X^TX)^+ = I}{(X^TX)^+ = V (D^{+})^2 V^T} \\underset{\\text{full rank}}{\\overset{\\text{if $X$ is}}{=}} (X^TX)^{-1} \\text{ with } (D^{+}_{ii})^2=\\frac{1}{D_{ii}^2} \\text{ so that } \\hat \\beta=V (D^{+})^2 V^T X^T y$$\n",
    "\n",
    "<span>\n"
   ]
  },
  {
   "cell_type": "code",
   "execution_count": null,
   "metadata": {},
   "outputs": [],
   "source": [
    "\n",
    "\n",
    "\n",
    "\n",
    "\n",
    "\n",
    "\n",
    "\n",
    "\n",
    "\n",
    "\n",
    "\n"
   ]
  },
  {
   "cell_type": "markdown",
   "metadata": {
    "slideshow": {
     "slide_type": "slide"
    }
   },
   "source": [
    "<a name=\"cell-sovling-svd\"></a>\n",
    "\n",
    "## 5.5.A The return of the SVD ([Return to TOC](#cell-solving))\n",
    "\n",
    "---\n",
    "The easiest inversions are for ***diagonal*** $D$ where $[D^{-1}]_{ii} = 1/D_{ii}$ and ***orthogonal*** $U$ where $U^{-1}=U^T$ \n",
    "\n",
    "    \n",
    "If $A^{-1}$ exists then from the ***SVD*** $A = UDV^T$ and $A^{-1} = V D^{-} U^T$ with ***(semi-)orthogonal*** $U$ and $V$ and ***diagonal*** $D$\n",
    "\n",
    "\n",
    "$$x = V D^{-1} U^Tb \\quad \\text{ solves } \\quad x = A^{-1}b$$ \n",
    "\n",
    "For example, $\\hat \\beta$ solving $\\;X^TX\\hat \\beta = X^Ty\\;$ provides the ***least squares*** approximation $X\\hat \\beta \\approx  y$ is found the (unique) ***Moore-Penrose (generalized) inverse*** of $(X^TX)^+$ which follows directly from the ***SVD*** of $X = UDV^T$\n",
    "\n",
    "$$\\underset{(X^TX)^+(X^TX) = (X^TX)(X^TX)^+ = I}{(X^TX)^+ = V (D^{+})^2 V^T} \\underset{\\text{full rank}}{\\overset{\\text{if $X$ is}}{=}} (X^TX)^{-1} \\text{ with } (D^{+}_{ii})^2=\\frac{1}{D_{ii}^2} \\text{ so that } \\hat \\beta=V (D^{+})^2 V^T X^T y$$\n",
    "\n",
    "<span>\n"
   ]
  },
  {
   "cell_type": "code",
   "execution_count": null,
   "metadata": {},
   "outputs": [],
   "source": [
    "\n",
    "\n",
    "\n",
    "\n",
    "\n",
    "\n",
    "\n",
    "\n",
    "\n",
    "\n",
    "\n",
    "\n"
   ]
  },
  {
   "cell_type": "markdown",
   "metadata": {
    "slideshow": {
     "slide_type": "slide"
    }
   },
   "source": [
    "<a name=\"cell-sovling-svd\"></a>\n",
    "\n",
    "## 5.5.A The return of the SVD ([Return to TOC](#cell-solving))\n",
    "\n",
    "---\n",
    "The easiest inversions are for ***diagonal*** $D$ where $[D^{-1}]_{ii} = 1/D_{ii}$ and ***orthogonal*** $U$ where $U^{-1}=U^T$ \n",
    "\n",
    "\n",
    "If $A^{-1}$ exists then from the ***SVD*** $A = UDV^T$ and $A^{-1} = V D^{-} U^T$ with ***(semi-)orthogonal*** $U$ and $V$ and ***diagonal*** $D$\n",
    "\n",
    "$$x = V D^{-1} U^Tb \\quad \\text{ solves } \\quad x = A^{-1}b$$ \n",
    "\n",
    "For example, $\\hat \\beta$ solving $\\;X^TX\\hat \\beta = X^Ty\\;$ provides the ***least squares*** approximation $X\\hat \\beta \\approx  y$ is found the (unique) ***Moore-Penrose (generalized) inverse*** of $(X^TX)^+$ which follows directly from the ***SVD*** of $X = UDV^T$\n",
    "\n",
    "$$\\underset{(X^TX)^+(X^TX) = (X^TX)(X^TX)^+ = I}{(X^TX)^+ = V (D^{+})^2 V^T} \\underset{\\text{full rank}}{\\overset{\\text{if $X$ is}}{=}} (X^TX)^{-1} \\text{ with } (D^{+}_{ii})^2=\\frac{1}{D_{ii}^2} \\text{ so that } \\hat \\beta=V (D^{+})^2 V^T X^T y$$\n",
    "\n"
   ]
  },
  {
   "cell_type": "code",
   "execution_count": 488,
   "metadata": {},
   "outputs": [
    {
     "name": "stdout",
     "output_type": "stream",
     "text": [
      "X, Y:\n",
      "[[0 0]\n",
      " [1 1]\n",
      " [2 2]] [0 1 2]\n",
      "\n",
      "(XtX)^-1:\n",
      "ERROR: Singular matrix\n",
      "'One does not simply invert a singular matrix' -- Boromir (The Lord of the Rings)\n",
      "\n"
     ]
    }
   ],
   "source": [
    "X = np.array([[0,0],[1,1],[2,2]]); Y = np.array([0,1,2]); print(\"X, Y:\"); print(X, Y, end=\"\\n\\n\"); print(\"(XtX)^-1:\")\n",
    "try:\n",
    "    np.linalg.inv(X.T.dot(X))\n",
    "except np.linalg.LinAlgError as err:\n",
    "    print(\"ERROR:\", err); print(\"'One does not simply invert a singular matrix' -- Boromir (The Lord of the Rings)\", end='\\n\\n')"
   ]
  },
  {
   "cell_type": "markdown",
   "metadata": {
    "slideshow": {
     "slide_type": "slide"
    }
   },
   "source": [
    "<a name=\"cell-sovling-svd\"></a>\n",
    "\n",
    "## 5.5.A The return of the SVD ([Return to TOC](#cell-solving))\n",
    "\n",
    "---\n",
    "The easiest inversions are for ***diagonal*** $D$ where $[D^{-1}]_{ii} = 1/D_{ii}$ and ***orthogonal*** $U$ where $U^{-1}=U^T$ \n",
    "\n",
    "\n",
    "If $A^{-1}$ exists then from the ***SVD*** $A = UDV^T$ and $A^{-1} = V D^{-} U^T$ with ***(semi-)orthogonal*** $U$ and $V$ and ***diagonal*** $D$\n",
    "\n",
    "$$x = V D^{-1} U^Tb \\quad \\text{ solves } \\quad x = A^{-1}b$$ \n",
    "\n",
    "For example, $\\hat \\beta$ solving $\\;X^TX\\hat \\beta = X^Ty\\;$ provides the ***least squares*** approximation $X\\hat \\beta \\approx  y$ is found the (unique) ***Moore-Penrose (generalized) inverse*** of $(X^TX)^+$ which follows directly from the ***SVD*** of $X = UDV^T$\n",
    "\n",
    "$$\\underset{(X^TX)^+(X^TX) = (X^TX)(X^TX)^+ = I}{(X^TX)^+ = V (D^{+})^2 V^T} \\underset{\\text{full rank}}{\\overset{\\text{if $X$ is}}{=}} (X^TX)^{-1} \\text{ with } (D^{+}_{ii})^2=\\frac{1}{D_{ii}^2} \\text{ so that } \\hat \\beta=V (D^{+})^2 V^T X^T y$$\n",
    "\n"
   ]
  },
  {
   "cell_type": "code",
   "execution_count": 483,
   "metadata": {
    "scrolled": true
   },
   "outputs": [
    {
     "name": "stdout",
     "output_type": "stream",
     "text": [
      "XtX:\n",
      "[[5 5]\n",
      " [5 5]]\n",
      "\n",
      "XtX from SVD:\n",
      "[[5. 5.]\n",
      " [5. 5.]]\n"
     ]
    }
   ],
   "source": [
    "U,D,Vt = np.linalg.svd(X, full_matrices=False); D = np.diag(D) #U,D,Vt = np.linalg.svd(X.T.dot(X)); D = np.diag(D); \n",
    "print(\"XtX:\"); print(X.T.dot(X), end=\"\\n\\n\")\n",
    "print(\"XtX from SVD:\"); print(Vt.T.dot(D**2).dot(Vt)) #print(((U.dot(D).dot(Vt)).T.dot(U.dot(D).dot(Vt))), end=\"\\n\\n\")"
   ]
  },
  {
   "cell_type": "code",
   "execution_count": null,
   "metadata": {},
   "outputs": [],
   "source": []
  },
  {
   "cell_type": "markdown",
   "metadata": {
    "slideshow": {
     "slide_type": "slide"
    }
   },
   "source": [
    "<a name=\"cell-sovling-svd\"></a>\n",
    "\n",
    "## 5.5.A The return of the SVD ([Return to TOC](#cell-solving))\n",
    "\n",
    "---\n",
    "The easiest inversions are for ***diagonal*** $D$ where $[D^{-1}]_{ii} = 1/D_{ii}$ and ***orthogonal*** $U$ where $U^{-1}=U^T$ \n",
    "\n",
    "\n",
    "If $A^{-1}$ exists then from the ***SVD*** $A = UDV^T$ and $A^{-1} = V D^{-} U^T$ with ***(semi-)orthogonal*** $U$ and $V$ and ***diagonal*** $D$\n",
    "\n",
    "$$x = V D^{-1} U^Tb \\quad \\text{ solves } \\quad x = A^{-1}b$$ \n",
    "\n",
    "For example, $\\hat \\beta$ solving $\\;X^TX\\hat \\beta = X^Ty\\;$ provides the ***least squares*** approximation $X\\hat \\beta \\approx  y$ is found the (unique) ***Moore-Penrose (generalized) inverse*** of $(X^TX)^+$ which follows directly from the ***SVD*** of $X = UDV^T$\n",
    "\n",
    "$$\\underset{(X^TX)^+(X^TX) = (X^TX)(X^TX)^+ = I}{(X^TX)^+ = V (D^{+})^2 V^T} \\underset{\\text{full rank}}{\\overset{\\text{if $X$ is}}{=}} (X^TX)^{-1} \\text{ with } (D^{+}_{ii})^2=\\frac{1}{D_{ii}^2} \\text{ so that } \\hat \\beta=V (D^{+})^2 V^T X^T y$$\n",
    "\n"
   ]
  },
  {
   "cell_type": "code",
   "execution_count": 485,
   "metadata": {},
   "outputs": [
    {
     "name": "stdout",
     "output_type": "stream",
     "text": [
      "XtX^+ from SVD:\n",
      "[[0.05 0.05]\n",
      " [0.05 0.05]]\n",
      "\n",
      "Y, Yhat:\n",
      "[0 1 2] [0. 1. 2.]\n"
     ]
    }
   ],
   "source": [
    "Dplus2 = np.zeros(D.shape); Dplus2[0,0] = 1/D[0,0]**2; print(\"XtX^+ from SVD:\"); print(Vt.T.dot(Dplus2).dot(Vt), end=\"\\n\\n\")    \n",
    "Yhat = X.dot(Vt.T.dot(Dplus2).dot(Vt.T)).dot(X.T).dot(Y.T); print(\"Y, Yhat:\"); print(Y, Yhat)"
   ]
  },
  {
   "cell_type": "code",
   "execution_count": null,
   "metadata": {},
   "outputs": [],
   "source": [
    "\n",
    "\n",
    "\n"
   ]
  },
  {
   "cell_type": "markdown",
   "metadata": {
    "slideshow": {
     "slide_type": "slide"
    }
   },
   "source": [
    "<a name=\"cell-sovling-chol\"></a>\n",
    "\n",
    "## 5.5.B The Cholesky ([Return to TOC](#cell-solving))\n",
    "\n",
    "---\n",
    "\n",
    "If ***condition number*** $\\kappa(X^TX)$ isn't large then $X^TX$ has minimal ***roundoff error*** and ***full rank*** $X_{n \\times m}$ means $(X^TX)_{m \\times m}$\n",
    "\n",
    "- is ***symmetric full rank***, so it has ***positive eigenvalues***, so it's ***positive definite*** with $x^TX^TXx > 0$\n",
    "\n",
    "\n",
    "<span style=\"color:white\">\n",
    "    \n",
    "***Symmetric*** $\\Sigma = \\Sigma^T$ and ***positive definite*** $x^T\\Sigma x > 0$ has a ***Cholesky decomposition*** \n",
    "\n",
    "$$\\Sigma = CC^T \\quad \\text{with lower triangular }C \\text{ (which is unique when $C_{ii} >0$)}$$\n",
    "\n",
    "    \n",
    "so $\\hat \\beta$ solving $\\;X^TX\\hat \\beta = X^Ty\\;$ providing the ***least squares*** approximation $X\\hat \\beta \\approx  y$ can be solved for as\n",
    "\n",
    "$$\\begin{align*}\n",
    "X^T\\!X\\hat \\beta = X^T\\!y \\\\${}$\\\\\n",
    "= CC^T \\hat \\beta = {} & X^T\\!y \\\\\n",
    "\\Longrightarrow  \\text{ by solving for $\\gamma$ in } \\underset{L}{C} (\\underbrace{C^T \\hat \\beta}_{\\gamma}) = {} & X^T\\!y \\; \\text{ and then $\\hat \\beta$ in} \\; \\underset{U}{C}^T \\hat \\beta = \\gamma \\quad \\text{using }\\textbf{backward substitution}\\text{ }\n",
    "  \\end{align*}$$\n",
    "\n",
    "</span>\n",
    "\n",
    "- <font style=\"color:white\">A ***Cholesky decomposition*** algorithm is considered in STA410_W24_Week5_Extra_LinearAlgebraAlgorithms.ipynb</font>\n"
   ]
  },
  {
   "cell_type": "markdown",
   "metadata": {
    "slideshow": {
     "slide_type": "slide"
    }
   },
   "source": [
    "<a name=\"cell-sovling-chol\"></a>\n",
    "\n",
    "## 5.5.B The Cholesky ([Return to TOC](#cell-solving))\n",
    "\n",
    "---\n",
    "\n",
    "If ***condition number*** $\\kappa(X^TX)$ isn't large then $X^TX$ has minimal ***roundoff error*** and ***full rank*** $X_{n \\times m}$ means $(X^TX)_{m \\times m}$\n",
    "\n",
    "- is ***symmetric full rank***, so it has ***positive eigenvalues***, so it's ***positive definite*** with $x^TX^TXx > 0$\n",
    "\n",
    "***Symmetric*** $\\Sigma = \\Sigma^T$ and ***positive definite*** $x^T\\Sigma x > 0$ has a ***Cholesky decomposition*** \n",
    "\n",
    "$$\\Sigma = CC^T \\quad \\text{with lower triangular }C \\text{ (which is unique when $C_{ii} >0$)}$$\n",
    "\n",
    "<br><br>\n",
    "\n",
    "<span style=\"color:white\">\n",
    "    \n",
    "so $\\hat \\beta$ solving $\\;X^TX\\hat \\beta = X^Ty\\;$ providing the ***least squares*** approximation $X\\hat \\beta \\approx  y$ can be solved for as\n",
    "\n",
    "$$\\begin{align*}\n",
    "X^T\\!X\\hat \\beta = X^T\\!y \n",
    "= CC^T \\hat \\beta = {} & X^T\\!y \\\\\n",
    "\\Longrightarrow  \\text{ by solving for $\\gamma$ in } \\underset{L}{C} (\\underbrace{C^T \\hat \\beta}_{\\gamma}) = {} & X^T\\!y \\; \\text{ and then $\\hat \\beta$ in} \\; \\underset{U}{C}^T \\hat \\beta = \\gamma \\quad \\text{using }\\textbf{backward substitution}\\text{ }\n",
    "  \\end{align*}$$\n",
    "\n",
    "</span>\n",
    "\n",
    "- <font style=\"color:white\">A ***Cholesky decomposition*** algorithm is considered in STA410_W24_Week5_Extra_LinearAlgebraAlgorithms.ipynb</font>\n"
   ]
  },
  {
   "cell_type": "markdown",
   "metadata": {
    "slideshow": {
     "slide_type": "slide"
    }
   },
   "source": [
    "<a name=\"cell-sovling-chol\"></a>\n",
    "\n",
    "## 5.5.B The Cholesky ([Return to TOC](#cell-solving))\n",
    "\n",
    "---\n",
    "\n",
    "If ***condition number*** $\\kappa(X^TX)$ isn't large then $X^TX$ has minimal ***roundoff error*** and ***full rank*** $X_{n \\times m}$ means $(X^TX)_{m \\times m}$\n",
    "\n",
    "- is ***symmetric full rank***, so it has ***positive eigenvalues***, so it's ***positive definite*** with $x^TX^TXx > 0$\n",
    "\n",
    "***Symmetric*** $\\Sigma = \\Sigma^T$ and ***positive definite*** $x^T\\Sigma x > 0$ has a ***Cholesky decomposition*** \n",
    "\n",
    "$$\\Sigma = CC^T \\quad \\text{with lower triangular }C \\text{ (which is unique when $C_{ii} >0$)}$$\n",
    "\n",
    "so $\\hat \\beta$ solving $\\;X^TX\\hat \\beta = X^Ty\\;$ providing the ***least squares*** approximation $X\\hat \\beta \\approx  y$ can be solved for as\n",
    "\n",
    "$$\\begin{align*}\n",
    "X^T\\!X\\hat \\beta = X^T\\!y \n",
    "= CC^T \\hat \\beta = {} & X^T\\!y \\\\\n",
    "\\Longrightarrow  \\text{ by solving for $\\gamma$ in } \\underset{L}{C} (\\underbrace{C^T \\hat \\beta}_{\\gamma}) = {} & X^T\\!y \\; \\text{ and then $\\hat \\beta$ in} \\; \\underset{U}{C}^T \\hat \\beta = \\gamma \\quad \\text{using }\\textbf{backward substitution}\\text{ }\\\\{}\n",
    "  \\end{align*}$$\n",
    "\n",
    "- A ***Cholesky decomposition*** algorithm is considered in `STA410_W24_Week5_Extra_LinearAlgebraAlgorithms.ipynb`\n"
   ]
  },
  {
   "cell_type": "markdown",
   "metadata": {
    "slideshow": {
     "slide_type": "slide"
    }
   },
   "source": [
    "<a name=\"cell-sovling-chol-mvn\"></a>\n",
    "\n",
    "## 5.5.C Multivariate Normal ([Return to TOC](#cell-solving))\n",
    "\n",
    "---\n",
    "\n",
    "***Cholesky decomposition*** $\\Sigma=CC^T$ and ***LU decomposition*** $\\Sigma=LU$ algorithms are both $O(n^3)$ but the ***Cholesky***\n",
    "\n",
    "- <font style=\"color:white\">is constructed with half of as many operations</font>\n",
    "- <font style=\"color:white\">requires $n(n+1)/2$ elements, half of the $n^2+n$ elements stored in ***LU decomposition*** since $C$ is repeated</font>\n",
    "\n",
    "- <font style=\"color:white\">is twice as fast to ***invert*** since $(CC^T)^{-1} = (C^T)^{-1}C^{-1} = $ [$ \\;(C^{-T})C^{-1}$] $= (C^{-1})^TC^{-1}$  only requires the computation of $C^{-1}$ while $(LU)^{-1} = U^{-1}L^{-1}$ requires both $L^{-1}$ and $U^{-1}$</font>\n",
    "\n",
    "<!-- and so the ***Cholesky decomposition*** is an interesting exception to the typical ***time-space tradeoff*** since its construction outperforms ***LU decomposition*** both in computation *and* memory requirements. For additional details and commentary on ***Cholesky decomposition***, please see Keith Knight's STA410 [notes7.pdf](https://q.utoronto.ca/courses/296804/files?preview=24300633) document beginning on page 13 and [notes9.pdf](https://q.utoronto.ca/courses/296804/files?preview=24301088) beginning on page 37. -->\n",
    "\n",
    "<span style=\"color:white\">\n",
    "    \n",
    "$$\\text{Further }\\quad \\mathbf{Y} \\sim MVN(\\mathbf{0},\\mathbf{I}) \\quad \\Longrightarrow \\quad C Y \\sim MVN(\\mathbf{0}, \\boldsymbol \\Sigma=CC^T)$$\n",
    "\n",
    "$$\\text{and for }\\quad \\displaystyle (2\\pi )^{-k/2}\\det({\\boldsymbol {\\Sigma }})^{-1/2}\\,\\exp \\left(-{\\frac {1}{2}}(\\mathbf {Y} -{\\boldsymbol {\\mu }})^{\\mathrm {T} }{\\boldsymbol {\\Sigma }}^{-1}(\\mathbf {Y} -{\\boldsymbol {\\mu }})\\right)$$\n",
    "\n",
    "\\begin{align*}\n",
    "(\\mathbf {Y} -{\\boldsymbol {\\mu }})^{\\mathrm {T} }{ { [C C^T] }}^{-1}(\\mathbf {Y} -{\\boldsymbol {\\mu }}) = \n",
    "[(\\mathbf {Y} -{\\boldsymbol {\\mu }})^{\\mathrm {T} } C^{-T}] C^{-1} (\\mathbf {Y} -{\\boldsymbol {\\mu }}) = {} & b\\\\\n",
    "[C^{-1}(\\mathbf {Y} -{\\boldsymbol {\\mu }})]^{\\mathrm {T} } C^{-1} (\\mathbf {Y} -{\\boldsymbol {\\mu }}) = {} & b \\;\\; \\Longrightarrow \\;\\; \\underbrace{\\textbf{z}^T\\textbf{z} = b}_{\\textbf{z} = C^{-1} (\\mathbf {Y} -{\\boldsymbol {\\mu }})} \\;\\;  \\underbrace{ \\Longrightarrow \\;\\;  C\\textbf{z} = \\mathbf {Y} -{\\boldsymbol {\\mu }}}_{\\text{solve for $\\textbf{z}$ compute $\\exp(\\textbf{z}^T\\textbf{z})$}} \\\\\n",
    "\\det(\\boldsymbol {\\Sigma }) = \\underbrace{\\det(CC^T) = \\det(C)\\det(C^T)}_{\\text{produces and trangular matrices are easy}} =  & {} \\prod_i C_{ii} \\prod_i C_{ii}^T = \\prod_i C_{ii}^2\n",
    "\\end{align*}\n",
    "    \n",
    "</span>"
   ]
  },
  {
   "cell_type": "markdown",
   "metadata": {
    "slideshow": {
     "slide_type": "slide"
    }
   },
   "source": [
    "<a name=\"cell-sovling-chol-mvn\"></a>\n",
    "\n",
    "## 5.5.C Multivariate Normal ([Return to TOC](#cell-solving))\n",
    "\n",
    "---\n",
    "\n",
    "***Cholesky decomposition*** $\\Sigma=CC^T$ and ***LU decomposition*** $\\Sigma=LU$ algorithms are both $O(n^3)$ but the ***Cholesky***\n",
    "\n",
    "- is constructed with half of as many operations</font>\n",
    "- requires $n(n+1)/2$ elements, half of the $n^2+n$ elements stored in ***LU decomposition*** since $C$ is repeated\n",
    "\n",
    "- <font style=\"color:white\">is twice as fast to ***invert*** since $(CC^T)^{-1} = (C^T)^{-1}C^{-1} = $ [$ \\;(C^{-T})C^{-1}$] $= (C^{-1})^TC^{-1}$  only requires the computation of $C^{-1}$ while $(LU)^{-1} = U^{-1}L^{-1}$ requires both $L^{-1}$ and $U^{-1}$</font>\n",
    "\n",
    "<!-- and so the ***Cholesky decomposition*** is an interesting exception to the typical ***time-space tradeoff*** since its construction outperforms ***LU decomposition*** both in computation *and* memory requirements. For additional details and commentary on ***Cholesky decomposition***, please see Keith Knight's STA410 [notes7.pdf](https://q.utoronto.ca/courses/296804/files?preview=24300633) document beginning on page 13 and [notes9.pdf](https://q.utoronto.ca/courses/296804/files?preview=24301088) beginning on page 37. -->\n",
    "\n",
    "<span style=\"color:white\">\n",
    "    \n",
    "$$\\text{Further }\\quad \\mathbf{Y} \\sim MVN(\\mathbf{0},\\mathbf{I}) \\quad \\Longrightarrow \\quad C Y \\sim MVN(\\mathbf{0}, \\boldsymbol \\Sigma=CC^T)$$\n",
    "\n",
    "$$\\text{and for }\\quad \\displaystyle (2\\pi )^{-k/2}\\det({\\boldsymbol {\\Sigma }})^{-1/2}\\,\\exp \\left(-{\\frac {1}{2}}(\\mathbf {Y} -{\\boldsymbol {\\mu }})^{\\mathrm {T} }{\\boldsymbol {\\Sigma }}^{-1}(\\mathbf {Y} -{\\boldsymbol {\\mu }})\\right)$$\n",
    "\n",
    "\n",
    "\\begin{align*}\n",
    "(\\mathbf {Y} -{\\boldsymbol {\\mu }})^{\\mathrm {T} }{ { [C C^T] }}^{-1}(\\mathbf {Y} -{\\boldsymbol {\\mu }}) = \n",
    "[(\\mathbf {Y} -{\\boldsymbol {\\mu }})^{\\mathrm {T} } C^{-T}] C^{-1} (\\mathbf {Y} -{\\boldsymbol {\\mu }}) = {} & b\\\\\n",
    "[C^{-1}(\\mathbf {Y} -{\\boldsymbol {\\mu }})]^{\\mathrm {T} } C^{-1} (\\mathbf {Y} -{\\boldsymbol {\\mu }}) = {} & b \\;\\; \\Longrightarrow \\;\\; \\underbrace{\\textbf{z}^T\\textbf{z} = b}_{\\textbf{z} = C^{-1} (\\mathbf {Y} -{\\boldsymbol {\\mu }})} \\;\\;  \\underbrace{ \\Longrightarrow \\;\\;  C\\textbf{z} = \\mathbf {Y} -{\\boldsymbol {\\mu }}}_{\\text{solve for $\\textbf{z}$ compute $\\exp(\\textbf{z}^T\\textbf{z})$}} \\\\\n",
    "\\det(\\boldsymbol {\\Sigma }) = \\underbrace{\\det(CC^T) = \\det(C)\\det(C^T)}_{\\text{produces and trangular matrices are easy}} =  & {} \\prod_i C_{ii} \\prod_i C_{ii}^T = \\prod_i C_{ii}^2\n",
    "\\end{align*}\n",
    "    \n",
    "</span>"
   ]
  },
  {
   "cell_type": "markdown",
   "metadata": {
    "slideshow": {
     "slide_type": "slide"
    }
   },
   "source": [
    "<a name=\"cell-sovling-chol-mvn\"></a>\n",
    "\n",
    "## 5.5.C Multivariate Normal ([Return to TOC](#cell-solving))\n",
    "\n",
    "---\n",
    "\n",
    "***Cholesky decomposition*** $\\Sigma=CC^T$ and ***LU decomposition*** $\\Sigma=LU$ algorithms are both $O(n^3)$ but the ***Cholesky***\n",
    "\n",
    "- is constructed with half of as many operations</font>\n",
    "- requires $n(n+1)/2$ elements, half of the $n^2+n$ elements stored in ***LU decomposition*** since $C$ is repeated\n",
    "\n",
    "- is twice as fast to ***invert*** since $(CC^T)^{-1} = (C^T)^{-1}C^{-1} = $ [$ \\;(C^{-T})C^{-1}$](https://math.stackexchange.com/questions/340233/transpose-of-inverse-vs-inverse-of-transpose) $= (C^{-1})^TC^{-1}$  only requires the computation of $C^{-1}$ while $(LU)^{-1} = U^{-1}L^{-1}$ requires both $L^{-1}$ and $U^{-1}$\n",
    "\n",
    "<!-- and so the ***Cholesky decomposition*** is an interesting exception to the typical ***time-space tradeoff*** since its construction outperforms ***LU decomposition*** both in computation *and* memory requirements. For additional details and commentary on ***Cholesky decomposition***, please see Keith Knight's STA410 [notes7.pdf](https://q.utoronto.ca/courses/296804/files?preview=24300633) document beginning on page 13 and [notes9.pdf](https://q.utoronto.ca/courses/296804/files?preview=24301088) beginning on page 37. -->\n",
    "\n",
    "<span style=\"color:white\">\n",
    "    \n",
    "$$\\text{Further }\\quad \\mathbf{Y} \\sim MVN(\\mathbf{0},\\mathbf{I}) \\quad \\Longrightarrow \\quad C Y \\sim MVN(\\mathbf{0}, \\boldsymbol \\Sigma=CC^T)$$\n",
    "\n",
    "$$\\text{and for }\\quad \\displaystyle (2\\pi )^{-k/2}\\det({\\boldsymbol {\\Sigma }})^{-1/2}\\,\\exp \\left(-{\\frac {1}{2}}(\\mathbf {Y} -{\\boldsymbol {\\mu }})^{\\mathrm {T} }{\\boldsymbol {\\Sigma }}^{-1}(\\mathbf {Y} -{\\boldsymbol {\\mu }})\\right)$$\n",
    "\n",
    "\n",
    "\\begin{align*}\n",
    "(\\mathbf {Y} -{\\boldsymbol {\\mu }})^{\\mathrm {T} }{ { [C C^T] }}^{-1}(\\mathbf {Y} -{\\boldsymbol {\\mu }}) = \n",
    "[(\\mathbf {Y} -{\\boldsymbol {\\mu }})^{\\mathrm {T} } C^{-T}] C^{-1} (\\mathbf {Y} -{\\boldsymbol {\\mu }}) = {} & b\\\\\n",
    "[C^{-1}(\\mathbf {Y} -{\\boldsymbol {\\mu }})]^{\\mathrm {T} } C^{-1} (\\mathbf {Y} -{\\boldsymbol {\\mu }}) = {} & b \\;\\; \\Longrightarrow \\;\\; \\underbrace{\\textbf{z}^T\\textbf{z} = b}_{\\textbf{z} = C^{-1} (\\mathbf {Y} -{\\boldsymbol {\\mu }})} \\;\\;  \\underbrace{ \\Longrightarrow \\;\\;  C\\textbf{z} = \\mathbf {Y} -{\\boldsymbol {\\mu }}}_{\\text{solve for $\\textbf{z}$ compute $\\exp(\\textbf{z}^T\\textbf{z})$}} \\\\\n",
    "\\det(\\boldsymbol {\\Sigma }) = \\underbrace{\\det(CC^T) = \\det(C)\\det(C^T)}_{\\text{produces and trangular matrices are easy}} =  & {} \\prod_i C_{ii} \\prod_i C_{ii}^T = \\prod_i C_{ii}^2\n",
    "\\end{align*}\n",
    "    \n",
    "</span>"
   ]
  },
  {
   "cell_type": "markdown",
   "metadata": {
    "slideshow": {
     "slide_type": "slide"
    }
   },
   "source": [
    "<a name=\"cell-sovling-chol-mvn\"></a>\n",
    "\n",
    "## 5.5.C Multivariate Normal ([Return to TOC](#cell-solving))\n",
    "\n",
    "---\n",
    "\n",
    "***Cholesky decomposition*** $\\Sigma=CC^T$ and ***LU decomposition*** $\\Sigma=LU$ algorithms are both $O(n^3)$ but the ***Cholesky***\n",
    "\n",
    "- is constructed with half of as many operations\n",
    "- requires $n(n+1)/2$ elements, half of the $n^2+n$ elements stored in ***LU decomposition*** since $C$ is repeated\n",
    "\n",
    "- is twice as fast to ***invert*** since $(CC^T)^{-1} = (C^T)^{-1}C^{-1} = $ [$ \\;(C^{-T})C^{-1}$](https://math.stackexchange.com/questions/340233/transpose-of-inverse-vs-inverse-of-transpose) $= (C^{-1})^TC^{-1}$  only requires the computation of $C^{-1}$ while $(LU)^{-1} = U^{-1}L^{-1}$ requires both $L^{-1}$ and $U^{-1}$\n",
    "\n",
    "<!-- and so the ***Cholesky decomposition*** is an interesting exception to the typical ***time-space tradeoff*** since its construction outperforms ***LU decomposition*** both in computation *and* memory requirements. For additional details and commentary on ***Cholesky decomposition***, please see Keith Knight's STA410 [notes7.pdf](https://q.utoronto.ca/courses/296804/files?preview=24300633) document beginning on page 13 and [notes9.pdf](https://q.utoronto.ca/courses/296804/files?preview=24301088) beginning on page 37. -->\n",
    "\n",
    "$$\\text{Further }\\quad \\mathbf{Y} \\sim MVN(\\mathbf{0},\\mathbf{I}) \\quad \\Longrightarrow \\quad C Y \\sim MVN(\\mathbf{0}, \\boldsymbol \\Sigma=CC^T)$$\n",
    "\n",
    "$$\\text{so to evaluate }\\quad \\displaystyle (2\\pi )^{-k/2}\\det({\\boldsymbol {\\Sigma }})^{-1/2}\\,\\exp \\left(-{\\frac {1}{2}}(\\mathbf {Y} -{\\boldsymbol {\\mu }})^{\\mathrm {T} }{\\boldsymbol {\\Sigma }}^{-1}(\\mathbf {Y} -{\\boldsymbol {\\mu }})\\right)$$\n",
    "\n",
    "\n",
    "\\begin{align*}\n",
    "(\\mathbf {Y} -{\\boldsymbol {\\mu }})^{\\mathrm {T} }{ { [C C^T] }}^{-1}(\\mathbf {Y} -{\\boldsymbol {\\mu }}) = \n",
    "[(\\mathbf {Y} -{\\boldsymbol {\\mu }})^{\\mathrm {T} } C^{-T}] C^{-1} (\\mathbf {Y} -{\\boldsymbol {\\mu }}) = {} & b\\\\\n",
    "[C^{-1}(\\mathbf {Y} -{\\boldsymbol {\\mu }})]^{\\mathrm {T} } C^{-1} (\\mathbf {Y} -{\\boldsymbol {\\mu }}) = {} & b \\;\\; \\Longrightarrow \\;\\; \\underbrace{\\textbf{z}^T\\textbf{z} = b}_{\\textbf{z} = C^{-1} (\\mathbf {Y} -{\\boldsymbol {\\mu }})} \\;\\;  \\underbrace{ \\Longrightarrow \\;\\;  C\\textbf{z} = \\mathbf {Y} -{\\boldsymbol {\\mu }}}_{\\text{solve for $\\textbf{z}$ compute $\\exp(\\textbf{z}^T\\textbf{z})$}} \\\\\n",
    "\\color{white}{\\det(\\boldsymbol {\\Sigma }) = \\underbrace{\\det(CC^T) = \\det(C)\\det(C^T)}_{\\text{produces and trangular matrices are easy}} = } & {} \\color{white}{\\prod_i C_{ii} \\prod_i C_{ii}^T = \\prod_i C_{ii}^2}\n",
    "\\end{align*}"
   ]
  },
  {
   "cell_type": "markdown",
   "metadata": {
    "slideshow": {
     "slide_type": "slide"
    }
   },
   "source": [
    "<a name=\"cell-sovling-chol-mvn\"></a>\n",
    "\n",
    "## 5.5.C Multivariate Normal ([Return to TOC](#cell-solving))\n",
    "\n",
    "---\n",
    "\n",
    "***Cholesky decomposition*** $\\Sigma=CC^T$ and ***LU decomposition*** $\\Sigma=LU$ algorithms are both $O(n^3)$ but the ***Cholesky***\n",
    "\n",
    "- is constructed with half of as many operations\n",
    "- requires $n(n+1)/2$ elements, half of the $n^2+n$ elements stored in ***LU decomposition*** since $C$ is repeated\n",
    "\n",
    "- is twice as fast to ***invert*** since $(CC^T)^{-1} = (C^T)^{-1}C^{-1} = $ [$ \\;(C^{-T})C^{-1}$](https://math.stackexchange.com/questions/340233/transpose-of-inverse-vs-inverse-of-transpose) $= (C^{-1})^TC^{-1}$  only requires the computation of $C^{-1}$ while $(LU)^{-1} = U^{-1}L^{-1}$ requires both $L^{-1}$ and $U^{-1}$\n",
    "\n",
    "<!-- and so the ***Cholesky decomposition*** is an interesting exception to the typical ***time-space tradeoff*** since its construction outperforms ***LU decomposition*** both in computation *and* memory requirements. For additional details and commentary on ***Cholesky decomposition***, please see Keith Knight's STA410 [notes7.pdf](https://q.utoronto.ca/courses/296804/files?preview=24300633) document beginning on page 13 and [notes9.pdf](https://q.utoronto.ca/courses/296804/files?preview=24301088) beginning on page 37. -->\n",
    "\n",
    "$$\\text{Further }\\quad \\mathbf{Y} \\sim MVN(\\mathbf{0},\\mathbf{I}) \\quad \\Longrightarrow \\quad C Y \\sim MVN(\\mathbf{0}, \\boldsymbol \\Sigma=CC^T)$$\n",
    "\n",
    "$$\\text{so to evaluate }\\quad \\displaystyle (2\\pi )^{-k/2}\\det({\\boldsymbol {\\Sigma }})^{-1/2}\\,\\exp \\left(-{\\frac {1}{2}}(\\mathbf {Y} -{\\boldsymbol {\\mu }})^{\\mathrm {T} }{\\boldsymbol {\\Sigma }}^{-1}(\\mathbf {Y} -{\\boldsymbol {\\mu }})\\right)$$\n",
    "\n",
    "\n",
    "\\begin{align*}\n",
    "(\\mathbf {Y} -{\\boldsymbol {\\mu }})^{\\mathrm {T} }{ { [C C^T] }}^{-1}(\\mathbf {Y} -{\\boldsymbol {\\mu }}) = \n",
    "[(\\mathbf {Y} -{\\boldsymbol {\\mu }})^{\\mathrm {T} } C^{-T}] C^{-1} (\\mathbf {Y} -{\\boldsymbol {\\mu }}) = {} & b\\\\\n",
    "[C^{-1}(\\mathbf {Y} -{\\boldsymbol {\\mu }})]^{\\mathrm {T} } C^{-1} (\\mathbf {Y} -{\\boldsymbol {\\mu }}) = {} & b \\;\\; \\Longrightarrow \\;\\; \\underbrace{\\textbf{z}^T\\textbf{z} = b}_{\\textbf{z} = C^{-1} (\\mathbf {Y} -{\\boldsymbol {\\mu }})} \\;\\;  \\underbrace{ \\Longrightarrow \\;\\;  C\\textbf{z} = \\mathbf {Y} -{\\boldsymbol {\\mu }}}_{\\text{solve for $\\textbf{z}$ compute $\\exp(\\textbf{z}^T\\textbf{z})$}} \\\\\n",
    "\\det(\\boldsymbol {\\Sigma }) = \\underbrace{\\det(CC^T) = \\det(C)\\det(C^T)}_{\\text{produces and trangular matrices are easy}} =  & {} \\prod_i C_{ii} \\prod_i C_{ii}^T = \\prod_i C_{ii}^2\n",
    "\\end{align*}"
   ]
  },
  {
   "cell_type": "markdown",
   "metadata": {
    "slideshow": {
     "slide_type": "slide"
    }
   },
   "source": [
    "<a name=\"cell-sovling-mvn\"></a>\n",
    "\n",
    "## 5.5.D Square Root Decomposition ([Return to TOC](#cell-solving))\n",
    "\n",
    "---\n",
    "\n",
    "***Cholesky decomposition*** is sometimes referred to as the ***square-root decomposition***...<br> but for ***symmetric nonnegative definite*** $A$ the ***square-root decomposition*** is already defined based on ***diagonal*** $D$ and ***orthogonal*** $V$ as\n",
    "\n",
    "$$A^{\\frac{1}{2}} = VD^{\\frac{1}{2}}V^T \\quad \\text{ such that } \\quad \\left(A^{\\frac{1}{2}}\\right)^2= VDV^T = A$$\n",
    "\n",
    "***Square-root decomposition*** often proves useful in theoretical settings<br> whereas the computational efficiencies of ***Cholesky decomposition*** lead to its ubiquity in applied settings\n",
    "\n",
    "> The ***singular values = eigenvalues*** in ***PCA*** $X^TX=UDV^T = VDV^T$ <br>provide a ***square-root decomposition*** \n",
    ">\n",
    ">  $$(X^TX)^{\\frac{1}{2}} = VD^{\\frac{1}{2}}V^T$$\n",
    ">\n",
    ">  where $D^{\\frac{1}{2}} = \\tilde D$ are the ***singular values*** from $X = \\tilde U \\tilde DV^T$  \n",
    "\n"
   ]
  },
  {
   "cell_type": "markdown",
   "metadata": {
    "slideshow": {
     "slide_type": "slide"
    }
   },
   "source": [
    "<a name=\"cell-sovling-qr\"></a>\n",
    "\n",
    "## 5.5.E $QR$ Decomposition ([Return to TOC](#cell-solving))\n",
    "\n",
    "---\n",
    "\n",
    "***(Modified) Gram-Schmidt procedure*** processes $X$ into a ***linearly independent*** columns that can be ***normalized*** as $Q$\n",
    "\n",
    "- ***(Modified) Gram-Schmidt procedure*** details are addressed in `STA410_W24_Week5_Extra_LinearAlgebraAlgorithms.ipynb`\n",
    "\n",
    "<span style=\"color:white\">\n",
    "    \n",
    "Column $j$ of $Q$ is a linear combination of the first $j$ columns of $X$ so for some ***upper trapezoidal matrix*** $R$\n",
    "\n",
    "$$X = QR \\quad \\text{ with }\\textbf{(semi-)orthonormal } {Q_{\\cdot j}^TQ_{\\cdot j'} = \\left\\{\\begin{array}{l}1: \\text{if } j=j' \\quad  \\text{i.e., the columns are normal vectors}\\\\0: \\text{if } j\\not=j'  \\quad \\text{i.e., the columns are orthogonal}\\end{array}\\right.}$$\n",
    "\n",
    "The ***QR decomposition*** is ***rank revealing*** when $X$ is not ***full rank***, since ***linearly dependent*** produce $\\mathbf{0}$ column vectors\n",
    "\n",
    "$$\\overset{\\text{rank } r}{X_{n\\times m}} = \n",
    "\\overset{\\text{orthonormal}}{\\left[\\overbrace{Q_{n\\times r}}^{\\text{semi-}} \\; \\Big | \\; \\mathbf{0}_{n\\times (n-r)}\\right]}_{n \\times n} \\overset{\\text{trapezoidal}}{\\left[\\begin{array}{c}R_{r\\times m}\\\\\\mathbf{0}\\end{array} \\right]}_{n \\times m} = \\;\\;\\;Q_{n\\times r}R_{r\\times m}$$\n",
    "\n",
    "</span>\n",
    "\n",
    "- <font style=\"color:white\">$Q$ can be even more precisely calculated using ***Householder transformations*** (or ***reflections***); or, using ***Givens transformations*** (or ***rotations***) which are especially efficient if the data arives from memory row by row</font>\n",
    "\n",
    "<!-- As noted beginning on page 39 of Keith Knight's STA410 [notes9.pdf](https://q.utoronto.ca/courses/296804/files?preview=24301088) document, even though the ***(modified) Gram-Schmidt procedure*** is more numerically precise that the original ***Gram-Schmidt procedure***, the $Q$ matrix can be even more precisely calculated using ***Householder transformations*** (or ***reflections***); or, using ***Givens transformations*** (or ***rotations***), which are especially efficient if the data arives from memory row by row. -->\n"
   ]
  },
  {
   "cell_type": "markdown",
   "metadata": {
    "slideshow": {
     "slide_type": "slide"
    }
   },
   "source": [
    "<a name=\"cell-sovling-qr\"></a>\n",
    "\n",
    "## 5.5.E $QR$ Decomposition ([Return to TOC](#cell-solving))\n",
    "\n",
    "---\n",
    "\n",
    "***(Modified) Gram-Schmidt procedure*** processes $X$ into a ***linearly independent*** columns that can be ***normalized*** as $Q$\n",
    "\n",
    "- ***(Modified) Gram-Schmidt procedure*** details are addressed in `STA410_W24_Week5_Extra_LinearAlgebraAlgorithms.ipynb`\n",
    "\n",
    "\n",
    "    \n",
    "Column $j$ of $Q$ is a linear combination of the first $j$ columns of $X$ so for some ***upper trapezoidal matrix*** $R$\n",
    "\n",
    "$$X = QR \\quad \\text{ with }\\textbf{(semi-)orthonormal } {Q_{\\cdot j}^TQ_{\\cdot j'} = \\left\\{\\begin{array}{l}1: \\text{if } j=j' \\quad  \\text{i.e., the columns are normal vectors}\\\\0: \\text{if } j\\not=j' \\quad \\text{i.e., the columns are orthogonal}\\end{array}\\right.}$$\n",
    "\n",
    "\n",
    "<span style=\"color:white\">\n",
    "    \n",
    "The ***QR decomposition*** is ***rank revealing*** when $X$ is not ***full rank***, since ***linearly dependent*** produce $\\mathbf{0}$ column vectors\n",
    "\n",
    "$$\\overset{\\text{rank } r}{X_{n\\times m}} = \n",
    "\\overset{\\text{orthonormal}}{\\left[\\overbrace{Q_{n\\times r}}^{\\text{semi-}} \\; \\Big | \\; \\mathbf{0}_{n\\times (n-r)}\\right]}_{n \\times n} \\overset{\\text{trapezoidal}}{\\left[\\begin{array}{c}R_{r\\times m}\\\\\\mathbf{0}\\end{array} \\right]}_{n \\times m} = \\;\\;\\;Q_{n\\times r}R_{r\\times m}$$\n",
    "\n",
    "</span>\n",
    "\n",
    "- <font style=\"color:white\">$Q$ can be even more precisely calculated using ***Householder transformations*** (or ***reflections***); or, using ***Givens transformations*** (or ***rotations***) which are especially efficient if the data arives from memory row by row</font>\n",
    "\n",
    "<!-- As noted beginning on page 39 of Keith Knight's STA410 [notes9.pdf](https://q.utoronto.ca/courses/296804/files?preview=24301088) document, even though the ***(modified) Gram-Schmidt procedure*** is more numerically precise that the original ***Gram-Schmidt procedure***, the $Q$ matrix can be even more precisely calculated using ***Householder transformations*** (or ***reflections***); or, using ***Givens transformations*** (or ***rotations***), which are especially efficient if the data arives from memory row by row. -->\n"
   ]
  },
  {
   "cell_type": "markdown",
   "metadata": {
    "slideshow": {
     "slide_type": "slide"
    }
   },
   "source": [
    "<a name=\"cell-sovling-qr\"></a>\n",
    "\n",
    "## 5.5.E $QR$ Decomposition ([Return to TOC](#cell-solving))\n",
    "\n",
    "---\n",
    "\n",
    "***(Modified) Gram-Schmidt procedure*** processes $X$ into a ***linearly independent*** columns that can be ***normalized*** as $Q$\n",
    "\n",
    "- ***(Modified) Gram-Schmidt procedure*** details are addressed in `STA410_W24_Week5_Extra_LinearAlgebraAlgorithms.ipynb`\n",
    "\n",
    "Column $j$ of $Q$ is a linear combination of the first $j$ columns of $X$ so for some ***upper trapezoidal matrix*** $R$\n",
    "\n",
    "$$X = QR \\quad \\text{ with }\\textbf{(semi-)orthonormal } {Q_{\\cdot j}^TQ_{\\cdot j'} = \\left\\{\\begin{array}{l}1: \\text{if } j=j' \\quad  \\text{i.e., the columns are normal vectors}\\\\0: \\text{if } j\\not=j'  \\quad \\text{i.e., the columns are orthogonal}\\end{array}\\right.}$$\n",
    "\n",
    "The ***QR decomposition*** is ***rank revealing*** when $X$ is not ***full rank***, since ***linearly dependent*** produce $\\mathbf{0}$ column vectors\n",
    "\n",
    "$$\\overset{\\text{rank } r}{X_{n\\times m}} = \n",
    "\\overset{\\text{orthonormal}}{\\left[\\overbrace{Q_{n\\times r}}^{\\text{semi-}} \\; \\Big | \\; \\mathbf{0}_{n\\times (n-r)}\\right]}_{n \\times n} \\overset{\\text{trapezoidal}}{\\left[\\begin{array}{c}R_{r\\times m}\\\\\\mathbf{0}\\end{array} \\right]}_{n \\times m} = \\;\\;\\;Q_{n\\times r}R_{r\\times m}$$\n",
    "\n",
    "- $Q$ can be even more precisely calculated using ***Householder transformations*** (or ***reflections***); or, using ***Givens transformations*** (or ***rotations***) which are especially efficient if the data arives from memory row by row\n",
    "\n",
    "<!-- As noted beginning on page 39 of Keith Knight's STA410 [notes9.pdf](https://q.utoronto.ca/courses/296804/files?preview=24301088) document, even though the ***(modified) Gram-Schmidt procedure*** is more numerically precise that the original ***Gram-Schmidt procedure***, the $Q$ matrix can be even more precisely calculated using ***Householder transformations*** (or ***reflections***); or, using ***Givens transformations*** (or ***rotations***), which are especially efficient if the data arives from memory row by row. -->\n"
   ]
  },
  {
   "cell_type": "markdown",
   "metadata": {
    "slideshow": {
     "slide_type": "slide"
    }
   },
   "source": [
    "<a name=\"cell-sovling-qr\"></a>\n",
    "\n",
    "## 5.5.E $QR$ Decomposition ([Return to TOC](#cell-solving))\n",
    "\n",
    "---\n",
    "\n",
    "***(Modified) Gram-Schmidt procedure*** processes $X$ into a ***linearly independent*** columns that can be ***normalized*** as $Q$\n",
    "\n",
    "- ***(Modified) Gram-Schmidt procedure*** details are addressed in `STA410_W24_Week5_Extra_LinearAlgebraAlgorithms.ipynb`\n",
    "\n",
    "Column $j$ of $Q$ is a linear combination of the first $j$ columns of $X$ so for some ***upper trapezoidal matrix*** $R$\n",
    "\n",
    "$$X = QR \\quad \\text{ with }\\textbf{(semi-)orthonormal } {Q_{\\cdot j}^TQ_{\\cdot j'} = \\left\\{\\begin{array}{l}1: \\text{if } j=j' \\quad  \\text{i.e., the columns are normal vectors}\\\\0: \\text{if } j\\not=j'  \\quad \\text{i.e., the columns are orthogonal}\\end{array}\\right.}$$\n",
    "\n",
    "When $X=QR$ is ***full rank*** $R$ will be an ***upper triangular (full rank) matrix*** so that\n",
    "$\\hat \\beta$ solving $\\;X^TX\\hat \\beta = X^Ty\\;$ providing the ***least squares*** approximation $X\\hat \\beta \\approx  y$ can be immediately solved for using ***backward substitution*** on\n",
    "\n",
    "\\begin{eqnarray*}\n",
    "X^TX \\hat \\beta = & X^T y \\\\\n",
    "\\Longrightarrow R^TR \\hat \\beta = & R^TQ^T y\\\\\n",
    "\\overset{(R^T)^{-1} \\text{ exists}}{\\quad \\quad \\Longrightarrow} R \\hat \\beta = & Q^T y\n",
    "\\end{eqnarray*}\n",
    "\n",
    "leading to the [general advice](https://www.quora.com/Is-it-better-to-do-QR-Cholesky-or-SVD-for-solving-least-squares-estimate-and-why) to solve for $\\hat \\beta$ via ***QR decomposition*** rather than computing $X^TX$\n",
    "\n",
    "\n",
    "<!-- \n",
    "\n",
    "***QR Decomposition*** can also speed up solving ($n>m$) ***overdetermined*** (but ***consistent***) $A_{n \\times m}x=b$ (as opposed to $Ax\\approx b$) whenever $\\text{rank}(A) =r << m$ since \n",
    "\n",
    "$$A_{n \\times m}x = \\left[Q_{n \\times r}|Q_{n \\times (m-r)}'\\right] \\left[\\begin{array}{c}R_{r\\times m}\\\\\\mathbf{0}\\end{array} \\right] x=b \\quad \\text{ so } \\quad \\left[\\begin{array}{c}R\\\\\\mathbf{0}\\end{array} \\right]x = \\left[\\begin{array}{c}Q^T\\\\ Q'^T\\end{array} \\right] b$$\n",
    "\n",
    "and (when $A_{n \\times m}x=b$ is indeed ***consistent***)\n",
    "\n",
    "$$R_{r\\times r} \\overbrace{\\left[\\begin{array}{c}\\tilde x_{r\\times 1}\\\\\\mathbf{0}\\end{array} \\right]}^{x} =  \\overbrace{\\left[\\begin{array}{c} Q^T_{r \\times n} b_{n\\times 1}\\\\\\mathbf{0}\\end{array} \\right]}^{Q^Tb} \\quad \\text{ so } \\quad R_{r \\times r} \\tilde x = Q^Tb$$\n",
    "\n",
    "and this is a very small ***backward substitution*** compared to $L_{n \\times n}^{-1} A_{n \\times m}x = U_{n \\times m}x = L_{n \\times n}^{-1}b$.\n",
    "\n",
    "So even though $O(n^2m)$ ***QR decomposition*** will be about 5 times slower than ***Gaussian*** elimination (as seen above), this disadvantage may be made up for during the ***backward substitution*** step where $O(r^2)$ can be substantially faster than $O(nm)$.  And, actually, the general solution to an ***overdetermined*** system is to use the ***pseudoinverse*** available from ***SVD***. \n",
    "\n",
    "n = 1000\n",
    "A, b = stats.norm.rvs(size=(n,n)), stats.norm.rvs(size=(n,1))\n",
    "\n",
    "%timeit np.linalg.qr(A)\n",
    "\n",
    "%timeit np.linalg.solve(A,b)\n",
    "\n",
    "n,m = 2000,10\n",
    "X, y = stats.norm.rvs(size=(n,m)), stats.norm.rvs(size=(n,1))\n",
    "y = X[:,0]+X[:,1]\n",
    "\n",
    "%timeit Q,R = scipy.linalg.qr(np.tile(X,100)); np.linalg.solve(R[:10,:10], (Q.T@y)[:10])\n",
    "\n",
    "# np.linalg.lstsq(X,y, rcond=None)\n",
    "# https://stats.stackexchange.com/questions/240573/how-does-numpy-solve-least-squares-for-underdetermined-systems\n",
    "%timeit np.linalg.lstsq(np.tile(X,100),y, rcond=None)\n",
    "# Actually, numpy doesn't do an LU decomposition / Guassian elimination approach\n",
    "# rather, it uses SVD; still, this maintains a larger memory footprint than QR\n",
    "# https://math.stackexchange.com/questions/3252351/when-solving-a-linear-system-why-svd-is-preferred-over-qr-to-make-the-solution\n",
    "-->\n",
    "\n",
    "<!-- \n",
    "- The use of the ***QR decomposition*** for estimating a least squares linear model fit will be considered further in [Programming Portfolio Assignment 1 Problem 2](#cell-solving-start). \n",
    "-->\n",
    "\n",
    "<!-- a very interesting point to follow up on with Cholesky... could cholesky work?? can add this to the homework... -->\n",
    "<!-- https://www.quora.com/Is-it-better-to-do-QR-Cholesky-or-SVD-for-solving-least-squares-estimate-and-why -->"
   ]
  },
  {
   "cell_type": "markdown",
   "metadata": {
    "slideshow": {
     "slide_type": "slide"
    }
   },
   "source": [
    "<a name=\"cell-sovling-gradients\"></a>\n",
    "\n",
    "# [TO BE MOVED TO NEXT WEEK MATERIALS] Gradients ([Return to TOC](#cell-solving))\n",
    "\n",
    "--- \n",
    "\n",
    "The ***operator*** (i.e., function returning a function) $\\nabla_{x}$ is called the ***gradient*** and generalizes the ***derivative for scalar quantities*** as the vector collection of all the ***partial derivatives*** of its argument, the ***scalar valued multivariate function*** $f_x$, with respect to input elements $x_i$ of $f_x$\n",
    "\n",
    "$$ \\nabla_{x}(f_x) = \\frac{\\partial f_x}{\\partial x_1} e_1 + \\cdots + \\frac{\\partial f_x}{\\partial x_i} e_i + \\cdots + \\frac{\\partial f_x}{\\partial x_n} e_n $$\n",
    "\n",
    "for ***standard basis vectors*** $e_i$.\n",
    "\n",
    "Like the ***derivative***, the ***gradient*** is a ***linear operator*** with \n",
    " \n",
    "$$\\nabla_{x}(af_x+bg_x) = a\\nabla_{x}(f_x) + b\\nabla_{x}(g_x)$$\n",
    "\n",
    "and (as seen above) has the simple rules such as\n",
    "\n",
    "$$\\nabla_{x} x^Tb = b \\quad \\text{ and } \\quad \\nabla_{x} x^TAx = 2Ax$$"
   ]
  },
  {
   "cell_type": "markdown",
   "metadata": {
    "slideshow": {
     "slide_type": "slide"
    }
   },
   "source": [
    "<a name=\"cell-sovling-lulike\"></a>\n",
    "\n",
    "# [TO BE MOVED TO NEXT WEEK MATERIALS] 3.3.2 Finding $X\\hat \\beta \\approx y$ by solving for $\\hat \\beta$ in $\\overset{A\\, x}{X^T\\!X \\hat \\beta} = \\overset{b}{X^t y}$ ([Return to TOC](#cell-solving))\n",
    "\n",
    "---\n",
    "\n",
    "The linear regression model $y = X\\beta + \\epsilon$ can be re-expressed as the ($n>m$) ***overdetermined*** problem\n",
    "\n",
    "$$\\begin{align*}\n",
    " \\overbrace{X_{n \\times m} \\hat \\beta}^{A\\,x} = {} & \\overbrace{y - \\hat \\epsilon}^{b} \n",
    "\\end{align*}$$\n",
    "\n",
    "Of course unless $\\epsilon=0$, this leads to the ***inconsistent*** system of equations $X \\hat \\beta \\not = y$. However, $X \\hat \\beta \\approx y$ if \n",
    "\n",
    "<!--\n",
    "$$\\begin{align*}\n",
    "\\hat \\beta = {} & \\underset{\\quad \\; \\beta: \\; \\hat \\epsilon \\; = \\; y - X\\beta }{\\text{argmin } ||\\hat \\epsilon||_2^2} \\\\\n",
    " = {} & \\underset{\\beta}{\\text{argmin }} ||y - X \\beta ||_2^2 = \\underset{\\beta}{\\text{argmin }} (y - X \\beta )^T(y - X \\beta ) \\\\\n",
    "\\end{align*}\n",
    "$$\n",
    "-->\n",
    "\n",
    "\\begin{align*}\n",
    "  \\hat \\beta = {} & \\underset{\\quad \\; \\beta: \\; \\hat \\epsilon \\; = \\; X\\beta - y}{\\text{argmin } ||\\hat \\epsilon||_2^2} \n",
    "  = \\underset{\\beta}{\\text{argmin }} ||y-X \\beta||_2^2  \\\\\n",
    "  = {} & \\underset{\\beta}{\\text{argmin }} (y-X \\beta)^T(y- X \\beta) \n",
    "  = \\underset{\\beta}{\\text{argmin }} \\underbrace{\\beta^TX^TX \\beta -2\\beta^TX^Ty}_{f(\\beta)} \\\\\n",
    "  0 = {} & \\overbrace{\\nabla_\\beta \\left( \\beta^TX^TX \\beta -2\\beta^TX^Ty \\right)}^{\\nabla_\\beta f(\\hat \\beta )}\\\\\n",
    "  0 = {} &  X^TX \\hat \\beta - X^T y  \\quad \\Longrightarrow \\quad  \\underset{{\\text{$\\sum_i \\hat \\epsilon_i = 0$ if $X$ has an intercept column} }}{\\overset{\\text{residuals are othogonal to columns $X_{*j}$}}{0 = X^T (X \\hat \\beta - y) = X^T\\hat \\epsilon }} \\\\\n",
    "  \\Longrightarrow \\quad X^T y = {} &  X^TX \\hat \\beta \\quad \\longleftarrow \\quad \\textrm{the so-called } \\textit{normal equations}\n",
    "  \\end{align*}\n",
    "\n",
    "so that $\\hat \\beta$ above is the solution to the ***normal equations*** $\\overbrace{(X^TX) \\hat \\beta}^{A\\,x} = \\overbrace{X^TY}^{b}$, which leads to the familiar analytical solution $\\underbrace{\\hat \\beta}_x = \\underbrace{(X^TX)^{-1}}_{A^{-1}}\\underbrace{X^TY}_b$.\n",
    "\n",
    "So \n",
    "\n",
    "$$X \\hat \\beta\\approx y \\quad \\text{ transforms into } \\quad X^TX\\hat \\beta = X^Ty \\quad (\\text{or generically } Ax = b)$$ \n",
    "\n",
    "such that solving for $\\hat \\beta$ in the latter provides $X \\hat \\beta\\approx y$."
   ]
  },
  {
   "cell_type": "code",
   "execution_count": null,
   "metadata": {},
   "outputs": [],
   "source": []
  }
 ],
 "metadata": {
  "celltoolbar": "Slideshow",
  "colab": {
   "provenance": []
  },
  "kernelspec": {
   "display_name": "Python 3 (ipykernel)",
   "language": "python",
   "name": "python3"
  },
  "language_info": {
   "codemirror_mode": {
    "name": "ipython",
    "version": 3
   },
   "file_extension": ".py",
   "mimetype": "text/x-python",
   "name": "python",
   "nbconvert_exporter": "python",
   "pygments_lexer": "ipython3",
   "version": "3.11.4"
  }
 },
 "nbformat": 4,
 "nbformat_minor": 1
}
