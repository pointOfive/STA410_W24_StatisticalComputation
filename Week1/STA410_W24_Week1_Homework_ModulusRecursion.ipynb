{
 "cells": [
  {
   "cell_type": "markdown",
   "id": "cd079a2e",
   "metadata": {},
   "source": [
    "# STA410 Week 1 Programming Assignment \n",
    "\n",
    "0. **Paired or individual assignment.** Create code solutions for these assignments either individually or in the context of a paired effort. \n",
    "\n",
    "   >  Seek homework partners in class, in course discussion board on piazza, etc.   \n",
    " \n",
    "    \n",
    "1. **Paired students each separately submit their (common) work, including (agreeing) contribution of work statements for each problem.**  \n",
    "  \n",
    "   > Students must work in accordance with the [University of Toronto’s Code of Behaviour on Academic Matters](https://governingcouncil.utoronto.ca/secretariat/policies/code-behaviour-academic-matters-july-1-2019) (and see also http://academicintegrity.utoronto.ca.); however, students working in pairs may share work without restriction within their pair. Getting and sharing \"hints\" from other classmates is encouraged; but, the eventual code creation work and submission must be your own individual or paired creation.\n",
    "      \n",
    "2. **Do not delete, replace, or rearranged cells** as this erases `cell ids` upon which automated code tests are based.\n",
    "\n",
    "   > The \"Edit > Undo Delete Cells\" option in the notebook editor might be helpful; otherwise, redownload the notebook (so it has the correct required `cells ids`) and repopulate it with your answers (assuming you don't overwrite them when you redownload the notebook).\n",
    "  >> ***If you are working in any environment other than*** [UofT JupyterHub](https://jupyter.utoronto.ca/hub/user-redirect/git-pull?repo=https://github.com/pointOfive/sta410hw0&branch=master), [Google Colab](https://colab.research.google.com/github/pointOfive/sta410hw0/blob/master/sta410hw0.ipynb), or [UofT JupyterLab](https://jupyter.utoronto.ca/hub/user-redirect/git-pull?repo=https://github.com/pointOfive/sta410hw0&branch=master&urlpath=/lab/tree/sta410hw0), your system must meet the following versioning requirements \n",
    "   >>\n",
    "   >>   - [notebook format >=4.5](https://github.com/jupyterlab/jupyterlab/issues/9729) \n",
    "   >>   - jupyter [notebook](https://jupyter.org/install#jupyter-notebook) version [>=6.2](https://jupyter-notebook.readthedocs.io/en/stable/) for \"classic\" notebooks served by [jupyterhub](https://jupyterhub.readthedocs.io/en/stable/quickstart.html)\n",
    "   >>   - [jupyterlab](https://jupyter.org/install) version [>=3.0.13](https://github.com/jupyterlab/jupyterlab/releases/tag/v3.0.13) for \"jupyterlab\" notebooks  \n",
    "   >>    \n",
    "   >> otherwise `cell ids` mat not be supported and you will not get any credit for your submitted homework.\n",
    "   >>\n",
    "   >> You may check if `cell ids` are present and working by running the following command in a cell \n",
    "   >>\n",
    "   >> `! grep '\"id\":' <path/to/notebook>.ipynb`\n",
    "   >>\n",
    "   >> and making sure the `cell ids` **do not change** when you save your notebook.\n",
    "   \n",
    "3. ***You may add cells for scratch work*** but if required answers are not submitted through the provided cells where the answers are requested your answers may not be marked.\n",
    "\n",
    " \n",
    "4. **No cells may have any runtime errors** because this causes subsequent automated code tests to fail and you will not get marks for tests which fail because of previous runtime errors. \n",
    "\n",
    "  > Run time errors include, e.g., unassigned variables, mismatched parentheses, and any code which does not work when the notebook cells are sequentially run, even if it was provided for you as part of the starter code. ***It is best to restart and re-run the cells in your notebook to ensure there are no runtime errors before submitting your work.***\n",
    "  >\n",
    "  > - The `try`-`except` block syntax catches runtime errors and transforms them into `exceptions` which will not cause subsequent automated code tests to fail.  \n",
    "\n",
    "\n",
    "5. **No jupyter shortcut commands** such as `! python script.py 10` or `%%timeit` may be included in the final submission as they will cause subsequent automated code tests to fail.\n",
    "\n",
    "   > ***Comment out ALL jupyter shortcut commands***, e.g., `# ! python script.py 10` or `# %%timeit` in submitted notebooks.\n",
    "\n",
    "\n",
    "6. **Python library imports are limited** to only libraries imported in the starter code and the [standard python modules](https://docs.python.org/3/py-modindex.html). Importing additional libraries will cause subsequent automated code tests to fail.\n",
    "\n",
    "  > Unless a problem instructs differently, you may use any functions available from the libraries imported in the starter code; otherwise, you are expected to create your own Python functionality based on the Python stdlib (standard libary, i.e., base Python and standard Python modules).\n",
    "\n",
    "\n",
    "7. You are encouraged to adapt code you find available online into your notebook; however, if you do so please provide a link to the utilized resource. ***If failure to cite such references is identified and confirmed, your mark will be immediately reduced to 0.***  "
   ]
  },
  {
   "cell_type": "code",
   "execution_count": 1,
   "id": "aac48101",
   "metadata": {
    "deletable": false,
    "editable": false
   },
   "outputs": [],
   "source": [
    "# Unless otherwise instructed, you may use any functions available \n",
    "# from the following library imports\n",
    "import numpy as np\n",
    "import matplotlib.pyplot as plt"
   ]
  },
  {
   "cell_type": "markdown",
   "id": "9ca9ecd3",
   "metadata": {},
   "source": [
    "# Problem 0 (required)\n",
    "\n",
    "Are you working with a partner to complete this assignment?  \n",
    "- If not, assign  the value of `None` into the variable `Partner`.\n",
    "- If so, assign the name of the person you worked with into the variable `Partner`.\n",
    "    - Format the name as `\"<First Name> <Last Name>\"` as a `str` type, e.g., \"Scott Schwartz\"."
   ]
  },
  {
   "cell_type": "code",
   "execution_count": 2,
   "id": "fae98395",
   "metadata": {},
   "outputs": [],
   "source": [
    "# Required: only worth points when not completed, in which case, you'll lose points\n",
    "Partner = None\n",
    "# This cell will produce a runtime error until you assign a value to this variable"
   ]
  },
  {
   "cell_type": "markdown",
   "id": "3af5e7de",
   "metadata": {},
   "source": [
    "What was your contribution in completing the code for this assignments problems? Assign one of the following into each of the `Problem_X` variables below.\n",
    "\n",
    "- `\"I worked alone\"`\n",
    "- `\"I contributed more than my partner\"`\n",
    "- `\"My partner and I contributed equally\"`\n",
    "- `\"I contributed less than my partner\"`\n",
    "- `\"I did not contribute\"`"
   ]
  },
  {
   "cell_type": "code",
   "execution_count": 3,
   "id": "23a3bea2",
   "metadata": {},
   "outputs": [],
   "source": [
    "# Required: only worth points when not completed, in which case, you'll lose points\n",
    "Problem_1 = \"I worked alone\"\n",
    "Problem_2 = \"I worked alone\"\n",
    "# This cell will produce a runtime error until you assign a value to this variable"
   ]
  },
  {
   "cell_type": "markdown",
   "id": "ea1e9895",
   "metadata": {},
   "source": [
    "# Problem 1\n",
    "\n",
    "Functions are first-class objects in Python, so they can be inputs and outputs of functions. This problem demonstrates returning a function from a function, as well as making the value returned by a function the output of a call to another function.\n",
    "\n",
    "Convert the [*recursive*](https://www.google.com/search?sxsrf=APq-WBt93bhrPNQH9wqbxeHm-DXychMfHA:1644774898893&q=recursion&spell=1&sa=X&ved=2ahUKEwjTttX8n_31AhUCm-AKHTKBD7UQBSgAegQIAhAy) function `pseudorandom_integer_sampler` created by the function `create_integer_sampler` \n",
    "into an *iterative* (i.e., a sequential \"for loop\" based) implementation of the *first order sequential congruential method* producing variable $u_k$ according to the recursive function\n",
    "\n",
    "$$u_k = au_{k-1} \\text{ mod } m \\quad 0 < |u_k| < m$$\n",
    "  \n",
    "The `create_integer_sampler` function is parameterized by `int`s multiplier `a` and modulus `m`\n",
    "and the `pseudorandom_integer_sampler` is parameterized by `n` which is an `int` representing desired sample size \n",
    "and `pseudorandom_sample` which is a `list` that is initially set to `[s]` where `s` is an `int` which provides the \"seed\" which initializes the pseudorandom number generation process\n",
    "    \n",
    "\n",
    "\n",
    "\n",
    "*This problem is inspired by **Generation of Pseudorandom Numbers from a Uniform Distribution** on page 306 in Chapter 7.1 and **Recursion** on page 119-121 in Chapter 3.3 **Efficiency** (and in particular the third and second to last paragraphs on page 120) of James E. Gentle's **Computational Statistics** textbook.*"
   ]
  },
  {
   "cell_type": "markdown",
   "id": "7d6ff778",
   "metadata": {},
   "source": [
    "## Motivation\n",
    "\n",
    "Recursive functions can be very powerful when used in *divide and conquer* algorithms\n",
    "    \n",
    "> e.g. see the subsections \"Recursion\", \"Improving Efficiency\", and \"Divide and Conquer\", and Algorithms 3.1 \"Merge\" and 3.2 \"MergeSort\" on pages 119-124 James E. Gentle's Computational Statistics textbook, which build on \n",
    "    > the ubiquitous \"Big O\" and \"little o\" notation prerequesites discussed Section 3.3 \"Efficiency\"\n",
    "\n",
    "but as with all recursive implementations (not optimized via a compiler via [tail recursion](https://stackoverflow.com/questions/33923/what-is-tail-recursion)), the recursive implementation of $u_k = au_{k-1} \\text{ mod } m$, e.g.,\n",
    "\n",
    "```python\n",
    "def f(a, m, n, s):\n",
    "    if n is 0:\n",
    "        return []\n",
    "    else:\n",
    "        x = a*s % m\n",
    "        return [x] + f(a, m, n-1, x)\n",
    "```\n",
    "\n",
    "entails the overhead of retaining the state of function calls on the \"stack\" until they complete\n",
    "\n",
    "> i.e., `f(a, m, n, x)` may not be \"popped\" from the \"stack\" until `[x] + f(a, m, n-1, x)` completes, which means `f(a, m, n, x)` can't be removed from memory until `f(a, m, n-1, x)` is removed from memory\n",
    "\n",
    "and this recursion is fully sequential providing no *divide and conquer* affect(!); thus, despite the natural recusive specification of this problem the recursive implementation unnecessarily requries more computational resources without providing any recursive divide and conquer benefit compared with a direct iterative \"for loop\" implementation.  "
   ]
  },
  {
   "cell_type": "code",
   "execution_count": 17,
   "id": "bdc59f4e",
   "metadata": {
    "deletable": false
   },
   "outputs": [],
   "source": [
    "# Python code doesn't run if it's not consistently indented\n",
    "def create_integer_sampler(a, m):\n",
    "    \n",
    "    \"\"\"\n",
    "    a : (int) multiplier\n",
    "    m : (int) modulus\n",
    "    \n",
    "    This function creates and returns an iterative function for pseudorandom number generation\n",
    "    using the first order sequential congruential method u_k = au_{k-1} mod m, 0<|u_k|<m \n",
    "    \"\"\"\n",
    "    # Docstrings (above) are text displayed with `help` function\n",
    "    # or with a question mark following the name of the function, e.g.,\n",
    "    # `help(create_recursive_function)` or `create_recursive_function?`\n",
    "    # Docstrings should contain helpful information for using a function.\n",
    "    # Write your docstrings so that they facilitate use of your function.\n",
    "                    \n",
    "    def pseudorandom_integer_sampler(n=30, pseudorandom_sample=[1]):\n",
    "            \n",
    "        '''\n",
    "        n : (int) number of samples, optional, default value 30\n",
    "        pseudorandom_sample : (List[int]) initial list containing some pseudorandom samples, optional, default value [1]\n",
    "\n",
    "        This function creates up to n pseudorandom numbers iteratively using the \n",
    "        first order sequential congruential method u_k = au_{k-1} mod m\n",
    "        with 0 < |u_k|<m. a, m are the arguments passed to create_integer_sampler.\n",
    "        All generated pseudorandom numbers are added to the list pseudorandom_sample.\n",
    "        The function terminates when n <= 1 or we create a pseudorandom\n",
    "        number which is already present in our pseudorandom_sample list, whichever comes first.\n",
    "        '''\n",
    "        \n",
    "        # code debugging printouts, if needed\n",
    "        # print(a, m, n, pseudorandom_sample)\n",
    "        # Q: Why are `a` and `m` available here even though they are not defined in this function?\n",
    "        # A: The function looks for variables it can't find in its \"parent scope\" where it was defined\n",
    "        \n",
    "        if n<=1:\n",
    "            # What would happen without this check?\n",
    "            return pseudorandom_sample\n",
    "            \n",
    "        while (n > 1):\n",
    "            next_pseudorandom_sample = (a * pseudorandom_sample[-1]) % m # u_k-1 is last element in our list. Implement formula \n",
    "            if next_pseudorandom_sample in pseudorandom_sample:\n",
    "                print(\"Warning: sampling period reached -- psuedorandom samples are being repeated\")\n",
    "                return pseudorandom_sample\n",
    "                \n",
    "            # Here `pseudorandom_sample` is expected to be a `list` type object and\n",
    "            # Python overloads the `+` operator in `list_a + list_b` as list concatenation\n",
    "            pseudorandom_sample += [next_pseudorandom_sample] # `a = a+b` shorthands `a += b`\n",
    "            n -=1\n",
    "        return pseudorandom_integer_sampler(n-1, pseudorandom_sample)\n",
    "                    \n",
    "    # Functions are \"first class objects\" in Python\n",
    "    return pseudorandom_integer_sampler\n",
    "    # so function objects themselves (and not just their results)\n",
    "    # can be returned as the output of a functions"
   ]
  },
  {
   "cell_type": "markdown",
   "id": "1613c146",
   "metadata": {},
   "source": [
    "## Hints\n",
    "\n",
    "The code above has the following issues:\n",
    "\n",
    "- The code `next_pseudorandom_sample = 0` is wrong in function `pseudorandom_integer_sampler`.\n",
    "\n",
    "\n",
    "- You will get the runtime error `RecursionError: maximum recursion depth exceeded in comparison` if you have not yet converted to an interative implementation as required for this problem. Do not [increase the maximum recursion stack depth](https://stackoverflow.com/questions/3323001/what-is-the-maximum-recursion-depth-in-python-and-how-to-increase-it) to get around this as this does not address the issue of unnecessarily wasted computational overhead of storing function state spaces on the stack while waiting for the nested functions to complete; and, this will be reset during automatic code testing  anyway...\n",
    "\n",
    "- Recall following following standard Python usages:\n",
    "\n",
    "```python\n",
    "n = 10\n",
    "my_list = [0]*n\n",
    "for i in range(n):\n",
    "    my_list[i] = i\n",
    "my_list\n",
    "```\n",
    "\n",
    "- The design of the signature of the provided starter allows it to be used as\n",
    "\n",
    "  ```python\n",
    "my_psuedor_sampler = create_integer_sampler(a=811, m=7919)\n",
    "seed = 10\n",
    "len(my_psuedor_sampler(n=4000, pseudorandom_sample=[seed]))\n",
    "  ```\n",
    "\n",
    "   Certainly the function signature (and corresponding usage) may be changed however you wish; however, any such changes must be corresondingly adjusted for the subsequent default function calls provided below."
   ]
  },
  {
   "cell_type": "code",
   "execution_count": 13,
   "id": "94b1e89b",
   "metadata": {},
   "outputs": [],
   "source": [
    "# Cell for scratch work\n",
    "\n",
    "# You are welcome to add as many new cells into this notebook as you would like.\n",
    "# Just don't have scratch work cells with runtime errors because \n",
    "# notebook cells are run sequentially for automated code testing\n",
    "# and a runtime error causes the next automated test to automatically fail\n",
    "\n",
    "# Any cells included for scratch work that are no longer needed may be deleted so long as \n",
    "# - all the required functions are still defined and available when called\n",
    "# - no cells requiring variable assignments are deleted \n",
    "#    - as this causes their `cell ids` to be lost, but these `cell-ids` are required for automated code testing."
   ]
  },
  {
   "cell_type": "code",
   "execution_count": 18,
   "id": "23cf157e",
   "metadata": {},
   "outputs": [
    {
     "name": "stdout",
     "output_type": "stream",
     "text": [
      "Warning: sampling period reached -- psuedorandom samples are being repeated\n"
     ]
    },
    {
     "data": {
      "text/plain": [
       "3959"
      ]
     },
     "execution_count": 18,
     "metadata": {},
     "output_type": "execute_result"
    }
   ],
   "source": [
    "# Cell for scratch work\n",
    "my_psuedor_sampler = create_integer_sampler(a=811, m=7919) \n",
    "seed = 10 \n",
    "len(my_psuedor_sampler(n=4000, pseudorandom_sample=[seed]))"
   ]
  },
  {
   "cell_type": "markdown",
   "id": "1f6ce642",
   "metadata": {},
   "source": [
    "### Problem 1 Question 0 (1 point)\n",
    "\n",
    "In addition to providing a high level statement of the purpose of a function,\n",
    "docstrings must indicate how to use the function (including types and restrictions on inputs)\n",
    "and the expected behavior of the returned output (and its type).\n",
    "\n",
    "- A. (0.25 point) Adjust the docstring in the function `create_integer_sampler` to reflect your coding updates.\n",
    "- B. (0.25 point) What will be the length of the \"sample\" returned from the function call `my_pseudorandom_integer_sampler(n=10, pseudorandom_sample=[m])` for `m` the value passed to the `create_integer_sampler` function used to create `my_pseudorandom_integer_sampler`?\n",
    "- C. (0.5 points) Write a docstring for the function `pseudorandom_integer_sampler` which specifies the nature of the inputs and outputs of the function (and their types) and describes what the function itself does (including addressing `seed` and `n` and their restrictions and limitations).\n",
    "\n",
    "\n",
    "Hint: You can examine your docstring with, e.g., \n",
    "  - `create_integer_sampler?` and `create_integer_sampler(7,17)?` or\n",
    "  - `help(create_integer_sampler)` and `help(create_integer_sampler(7,17))`"
   ]
  },
  {
   "cell_type": "code",
   "execution_count": 19,
   "id": "e263c7fa",
   "metadata": {},
   "outputs": [],
   "source": [
    "# 0.25 points [format: `int`]\n",
    "p1q0b = 2 # 0, 1, 2, ... \n",
    "# Uncomment the above and keep only a single integer number\n",
    "\n",
    "# m is congruent to 0 mod m. a * 0 = 0 mod m. \n",
    "# first element in the list will be m. Second element will be the sample generated by the function, 0. On the third iteration, we will return.\n",
    "# since we already added 0 to our list. Thus the length will be 2.\n",
    "\n",
    "# This cell will produce a runtime error until you assign a value to this variable"
   ]
  },
  {
   "cell_type": "code",
   "execution_count": 23,
   "id": "fc6ec642",
   "metadata": {},
   "outputs": [
    {
     "name": "stdout",
     "output_type": "stream",
     "text": [
      "Help on function create_integer_sampler in module __main__:\n",
      "\n",
      "create_integer_sampler(a, m)\n",
      "    a : (int) multiplier\n",
      "    m : (int) modulus\n",
      "    \n",
      "    This function creates and returns an iterative function for pseudorandom number generation\n",
      "    using the first order sequential congruential method u_k = au_{k-1} mod m, 0<|u_k|<m\n",
      "\n",
      "Help on function pseudorandom_integer_sampler in module __main__:\n",
      "\n",
      "pseudorandom_integer_sampler(n=30, pseudorandom_sample=[1])\n",
      "    n : (int) number of samples, optional, default value 30\n",
      "    pseudorandom_sample : (List[int]) initial list containing some pseudorandom samples, optional, default value [1]\n",
      "    \n",
      "    This function creates up to n pseudorandom numbers iteratively using the \n",
      "    first order sequential congruential method u_k = au_{k-1} mod m\n",
      "    with 0 < |u_k|<m. a, m are the arguments passed to create_integer_sampler.\n",
      "    All generated pseudorandom numbers are added to the list pseudorandom_sample.\n",
      "    The function terminates when n <= 1 or we create a pseudorandom\n",
      "    number which is already present in our pseudorandom_sample list, whichever comes first.\n",
      "\n"
     ]
    }
   ],
   "source": [
    "help(create_integer_sampler)\n",
    "help(create_integer_sampler(7,17))"
   ]
  },
  {
   "cell_type": "markdown",
   "id": "c57f319d",
   "metadata": {},
   "source": [
    "### Problem 1 Questions 1 (1 point)\n",
    "\n",
    "Suppose `my_pseudorandom_integer_sampler` is created with `create_integer_sampler(a,m)`.\n",
    "\n",
    "- A. (0.2 points) Will `my_pseudorandom_integer_sampler` always return the requested sample size when initialized with `pseudorandom_sample=[seed]` for integer `seed` greater than `0` and less than `m`? \"Yes\" or \"No\"?\n",
    "- B. (0.2 points) Are all the values in `pseudorandom_sample[1:]` negative if `seed` in `pseudorandom_sample=[seed]` is a negative integer? \"Yes\" or \"No\"?\n",
    "- C. (0.2 points) Are all the values in `pseudorandom_sample[1:]` less than `m` if `seed` in `pseudorandom_sample=[seed]` is an integer greater than `m`? \"Yes\" or \"No\"?\n",
    "- D. (0.2 points) The algorithm is only is designed to be used with `pseudorandom_sample=[seed]`\n",
    "for positive integer values for `seed` less than `m`; but, can `my_pseudorandom_integer_sampler` technically be initialized and fun for non-integer values of `seed? \"Yes\" or \"No\"?\n",
    "- E. (0.2 points) In the original code, the `if n<=1` condition is designed to ensure infinite recursion is avoided. Is it possible to have infinite recursion in the updated interative version of the function? \"Yes\" or \"No\"?\n",
    "    \n",
    "Hint: in order for the iterative algorithm to match the behavior of the recursive algorithm, you should not code any restrictitions on the inputs that can be accepted by `pseudorandom_integer_sampler`; but, these questions will probably suggest to you that theoretically you could, and might want to..."
   ]
  },
  {
   "cell_type": "code",
   "execution_count": null,
   "id": "7d1a4a10",
   "metadata": {
    "deletable": false
   },
   "outputs": [],
   "source": []
  },
  {
   "cell_type": "code",
   "execution_count": 34,
   "id": "aa7e3bc3",
   "metadata": {
    "deletable": false
   },
   "outputs": [],
   "source": [
    "# 0.2 points each [format: `str` either \"Yes\" or \"No\"]\n",
    "p1q1a = \"No\" # By the pigeonhole principle, if n is > m we will generate numbers which we already generated and terminate early. \n",
    "p1q1b = \"No\" \n",
    "p1q1c = \"Yes\" \n",
    "p1q1d = \"Yes\" \n",
    "p1q1e = \"No\" \n",
    "\n",
    "# This cell will produce a runtime error until you assign a value to this variable"
   ]
  },
  {
   "cell_type": "markdown",
   "id": "001cea60",
   "metadata": {},
   "source": [
    "### Problem 1 Question 2 (1 point)\n",
    "\n",
    "What are the *periods*, i.e., the number of unique pseudorandom integers generated by the first order sequential congruential method defined by the following specifications?\n",
    "\n",
    "- A. (0.2 points) `create_integer_sampler(a=5, m=7919)(8000,[88]) # m is prime` \n",
    "- B. (0.2 points) `create_integer_sampler(a=6, m=7919)(8000,[88]) # m is prime`\n",
    "- C. (0.2 points) `create_integer_sampler(a=7, m=7919)(8000,[88]) # m is prime, a is a primitive root modulo m`\n",
    "- D. (0.2 points) `create_integer_sampler(a=7, m=89*89)(8000,[88])`  \n",
    "- E. (0.2 points) `create_integer_sampler(a=7, m=89*89)(8000,[89]) # different seed`\n",
    "\n",
    "Your `create_integer_sampler` function and it's returned (function) will just be tested directly for the above calls; and,<br>the algorithm will be checked to ensure the recursive specification was converted to an iterative specification."
   ]
  },
  {
   "cell_type": "code",
   "execution_count": 212,
   "id": "0a093732",
   "metadata": {},
   "outputs": [],
   "source": [
    "# Cell for scratch work\n",
    "\n",
    "# You are welcome to add as many new cells into this notebook as you would like.\n",
    "# Just don't have scratch work cells with runtime errors because \n",
    "# notebook cells are run sequentially for automated code testing.\n",
    "\n",
    "# Any cells included for scratch work that are no longer needed may be deleted so long as \n",
    "# - all the required functions are still defined and available when called\n",
    "# - no cells requiring variable assignments are deleted \n",
    "#    - as this causes their `cell ids` to be lost, but these `cell-ids` are required for automated code testing."
   ]
  },
  {
   "cell_type": "code",
   "execution_count": null,
   "id": "49929886",
   "metadata": {},
   "outputs": [],
   "source": [
    "# Cell for scratch work\n"
   ]
  },
  {
   "cell_type": "code",
   "execution_count": 28,
   "id": "58687895",
   "metadata": {
    "deletable": false
   },
   "outputs": [
    {
     "name": "stdout",
     "output_type": "stream",
     "text": [
      "Warning: sampling period reached -- psuedorandom samples are being repeated\n",
      "Warning: sampling period reached -- psuedorandom samples are being repeated\n",
      "Warning: sampling period reached -- psuedorandom samples are being repeated\n",
      "Warning: sampling period reached -- psuedorandom samples are being repeated\n",
      "Warning: sampling period reached -- psuedorandom samples are being repeated\n",
      "3959 37 7918 7832 88\n"
     ]
    }
   ],
   "source": [
    "# 1 point [format: `int`]\n",
    "my_psuedor_sampler = create_integer_sampler(a=5, m=7919)\n",
    "seed = 88 # assign values to seed here and n below\n",
    "p1q2a = len(my_psuedor_sampler(n=8000, pseudorandom_sample=[seed])) \n",
    "# Uncommenting the line above will assign the correct value to `p2q2` if `seed` and `n` \n",
    "# have been given reasonable values and your iterative implementation is correct\n",
    "my_psuedor_sampler2 = create_integer_sampler(a=6, m=7919)\n",
    "my_psuedor_sampler3 = create_integer_sampler(a=7, m=7919)\n",
    "my_psuedor_sampler4 = create_integer_sampler(a=7, m=89*89)\n",
    "p1q2b = len(my_psuedor_sampler2(n=8000, pseudorandom_sample=[seed]))\n",
    "p1q2c = len(my_psuedor_sampler3(n=8000, pseudorandom_sample=[seed]))\n",
    "p1q2d = len(my_psuedor_sampler4(n=8000, pseudorandom_sample=[seed]))\n",
    "p1q2e = len(my_psuedor_sampler4(n=8000, pseudorandom_sample=[89]))\n",
    "print(p1q2a, p1q2b, p1q2c, p1q2d, p1q2e)\n",
    "# This cell will produce a runtime error until all variables are assigned values"
   ]
  },
  {
   "cell_type": "markdown",
   "id": "96136734",
   "metadata": {
    "deletable": false
   },
   "source": [
    "### Problem 1 Question 3 (1 point)\n",
    "\n",
    "The results of the previous problem are representative of the true general behaviors of the algorithm under consideration.\n",
    "\n",
    "- A. (0.25 points) Does the maximum *period* ($m-1$) require that `m` is prime and `a` is a primitive root modulo `m`? \"Yes\" or \"No\"?\n",
    "- B. (0.25 points) Does the initial value of the `seed` change the sequence when `m` is prime and `a` is a primitive root modulo `m`? \"Yes\" or \"No\"?\n",
    "- C. (0.25 points) Do the results of `88 in _create_integer_sampler(a=5, m=7919)(8000,[89])` and `93 in _create_integer_sampler(a=5, m=7919)(8000,[88])` show that different initial values can lead to different *pseudorandom number cycles* if `a` is not a primitive root modulo `m`? \"Yes\" or \"No\"?\n",
    "- D. (0.25 points) Do the last two examples with `m=89*89` show that the length of the *period* will still be consistent for different initial values when `m` is not prime? \"Yes\" or \"No\"?\n"
   ]
  },
  {
   "cell_type": "code",
   "execution_count": null,
   "id": "295e3f65",
   "metadata": {},
   "outputs": [],
   "source": []
  },
  {
   "cell_type": "code",
   "execution_count": 33,
   "id": "a38f105e",
   "metadata": {
    "deletable": false
   },
   "outputs": [],
   "source": [
    "# 0.25 points each [format: `str` either \"Yes\" or \"No\"]\n",
    "p1q3a = \"Yes\" \n",
    "p1q3b = \"No\" \n",
    "p1q3c = \"Yes\" \n",
    "p1q3d = \"No\" \n",
    "# Uncomment the above and keep only either \"Yes\" or \"No\"\n",
    "\n",
    "# This cell will produce a runtime error until you assign a value to this variable"
   ]
  },
  {
   "cell_type": "markdown",
   "id": "b7222ddb",
   "metadata": {
    "deletable": false
   },
   "source": [
    "### Problem 1 Question 4 (0.5 points)\n",
    "\n",
    "The default value for the `seed` in the provided `pseudorandom_integer_sampler` specification is `1`.\n",
    "Which of the following give the best rationale for choosing the multiplier `a` for the algorithm under consideration? \n",
    "\n",
    "- A. Choose `a` to be small so subsequences after a small value (such as `1`) will systematically increase until passing `m`\n",
    "- B. Choose `a` to be small so it will be a primitive root modulo `m` \n",
    "- C. Choose `a` to be large to reduce monotonic subsequences within the resulting *periodic cycle*\n",
    "- D. Choose `a` to be large so it will be a primitive root modulo `m` \n"
   ]
  },
  {
   "cell_type": "markdown",
   "id": "93e514d7",
   "metadata": {},
   "source": [
    "### Problem 1 Question 5 (0.5 points)\n",
    "\n",
    "The plots below show the first 100 or so pseudorandom numbers generated with the indicated specifications for $u_k = au_{k-1} \\text{ mod } m$. If you were using just this sample of 100 pseudorandom numbers, which \n",
    "specification appears to produce the best pseudorandom sequence between $0$ to $1$ (using $\\tilde u_k=u_k/m$ for $k=1,\\cdots, n$) that seems to behave the most like a uniform random sample sequence?\n",
    "\n",
    "- (A) `a=5 m=7921` because the next value can be predicted fairly well from the previous\n",
    "- (B) `a=811 m=7921` because the next value cannot be especially predicted from the previous\n",
    "- (C) `a=814 m=7921` because it has a larger period so it is theoretically better\n",
    "- (D) `a=826 m=7921` because there's not too many generated numbers\n",
    "\n",
    "Hint: random sequences could exhibit systematic patterns spuriously; but, \n",
    "pseudorandom sequences are deterministic so observed systematic patterns will never change from sample to sample."
   ]
  },
  {
   "cell_type": "code",
   "execution_count": 32,
   "id": "82762fbc",
   "metadata": {
    "deletable": false
   },
   "outputs": [],
   "source": [
    "# 0.5 points each [format: `str` either \"A\" or \"B\" or \"C\" or \"D\" based on the choices above]\n",
    "p1q4 = \"C\"\n",
    "p1q5 = \"B\" \n",
    "# Uncomment the above and keep only either \"A\" or \"B\" or \"C\" or \"D\"\n",
    "\n",
    "# This cell will produce a runtime error until you assign a value to this variable"
   ]
  },
  {
   "cell_type": "code",
   "execution_count": 30,
   "id": "cf158a6f",
   "metadata": {},
   "outputs": [
    {
     "name": "stdout",
     "output_type": "stream",
     "text": [
      "Warning: sampling period reached -- psuedorandom samples are being repeated\n",
      "Warning: sampling period reached -- psuedorandom samples are being repeated\n",
      "Warning: sampling period reached -- psuedorandom samples are being repeated\n",
      "Warning: sampling period reached -- psuedorandom samples are being repeated\n"
     ]
    },
    {
     "data": {
      "image/png": "[encoded data removed]",
      "text/plain": [
       "<Figure size 2000x500 with 4 Axes>"
      ]
     },
     "metadata": {},
     "output_type": "display_data"
    }
   ],
   "source": [
    "try: \n",
    "    def label_plot(ax):\n",
    "        ax.set_xlabel(\"x[i]\"); ax.set_ylabel(\"x[i+1]\")\n",
    "        \n",
    "    fig,ax = plt.subplots(1,4,figsize=(20,5))\n",
    "    x = np.array(create_integer_sampler(a=5, m=7921)(n=8000, pseudorandom_sample=[1]))\n",
    "    ax[0].plot(x[:100],x[1:101],'.'); ax[0].set_title(\"a=5 m=7921 period=\"+str(len(x))); label_plot(ax[0])\n",
    "    x = np.array(create_integer_sampler(a=811, m=7921)(n=8000, pseudorandom_sample=[1100]))\n",
    "    ax[1].plot(x[:100],x[1:101],'.'); ax[1].set_title(\"a=811 m=7921 period=\"+str(len(x))); label_plot(ax[1])\n",
    "    x = np.array(create_integer_sampler(a=814, m=7921)(n=8000, pseudorandom_sample=[1100]))\n",
    "    ax[2].plot(x[:100],x[1:101],'.'); ax[2].set_title(\"a=814 m=7921 period=\"+str(len(x))); label_plot(ax[2])\n",
    "    x = np.array(create_integer_sampler(a=826, m=7921)(n=8000, pseudorandom_sample=[1100]))\n",
    "    ax[3].plot(x[:-1],x[1:],'.'); ax[3].set_title(\"a=826 m=7921 period=\"+str(len(x))); label_plot(ax[3])\n",
    "except:\n",
    "    pass"
   ]
  }
 ],
 "metadata": {
  "celltoolbar": "Edit Metadata",
  "kernelspec": {
   "display_name": "Python 3 (ipykernel)",
   "language": "python",
   "name": "python3"
  },
  "language_info": {
   "codemirror_mode": {
    "name": "ipython",
    "version": 3
   },
   "file_extension": ".py",
   "mimetype": "text/x-python",
   "name": "python",
   "nbconvert_exporter": "python",
   "pygments_lexer": "ipython3",
   "version": "3.11.6"
  }
 },
 "nbformat": 4,
 "nbformat_minor": 5
}
