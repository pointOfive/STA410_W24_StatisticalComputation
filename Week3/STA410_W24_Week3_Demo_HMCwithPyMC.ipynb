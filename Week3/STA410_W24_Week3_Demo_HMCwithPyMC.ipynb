{
  "nbformat": 4,
  "nbformat_minor": 0,
  "metadata": {
    "colab": {
      "provenance": []
    },
    "kernelspec": {
      "name": "python3",
      "display_name": "Python 3"
    },
    "language_info": {
      "name": "python"
    }
  },
  "cells": [
    {
      "cell_type": "markdown",
      "source": [
        "Hamiltonian Monte Carlo (HMC) was presented in class as a way to sample from high dimensional distirbutions for the purposes of integration estimation (hence, the name \"Monte Carlo\").\n",
        "- A primary high dimensional distribution statisticians are interested in sampling from is a posterior distribution; so, naturally, HMC is used for Bayesian inference.\n",
        "\n",
        "`PyMC` is a popular (`python` embedded) ***probabilistic programming*** language which leverages (the \"No U-Turn Sampler\" NUTS implementation of) HMC, so we'll here see how HMC is used in practice to provide samples from high dimensional distributions. While `PyMC` posterior inference is not general targetted at integral estimation, we could easily imagine contriving a \"posterior distribution\" using `PyMC` and then averaging the (HMC) posterior samples for the purposes integral estimation.\n",
        "\n",
        "- So, posterior analysis and integral estimation end up requiring the same HMC machinery but then just use it for slightly different purposes."
      ],
      "metadata": {
        "id": "DIQZzmLm-7KY"
      }
    },
    {
      "cell_type": "markdown",
      "source": [
        "# Eight Schools\n",
        "\n",
        "Eight Schools is the classical example of a hierarchical \"random effects\" Bayesian model.\n",
        "\n",
        "- 8 Schools have different average levels of achievement ($y$)\n",
        "- but also different uncertainty in their estimation ($\\sigma$)\n",
        "\n",
        "> Google \"stan eight schools\" to find out more, but we'll start from the current [PyMC documentation](https://www.pymc.io/projects/examples/en/latest/diagnostics_and_criticism/Diagnosing_biased_Inference_with_Divergences.html#the-eight-schools-model) updated from a [previous version](https://docs.pymc.io/en/v3/pymc-examples/examples/diagnostics_and_criticism/Diagnosing_biased_Inference_with_Divergences.html)."
      ],
      "metadata": {
        "id": "6h_1bYsR_ADX"
      }
    },
    {
      "cell_type": "code",
      "execution_count": 1,
      "metadata": {
        "id": "vwAhNybz-2y8"
      },
      "outputs": [],
      "source": [
        "import numpy as np\n",
        "J = 8\n",
        "y = np.array([28.0, 8.0, -3.0, 7.0, -1.0, 1.0, 18.0, 12.0])\n",
        "sigma = np.array([15.0, 10.0, 16.0, 11.0, 9.0, 11.0, 10.0, 18.0])"
      ]
    },
    {
      "cell_type": "code",
      "source": [
        "import pymc as pm"
      ],
      "metadata": {
        "id": "8AomJ93t_E7I"
      },
      "execution_count": 2,
      "outputs": []
    },
    {
      "cell_type": "code",
      "source": [
        "with pm.Model() as Centered_eight:\n",
        "\n",
        "    # We assume the following prior distributions for our parameters\n",
        "    mu = pm.Normal(\"mu\", mu=0, sigma=5)\n",
        "    tau = pm.HalfCauchy(\"tau\", beta=5)\n",
        "\n",
        "    # and we assume the following probabilistic hierarchy\n",
        "    # within the data generating mechanism\n",
        "    theta = pm.Normal(\"theta\", mu=mu, sigma=tau, shape=J) # theta is length J=8\n",
        "\n",
        "    # Note that if tau was small, then the density evalution above\n",
        "    # could change rapidly for changes in theta\n",
        "    # This means that the energy has high curvature\n",
        "\n",
        "    # likelihood where observed information enters into the model\n",
        "    obs = pm.Normal(\"obs\", mu=theta, sigma=sigma, observed=y)"
      ],
      "metadata": {
        "id": "LgH8BaVU_JXs"
      },
      "execution_count": 3,
      "outputs": []
    },
    {
      "cell_type": "markdown",
      "source": [
        "This hierarchy seeks to estimate \"true levels of achievement\" $\\theta_i$ given ($\\sigma_i$) noisy observation $y_i$ assuming that there's some variabiltiy over $\\theta_i$ but all come from the same (normal) \"random effects\" distribution with unknown mean and variance.\n",
        "\n",
        "Inference will consist of posterior distributions for $\\theta_i$ (and a normal distributional characterization of these 8 values given by posterior distributions over $\\mu$ and $\\tau$)."
      ],
      "metadata": {
        "id": "aSM1XYIh_vkk"
      }
    },
    {
      "cell_type": "code",
      "source": [
        "pm.model_to_graphviz(Centered_eight)"
      ],
      "metadata": {
        "colab": {
          "base_uri": "https://localhost:8080/",
          "height": 500
        },
        "id": "sDqDB68v_Yzl",
        "outputId": "fd229a4d-2cce-4697-e184-f05fa46cdde8"
      },
      "execution_count": 4,
      "outputs": [
        {
          "output_type": "execute_result",
          "data": {
            "image/svg+xml": "<?xml version=\"1.0\" encoding=\"UTF-8\" standalone=\"no\"?>\n<!DOCTYPE svg PUBLIC \"-//W3C//DTD SVG 1.1//EN\"\n \"http://www.w3.org/Graphics/SVG/1.1/DTD/svg11.dtd\">\n<!-- Generated by graphviz version 2.43.0 (0)\n -->\n<!-- Title: %3 Pages: 1 -->\n<svg width=\"226pt\" height=\"344pt\"\n viewBox=\"0.00 0.00 225.70 343.86\" xmlns=\"http://www.w3.org/2000/svg\" xmlns:xlink=\"http://www.w3.org/1999/xlink\">\n<g id=\"graph0\" class=\"graph\" transform=\"scale(1 1) rotate(0) translate(4 339.86)\">\n<title>%3</title>\n<polygon fill=\"white\" stroke=\"transparent\" points=\"-4,4 -4,-339.86 221.7,-339.86 221.7,4 -4,4\"/>\n<g id=\"clust1\" class=\"cluster\">\n<title>cluster8</title>\n<path fill=\"none\" stroke=\"black\" d=\"M62.72,-8C62.72,-8 138.72,-8 138.72,-8 144.72,-8 150.72,-14 150.72,-20 150.72,-20 150.72,-220.91 150.72,-220.91 150.72,-226.91 144.72,-232.91 138.72,-232.91 138.72,-232.91 62.72,-232.91 62.72,-232.91 56.72,-232.91 50.72,-226.91 50.72,-220.91 50.72,-220.91 50.72,-20 50.72,-20 50.72,-14 56.72,-8 62.72,-8\"/>\n<text text-anchor=\"middle\" x=\"139.22\" y=\"-15.8\" font-family=\"Times,serif\" font-size=\"14.00\">8</text>\n</g>\n<!-- mu -->\n<g id=\"node1\" class=\"node\">\n<title>mu</title>\n<ellipse fill=\"none\" stroke=\"black\" cx=\"41.72\" cy=\"-298.38\" rx=\"41.94\" ry=\"37.45\"/>\n<text text-anchor=\"middle\" x=\"41.72\" y=\"-309.68\" font-family=\"Times,serif\" font-size=\"14.00\">mu</text>\n<text text-anchor=\"middle\" x=\"41.72\" y=\"-294.68\" font-family=\"Times,serif\" font-size=\"14.00\">~</text>\n<text text-anchor=\"middle\" x=\"41.72\" y=\"-279.68\" font-family=\"Times,serif\" font-size=\"14.00\">Normal</text>\n</g>\n<!-- theta -->\n<g id=\"node4\" class=\"node\">\n<title>theta</title>\n<ellipse fill=\"none\" stroke=\"black\" cx=\"100.72\" cy=\"-187.43\" rx=\"41.94\" ry=\"37.45\"/>\n<text text-anchor=\"middle\" x=\"100.72\" y=\"-198.73\" font-family=\"Times,serif\" font-size=\"14.00\">theta</text>\n<text text-anchor=\"middle\" x=\"100.72\" y=\"-183.73\" font-family=\"Times,serif\" font-size=\"14.00\">~</text>\n<text text-anchor=\"middle\" x=\"100.72\" y=\"-168.73\" font-family=\"Times,serif\" font-size=\"14.00\">Normal</text>\n</g>\n<!-- mu&#45;&gt;theta -->\n<g id=\"edge1\" class=\"edge\">\n<title>mu&#45;&gt;theta</title>\n<path fill=\"none\" stroke=\"black\" d=\"M59.58,-264.4C65.36,-253.72 71.85,-241.74 77.94,-230.5\"/>\n<polygon fill=\"black\" stroke=\"black\" points=\"81.03,-232.14 82.71,-221.68 74.87,-228.81 81.03,-232.14\"/>\n</g>\n<!-- tau -->\n<g id=\"node2\" class=\"node\">\n<title>tau</title>\n<ellipse fill=\"none\" stroke=\"black\" cx=\"159.72\" cy=\"-298.38\" rx=\"57.97\" ry=\"37.45\"/>\n<text text-anchor=\"middle\" x=\"159.72\" y=\"-309.68\" font-family=\"Times,serif\" font-size=\"14.00\">tau</text>\n<text text-anchor=\"middle\" x=\"159.72\" y=\"-294.68\" font-family=\"Times,serif\" font-size=\"14.00\">~</text>\n<text text-anchor=\"middle\" x=\"159.72\" y=\"-279.68\" font-family=\"Times,serif\" font-size=\"14.00\">HalfCauchy</text>\n</g>\n<!-- tau&#45;&gt;theta -->\n<g id=\"edge2\" class=\"edge\">\n<title>tau&#45;&gt;theta</title>\n<path fill=\"none\" stroke=\"black\" d=\"M140.89,-262.61C135.36,-252.4 129.25,-241.12 123.5,-230.5\"/>\n<polygon fill=\"black\" stroke=\"black\" points=\"126.41,-228.52 118.57,-221.39 120.25,-231.85 126.41,-228.52\"/>\n</g>\n<!-- obs -->\n<g id=\"node3\" class=\"node\">\n<title>obs</title>\n<ellipse fill=\"lightgrey\" stroke=\"black\" cx=\"100.72\" cy=\"-76.48\" rx=\"41.94\" ry=\"37.45\"/>\n<text text-anchor=\"middle\" x=\"100.72\" y=\"-87.78\" font-family=\"Times,serif\" font-size=\"14.00\">obs</text>\n<text text-anchor=\"middle\" x=\"100.72\" y=\"-72.78\" font-family=\"Times,serif\" font-size=\"14.00\">~</text>\n<text text-anchor=\"middle\" x=\"100.72\" y=\"-57.78\" font-family=\"Times,serif\" font-size=\"14.00\">Normal</text>\n</g>\n<!-- theta&#45;&gt;obs -->\n<g id=\"edge3\" class=\"edge\">\n<title>theta&#45;&gt;obs</title>\n<path fill=\"none\" stroke=\"black\" d=\"M100.72,-149.85C100.72,-141.67 100.72,-132.89 100.72,-124.37\"/>\n<polygon fill=\"black\" stroke=\"black\" points=\"104.22,-124.15 100.72,-114.15 97.22,-124.15 104.22,-124.15\"/>\n</g>\n</g>\n</svg>\n",
            "text/plain": [
              "<graphviz.graphs.Digraph at 0x7e1d621e7760>"
            ]
          },
          "metadata": {},
          "execution_count": 4
        }
      ]
    },
    {
      "cell_type": "code",
      "source": [
        "# This posterior distribution implied by this specification can be sampled from\n",
        "# using HMC where the necessary auxiliary variables are added \"under the hood\"\n",
        "SEED = [20100420, 20134234] # random seeds for each of two run HMC chains\n",
        "with Centered_eight:\n",
        "    fit_C = pm.sample(5000, chains=2, tune=1000, random_seed=SEED,\n",
        "                      return_inferencedata=True, idata_kwargs={\"log_likelihood\": True})"
      ],
      "metadata": {
        "colab": {
          "base_uri": "https://localhost:8080/",
          "height": 78
        },
        "id": "JvzuwSKaBJak",
        "outputId": "f8e2e639-7eb8-4a29-cb13-ac97e6746609"
      },
      "execution_count": 9,
      "outputs": [
        {
          "output_type": "display_data",
          "data": {
            "text/plain": [
              "<IPython.core.display.HTML object>"
            ],
            "text/html": [
              "\n",
              "<style>\n",
              "    /* Turns off some styling */\n",
              "    progress {\n",
              "        /* gets rid of default border in Firefox and Opera. */\n",
              "        border: none;\n",
              "        /* Needs to be in here for Safari polyfill so background images work as expected. */\n",
              "        background-size: auto;\n",
              "    }\n",
              "    progress:not([value]), progress:not([value])::-webkit-progress-bar {\n",
              "        background: repeating-linear-gradient(45deg, #7e7e7e, #7e7e7e 10px, #5c5c5c 10px, #5c5c5c 20px);\n",
              "    }\n",
              "    .progress-bar-interrupted, .progress-bar-interrupted::-webkit-progress-bar {\n",
              "        background: #F44336;\n",
              "    }\n",
              "</style>\n"
            ]
          },
          "metadata": {}
        },
        {
          "output_type": "display_data",
          "data": {
            "text/plain": [
              "<IPython.core.display.HTML object>"
            ],
            "text/html": [
              "\n",
              "    <div>\n",
              "      <progress value='6000' class='' max='6000' style='width:300px; height:20px; vertical-align: middle;'></progress>\n",
              "      100.00% [6000/6000 00:17&lt;00:00 Sampling chain 0, 71 divergences]\n",
              "    </div>\n",
              "    "
            ]
          },
          "metadata": {}
        },
        {
          "output_type": "display_data",
          "data": {
            "text/plain": [
              "<IPython.core.display.HTML object>"
            ],
            "text/html": [
              "\n",
              "<style>\n",
              "    /* Turns off some styling */\n",
              "    progress {\n",
              "        /* gets rid of default border in Firefox and Opera. */\n",
              "        border: none;\n",
              "        /* Needs to be in here for Safari polyfill so background images work as expected. */\n",
              "        background-size: auto;\n",
              "    }\n",
              "    progress:not([value]), progress:not([value])::-webkit-progress-bar {\n",
              "        background: repeating-linear-gradient(45deg, #7e7e7e, #7e7e7e 10px, #5c5c5c 10px, #5c5c5c 20px);\n",
              "    }\n",
              "    .progress-bar-interrupted, .progress-bar-interrupted::-webkit-progress-bar {\n",
              "        background: #F44336;\n",
              "    }\n",
              "</style>\n"
            ]
          },
          "metadata": {}
        },
        {
          "output_type": "display_data",
          "data": {
            "text/plain": [
              "<IPython.core.display.HTML object>"
            ],
            "text/html": [
              "\n",
              "    <div>\n",
              "      <progress value='6000' class='' max='6000' style='width:300px; height:20px; vertical-align: middle;'></progress>\n",
              "      100.00% [6000/6000 00:17&lt;00:00 Sampling chain 1, 283 divergences]\n",
              "    </div>\n",
              "    "
            ]
          },
          "metadata": {}
        }
      ]
    },
    {
      "cell_type": "code",
      "source": [
        "# We can get some more information by turning on logging\n",
        "import logging # dir(logging) for available functionality\n",
        "_log = logging.getLogger(\"pymc\")\n",
        "#_log.setLevel(logging.NOTSET) # 0\n",
        "_log.setLevel(logging.INFO) # 20\n",
        "#_log.setLevel(logging.WARNING) # 30\n",
        "#_log.setLevel(logging.ERROR) # 40"
      ],
      "metadata": {
        "id": "007z552cAgVH"
      },
      "execution_count": 23,
      "outputs": []
    },
    {
      "cell_type": "code",
      "source": [
        "# We now see that the NUTS implementation (version of HMC) is being used to\n",
        "# sample from the posterior distributions of our parameters [mu, tau, theta]\n",
        "SEED = [20100420, 20134234]\n",
        "with Centered_eight:\n",
        "    fit_C = pm.sample(5000, chains=2, tune=1000, random_seed=SEED,\n",
        "                      return_inferencedata=True, idata_kwargs={\"log_likelihood\": True})"
      ],
      "metadata": {
        "colab": {
          "base_uri": "https://localhost:8080/",
          "height": 182
        },
        "id": "JhCC7QXRAb7x",
        "outputId": "9b9ac73c-6a3e-4da9-b8f5-cfa0a19d8daf"
      },
      "execution_count": 27,
      "outputs": [
        {
          "output_type": "stream",
          "name": "stderr",
          "text": [
            "INFO:pymc.sampling.mcmc:Auto-assigning NUTS sampler...\n",
            "INFO:pymc.sampling.mcmc:Initializing NUTS using jitter+adapt_diag...\n",
            "INFO:pymc.sampling.mcmc:Sequential sampling (2 chains in 1 job)\n",
            "INFO:pymc.sampling.mcmc:NUTS: [mu, tau, theta]\n"
          ]
        },
        {
          "output_type": "display_data",
          "data": {
            "text/plain": [
              "<IPython.core.display.HTML object>"
            ],
            "text/html": [
              "\n",
              "<style>\n",
              "    /* Turns off some styling */\n",
              "    progress {\n",
              "        /* gets rid of default border in Firefox and Opera. */\n",
              "        border: none;\n",
              "        /* Needs to be in here for Safari polyfill so background images work as expected. */\n",
              "        background-size: auto;\n",
              "    }\n",
              "    progress:not([value]), progress:not([value])::-webkit-progress-bar {\n",
              "        background: repeating-linear-gradient(45deg, #7e7e7e, #7e7e7e 10px, #5c5c5c 10px, #5c5c5c 20px);\n",
              "    }\n",
              "    .progress-bar-interrupted, .progress-bar-interrupted::-webkit-progress-bar {\n",
              "        background: #F44336;\n",
              "    }\n",
              "</style>\n"
            ]
          },
          "metadata": {}
        },
        {
          "output_type": "display_data",
          "data": {
            "text/plain": [
              "<IPython.core.display.HTML object>"
            ],
            "text/html": [
              "\n",
              "    <div>\n",
              "      <progress value='6000' class='' max='6000' style='width:300px; height:20px; vertical-align: middle;'></progress>\n",
              "      100.00% [6000/6000 00:16&lt;00:00 Sampling chain 0, 71 divergences]\n",
              "    </div>\n",
              "    "
            ]
          },
          "metadata": {}
        },
        {
          "output_type": "display_data",
          "data": {
            "text/plain": [
              "<IPython.core.display.HTML object>"
            ],
            "text/html": [
              "\n",
              "<style>\n",
              "    /* Turns off some styling */\n",
              "    progress {\n",
              "        /* gets rid of default border in Firefox and Opera. */\n",
              "        border: none;\n",
              "        /* Needs to be in here for Safari polyfill so background images work as expected. */\n",
              "        background-size: auto;\n",
              "    }\n",
              "    progress:not([value]), progress:not([value])::-webkit-progress-bar {\n",
              "        background: repeating-linear-gradient(45deg, #7e7e7e, #7e7e7e 10px, #5c5c5c 10px, #5c5c5c 20px);\n",
              "    }\n",
              "    .progress-bar-interrupted, .progress-bar-interrupted::-webkit-progress-bar {\n",
              "        background: #F44336;\n",
              "    }\n",
              "</style>\n"
            ]
          },
          "metadata": {}
        },
        {
          "output_type": "display_data",
          "data": {
            "text/plain": [
              "<IPython.core.display.HTML object>"
            ],
            "text/html": [
              "\n",
              "    <div>\n",
              "      <progress value='6000' class='' max='6000' style='width:300px; height:20px; vertical-align: middle;'></progress>\n",
              "      100.00% [6000/6000 00:16&lt;00:00 Sampling chain 1, 283 divergences]\n",
              "    </div>\n",
              "    "
            ]
          },
          "metadata": {}
        },
        {
          "output_type": "stream",
          "name": "stderr",
          "text": [
            "INFO:pymc.sampling.mcmc:Sampling 2 chains for 1_000 tune and 5_000 draw iterations (2_000 + 10_000 draws total) took 33 seconds.\n",
            "INFO:pymc.stats.convergence:We recommend running at least 4 chains for robust computation of convergence diagnostics\n"
          ]
        }
      ]
    },
    {
      "cell_type": "markdown",
      "source": [
        "Divergences here mean that $\\tau$ was sampled with a small value so that previous $\\theta_i$ no longer appear to be reasonable values under $\\mathcal{N}(\\mu, \\tau)$. Their density evaluation is now extremely small (probably even numerically $0$). We have therefore \"flown off\" the mass of our target distribution. But we can fix this with a different parameterization."
      ],
      "metadata": {
        "id": "8mbBwvRlEV17"
      }
    },
    {
      "cell_type": "code",
      "source": [
        "# As is seen above, there are many divergences because the specification above\n",
        "# induces high curature in the energy, but the following alternative\n",
        "# parameterization alleviates this problem.\n",
        "\n",
        "with pm.Model() as NonCentered_eight:\n",
        "\n",
        "    mu = pm.Normal(\"mu\", mu=0, sigma=5)\n",
        "    tau = pm.HalfCauchy(\"tau\", beta=5)\n",
        "    theta_tilde = pm.Normal(\"theta_t\", mu=0, sigma=1, shape=J)\n",
        "    # Changes in theta now take place on a fixed scale that is independent of tau\n",
        "\n",
        "    theta = pm.Deterministic(\"theta\", mu + tau * theta_tilde)\n",
        "    # Changes in tau can still result in rapid changes in the density evaluations\n",
        "    # below so the energy still has high curvature with respect to tau; but,\n",
        "    # it no longer has high curvature with respect to theta\n",
        "    obs = pm.Normal(\"obs\", mu=theta, sigma=sigma, observed=y)"
      ],
      "metadata": {
        "id": "AOskEHO3EWKJ"
      },
      "execution_count": 29,
      "outputs": []
    },
    {
      "cell_type": "code",
      "source": [
        "with NonCentered_eight:\n",
        "    fit_NC = pm.sample(5000, chains=2, tune=1000, random_seed=SEED,\n",
        "                       return_inferencedata=True, idata_kwargs={\"log_likelihood\": True})\n",
        "# Now very few divergences... problem solved!"
      ],
      "metadata": {
        "colab": {
          "base_uri": "https://localhost:8080/",
          "height": 182
        },
        "id": "E5Ju1a9kIDU5",
        "outputId": "909a3e8c-ada4-406e-f84e-dc7615463635"
      },
      "execution_count": 30,
      "outputs": [
        {
          "output_type": "stream",
          "name": "stderr",
          "text": [
            "INFO:pymc.sampling.mcmc:Auto-assigning NUTS sampler...\n",
            "INFO:pymc.sampling.mcmc:Initializing NUTS using jitter+adapt_diag...\n",
            "INFO:pymc.sampling.mcmc:Sequential sampling (2 chains in 1 job)\n",
            "INFO:pymc.sampling.mcmc:NUTS: [mu, tau, theta_t]\n"
          ]
        },
        {
          "output_type": "display_data",
          "data": {
            "text/plain": [
              "<IPython.core.display.HTML object>"
            ],
            "text/html": [
              "\n",
              "<style>\n",
              "    /* Turns off some styling */\n",
              "    progress {\n",
              "        /* gets rid of default border in Firefox and Opera. */\n",
              "        border: none;\n",
              "        /* Needs to be in here for Safari polyfill so background images work as expected. */\n",
              "        background-size: auto;\n",
              "    }\n",
              "    progress:not([value]), progress:not([value])::-webkit-progress-bar {\n",
              "        background: repeating-linear-gradient(45deg, #7e7e7e, #7e7e7e 10px, #5c5c5c 10px, #5c5c5c 20px);\n",
              "    }\n",
              "    .progress-bar-interrupted, .progress-bar-interrupted::-webkit-progress-bar {\n",
              "        background: #F44336;\n",
              "    }\n",
              "</style>\n"
            ]
          },
          "metadata": {}
        },
        {
          "output_type": "display_data",
          "data": {
            "text/plain": [
              "<IPython.core.display.HTML object>"
            ],
            "text/html": [
              "\n",
              "    <div>\n",
              "      <progress value='6000' class='' max='6000' style='width:300px; height:20px; vertical-align: middle;'></progress>\n",
              "      100.00% [6000/6000 00:09&lt;00:00 Sampling chain 0, 5 divergences]\n",
              "    </div>\n",
              "    "
            ]
          },
          "metadata": {}
        },
        {
          "output_type": "display_data",
          "data": {
            "text/plain": [
              "<IPython.core.display.HTML object>"
            ],
            "text/html": [
              "\n",
              "<style>\n",
              "    /* Turns off some styling */\n",
              "    progress {\n",
              "        /* gets rid of default border in Firefox and Opera. */\n",
              "        border: none;\n",
              "        /* Needs to be in here for Safari polyfill so background images work as expected. */\n",
              "        background-size: auto;\n",
              "    }\n",
              "    progress:not([value]), progress:not([value])::-webkit-progress-bar {\n",
              "        background: repeating-linear-gradient(45deg, #7e7e7e, #7e7e7e 10px, #5c5c5c 10px, #5c5c5c 20px);\n",
              "    }\n",
              "    .progress-bar-interrupted, .progress-bar-interrupted::-webkit-progress-bar {\n",
              "        background: #F44336;\n",
              "    }\n",
              "</style>\n"
            ]
          },
          "metadata": {}
        },
        {
          "output_type": "display_data",
          "data": {
            "text/plain": [
              "<IPython.core.display.HTML object>"
            ],
            "text/html": [
              "\n",
              "    <div>\n",
              "      <progress value='6000' class='' max='6000' style='width:300px; height:20px; vertical-align: middle;'></progress>\n",
              "      100.00% [6000/6000 00:09&lt;00:00 Sampling chain 1, 3 divergences]\n",
              "    </div>\n",
              "    "
            ]
          },
          "metadata": {}
        },
        {
          "output_type": "stream",
          "name": "stderr",
          "text": [
            "INFO:pymc.sampling.mcmc:Sampling 2 chains for 1_000 tune and 5_000 draw iterations (2_000 + 10_000 draws total) took 20 seconds.\n",
            "INFO:pymc.stats.convergence:We recommend running at least 4 chains for robust computation of convergence diagnostics\n"
          ]
        }
      ]
    },
    {
      "cell_type": "markdown",
      "source": [
        "The `theta = pm.Deterministic(\"theta\", mu + tau * theta_tilde)` line above also shows that probabilistic programming can introduce formulas into our hierarchical specifications... so you might now be able to imagine embedding a linear model into some of our distributional specifications..."
      ],
      "metadata": {
        "id": "4eR5jmcNIkYg"
      }
    },
    {
      "cell_type": "markdown",
      "source": [
        "There are two things that matter for HMC performance:\n",
        "1. Metropolis-Hastings Acceptance Rates\n",
        "2. Autocorrelation in the Markov Chain\n",
        "  - How far was the proposal able to move away from the current state?\n",
        "  - The further away, the more independent, and the greater the effective sample size\n",
        "\n",
        "Below we examine some of the HMC performance diagnostics available from\n",
        "- https://www.pymc.io/projects/examples/en/latest/diagnostics_and_criticism/sampler-stats.html\n"
      ],
      "metadata": {
        "id": "YSgtZY5SLJRx"
      }
    },
    {
      "cell_type": "code",
      "source": [
        "import matplotlib.pyplot as plt\n",
        "plt.hist(fit_C.sample_stats.acceptance_rate.values.flatten(), alpha=0.5,\n",
        "         label='Centered (bad parameterization)');\n",
        "plt.hist(fit_NC.sample_stats.acceptance_rate.values.flatten(), alpha=0.5,\n",
        "         label='Non-Centered (good parameterization)');\n",
        "plt.title('Acceptance Rates (better for Non-Centered Parameterization)'); plt.legend();"
      ],
      "metadata": {
        "colab": {
          "base_uri": "https://localhost:8080/",
          "height": 473
        },
        "id": "hdJvCez2KWKf",
        "outputId": "41b34c2a-f2f4-4502-b022-b22a0f07d1d8"
      },
      "execution_count": 47,
      "outputs": [
        {
          "output_type": "display_data",
          "data": {
            "text/plain": [
              "<Figure size 640x480 with 1 Axes>"
            ],
            "image/png": "[encoded data removed]"
          },
          "metadata": {}
        }
      ]
    },
    {
      "cell_type": "code",
      "source": [
        "import pandas as pd\n",
        "print(\"Effective Sample Sizes (function of Markov Chain autocorrelation dependency)\")\n",
        "pd.concat(\n",
        "[pd.DataFrame({'Centered': pm.summary(fit_C)[:1]['ess_bulk'],\n",
        "              'Non-Centered': pm.summary(fit_NC)['ess_bulk'][:1]}),\n",
        " pd.DataFrame({'Centered': pm.summary(fit_C)[1:]['ess_bulk'],\n",
        "              'Non-Centered': pm.summary(fit_NC)['ess_bulk'][9:]})])"
      ],
      "metadata": {
        "colab": {
          "base_uri": "https://localhost:8080/",
          "height": 400
        },
        "id": "LYEa7OCxL3qN",
        "outputId": "1023b326-41a4-4143-d441-98f95d801117"
      },
      "execution_count": 64,
      "outputs": [
        {
          "output_type": "stream",
          "name": "stdout",
          "text": [
            "Effective Sample Sizes (function of Markov Chain autocorrelation dependency)\n"
          ]
        },
        {
          "output_type": "execute_result",
          "data": {
            "text/plain": [
              "          Centered  Non-Centered\n",
              "mu           623.0       11120.0\n",
              "tau          129.0        5121.0\n",
              "theta[0]     538.0       10859.0\n",
              "theta[1]     978.0       11965.0\n",
              "theta[2]    1575.0       11071.0\n",
              "theta[3]     965.0       12523.0\n",
              "theta[4]    1673.0       11294.0\n",
              "theta[5]    1769.0       10616.0\n",
              "theta[6]     415.0       11073.0\n",
              "theta[7]    1248.0       11415.0"
            ],
            "text/html": [
              "\n",
              "  <div id=\"df-31ced0c6-7980-4ef1-8078-3f623d2bccce\" class=\"colab-df-container\">\n",
              "    <div>\n",
              "<style scoped>\n",
              "    .dataframe tbody tr th:only-of-type {\n",
              "        vertical-align: middle;\n",
              "    }\n",
              "\n",
              "    .dataframe tbody tr th {\n",
              "        vertical-align: top;\n",
              "    }\n",
              "\n",
              "    .dataframe thead th {\n",
              "        text-align: right;\n",
              "    }\n",
              "</style>\n",
              "<table border=\"1\" class=\"dataframe\">\n",
              "  <thead>\n",
              "    <tr style=\"text-align: right;\">\n",
              "      <th></th>\n",
              "      <th>Centered</th>\n",
              "      <th>Non-Centered</th>\n",
              "    </tr>\n",
              "  </thead>\n",
              "  <tbody>\n",
              "    <tr>\n",
              "      <th>mu</th>\n",
              "      <td>623.0</td>\n",
              "      <td>11120.0</td>\n",
              "    </tr>\n",
              "    <tr>\n",
              "      <th>tau</th>\n",
              "      <td>129.0</td>\n",
              "      <td>5121.0</td>\n",
              "    </tr>\n",
              "    <tr>\n",
              "      <th>theta[0]</th>\n",
              "      <td>538.0</td>\n",
              "      <td>10859.0</td>\n",
              "    </tr>\n",
              "    <tr>\n",
              "      <th>theta[1]</th>\n",
              "      <td>978.0</td>\n",
              "      <td>11965.0</td>\n",
              "    </tr>\n",
              "    <tr>\n",
              "      <th>theta[2]</th>\n",
              "      <td>1575.0</td>\n",
              "      <td>11071.0</td>\n",
              "    </tr>\n",
              "    <tr>\n",
              "      <th>theta[3]</th>\n",
              "      <td>965.0</td>\n",
              "      <td>12523.0</td>\n",
              "    </tr>\n",
              "    <tr>\n",
              "      <th>theta[4]</th>\n",
              "      <td>1673.0</td>\n",
              "      <td>11294.0</td>\n",
              "    </tr>\n",
              "    <tr>\n",
              "      <th>theta[5]</th>\n",
              "      <td>1769.0</td>\n",
              "      <td>10616.0</td>\n",
              "    </tr>\n",
              "    <tr>\n",
              "      <th>theta[6]</th>\n",
              "      <td>415.0</td>\n",
              "      <td>11073.0</td>\n",
              "    </tr>\n",
              "    <tr>\n",
              "      <th>theta[7]</th>\n",
              "      <td>1248.0</td>\n",
              "      <td>11415.0</td>\n",
              "    </tr>\n",
              "  </tbody>\n",
              "</table>\n",
              "</div>\n",
              "    <div class=\"colab-df-buttons\">\n",
              "\n",
              "  <div class=\"colab-df-container\">\n",
              "    <button class=\"colab-df-convert\" onclick=\"convertToInteractive('df-31ced0c6-7980-4ef1-8078-3f623d2bccce')\"\n",
              "            title=\"Convert this dataframe to an interactive table.\"\n",
              "            style=\"display:none;\">\n",
              "\n",
              "  <svg xmlns=\"http://www.w3.org/2000/svg\" height=\"24px\" viewBox=\"0 -960 960 960\">\n",
              "    <path d=\"M120-120v-720h720v720H120Zm60-500h600v-160H180v160Zm220 220h160v-160H400v160Zm0 220h160v-160H400v160ZM180-400h160v-160H180v160Zm440 0h160v-160H620v160ZM180-180h160v-160H180v160Zm440 0h160v-160H620v160Z\"/>\n",
              "  </svg>\n",
              "    </button>\n",
              "\n",
              "  <style>\n",
              "    .colab-df-container {\n",
              "      display:flex;\n",
              "      gap: 12px;\n",
              "    }\n",
              "\n",
              "    .colab-df-convert {\n",
              "      background-color: #E8F0FE;\n",
              "      border: none;\n",
              "      border-radius: 50%;\n",
              "      cursor: pointer;\n",
              "      display: none;\n",
              "      fill: #1967D2;\n",
              "      height: 32px;\n",
              "      padding: 0 0 0 0;\n",
              "      width: 32px;\n",
              "    }\n",
              "\n",
              "    .colab-df-convert:hover {\n",
              "      background-color: #E2EBFA;\n",
              "      box-shadow: 0px 1px 2px rgba(60, 64, 67, 0.3), 0px 1px 3px 1px rgba(60, 64, 67, 0.15);\n",
              "      fill: #174EA6;\n",
              "    }\n",
              "\n",
              "    .colab-df-buttons div {\n",
              "      margin-bottom: 4px;\n",
              "    }\n",
              "\n",
              "    [theme=dark] .colab-df-convert {\n",
              "      background-color: #3B4455;\n",
              "      fill: #D2E3FC;\n",
              "    }\n",
              "\n",
              "    [theme=dark] .colab-df-convert:hover {\n",
              "      background-color: #434B5C;\n",
              "      box-shadow: 0px 1px 3px 1px rgba(0, 0, 0, 0.15);\n",
              "      filter: drop-shadow(0px 1px 2px rgba(0, 0, 0, 0.3));\n",
              "      fill: #FFFFFF;\n",
              "    }\n",
              "  </style>\n",
              "\n",
              "    <script>\n",
              "      const buttonEl =\n",
              "        document.querySelector('#df-31ced0c6-7980-4ef1-8078-3f623d2bccce button.colab-df-convert');\n",
              "      buttonEl.style.display =\n",
              "        google.colab.kernel.accessAllowed ? 'block' : 'none';\n",
              "\n",
              "      async function convertToInteractive(key) {\n",
              "        const element = document.querySelector('#df-31ced0c6-7980-4ef1-8078-3f623d2bccce');\n",
              "        const dataTable =\n",
              "          await google.colab.kernel.invokeFunction('convertToInteractive',\n",
              "                                                    [key], {});\n",
              "        if (!dataTable) return;\n",
              "\n",
              "        const docLinkHtml = 'Like what you see? Visit the ' +\n",
              "          '<a target=\"_blank\" href=https://colab.research.google.com/notebooks/data_table.ipynb>data table notebook</a>'\n",
              "          + ' to learn more about interactive tables.';\n",
              "        element.innerHTML = '';\n",
              "        dataTable['output_type'] = 'display_data';\n",
              "        await google.colab.output.renderOutput(dataTable, element);\n",
              "        const docLink = document.createElement('div');\n",
              "        docLink.innerHTML = docLinkHtml;\n",
              "        element.appendChild(docLink);\n",
              "      }\n",
              "    </script>\n",
              "  </div>\n",
              "\n",
              "\n",
              "<div id=\"df-d29cd532-523b-4f69-81e8-5772a60743be\">\n",
              "  <button class=\"colab-df-quickchart\" onclick=\"quickchart('df-d29cd532-523b-4f69-81e8-5772a60743be')\"\n",
              "            title=\"Suggest charts\"\n",
              "            style=\"display:none;\">\n",
              "\n",
              "<svg xmlns=\"http://www.w3.org/2000/svg\" height=\"24px\"viewBox=\"0 0 24 24\"\n",
              "     width=\"24px\">\n",
              "    <g>\n",
              "        <path d=\"M19 3H5c-1.1 0-2 .9-2 2v14c0 1.1.9 2 2 2h14c1.1 0 2-.9 2-2V5c0-1.1-.9-2-2-2zM9 17H7v-7h2v7zm4 0h-2V7h2v10zm4 0h-2v-4h2v4z\"/>\n",
              "    </g>\n",
              "</svg>\n",
              "  </button>\n",
              "\n",
              "<style>\n",
              "  .colab-df-quickchart {\n",
              "      --bg-color: #E8F0FE;\n",
              "      --fill-color: #1967D2;\n",
              "      --hover-bg-color: #E2EBFA;\n",
              "      --hover-fill-color: #174EA6;\n",
              "      --disabled-fill-color: #AAA;\n",
              "      --disabled-bg-color: #DDD;\n",
              "  }\n",
              "\n",
              "  [theme=dark] .colab-df-quickchart {\n",
              "      --bg-color: #3B4455;\n",
              "      --fill-color: #D2E3FC;\n",
              "      --hover-bg-color: #434B5C;\n",
              "      --hover-fill-color: #FFFFFF;\n",
              "      --disabled-bg-color: #3B4455;\n",
              "      --disabled-fill-color: #666;\n",
              "  }\n",
              "\n",
              "  .colab-df-quickchart {\n",
              "    background-color: var(--bg-color);\n",
              "    border: none;\n",
              "    border-radius: 50%;\n",
              "    cursor: pointer;\n",
              "    display: none;\n",
              "    fill: var(--fill-color);\n",
              "    height: 32px;\n",
              "    padding: 0;\n",
              "    width: 32px;\n",
              "  }\n",
              "\n",
              "  .colab-df-quickchart:hover {\n",
              "    background-color: var(--hover-bg-color);\n",
              "    box-shadow: 0 1px 2px rgba(60, 64, 67, 0.3), 0 1px 3px 1px rgba(60, 64, 67, 0.15);\n",
              "    fill: var(--button-hover-fill-color);\n",
              "  }\n",
              "\n",
              "  .colab-df-quickchart-complete:disabled,\n",
              "  .colab-df-quickchart-complete:disabled:hover {\n",
              "    background-color: var(--disabled-bg-color);\n",
              "    fill: var(--disabled-fill-color);\n",
              "    box-shadow: none;\n",
              "  }\n",
              "\n",
              "  .colab-df-spinner {\n",
              "    border: 2px solid var(--fill-color);\n",
              "    border-color: transparent;\n",
              "    border-bottom-color: var(--fill-color);\n",
              "    animation:\n",
              "      spin 1s steps(1) infinite;\n",
              "  }\n",
              "\n",
              "  @keyframes spin {\n",
              "    0% {\n",
              "      border-color: transparent;\n",
              "      border-bottom-color: var(--fill-color);\n",
              "      border-left-color: var(--fill-color);\n",
              "    }\n",
              "    20% {\n",
              "      border-color: transparent;\n",
              "      border-left-color: var(--fill-color);\n",
              "      border-top-color: var(--fill-color);\n",
              "    }\n",
              "    30% {\n",
              "      border-color: transparent;\n",
              "      border-left-color: var(--fill-color);\n",
              "      border-top-color: var(--fill-color);\n",
              "      border-right-color: var(--fill-color);\n",
              "    }\n",
              "    40% {\n",
              "      border-color: transparent;\n",
              "      border-right-color: var(--fill-color);\n",
              "      border-top-color: var(--fill-color);\n",
              "    }\n",
              "    60% {\n",
              "      border-color: transparent;\n",
              "      border-right-color: var(--fill-color);\n",
              "    }\n",
              "    80% {\n",
              "      border-color: transparent;\n",
              "      border-right-color: var(--fill-color);\n",
              "      border-bottom-color: var(--fill-color);\n",
              "    }\n",
              "    90% {\n",
              "      border-color: transparent;\n",
              "      border-bottom-color: var(--fill-color);\n",
              "    }\n",
              "  }\n",
              "</style>\n",
              "\n",
              "  <script>\n",
              "    async function quickchart(key) {\n",
              "      const quickchartButtonEl =\n",
              "        document.querySelector('#' + key + ' button');\n",
              "      quickchartButtonEl.disabled = true;  // To prevent multiple clicks.\n",
              "      quickchartButtonEl.classList.add('colab-df-spinner');\n",
              "      try {\n",
              "        const charts = await google.colab.kernel.invokeFunction(\n",
              "            'suggestCharts', [key], {});\n",
              "      } catch (error) {\n",
              "        console.error('Error during call to suggestCharts:', error);\n",
              "      }\n",
              "      quickchartButtonEl.classList.remove('colab-df-spinner');\n",
              "      quickchartButtonEl.classList.add('colab-df-quickchart-complete');\n",
              "    }\n",
              "    (() => {\n",
              "      let quickchartButtonEl =\n",
              "        document.querySelector('#df-d29cd532-523b-4f69-81e8-5772a60743be button');\n",
              "      quickchartButtonEl.style.display =\n",
              "        google.colab.kernel.accessAllowed ? 'block' : 'none';\n",
              "    })();\n",
              "  </script>\n",
              "</div>\n",
              "\n",
              "    </div>\n",
              "  </div>\n"
            ]
          },
          "metadata": {},
          "execution_count": 64
        }
      ]
    },
    {
      "cell_type": "markdown",
      "source": [
        "Our demonstration in this notebook will stop here, but if you're interested in seeing more about what a full Bayesian posterior inference analysis looks like, have a look at the [getting started with `PyMC`](https://www.pymc.io/projects/docs/en/stable/learn/core_notebooks/pymc_overview.html) materials [here](https://www.pymc.io/projects/docs/en/stable/learn/core_notebooks/pymc_overview.html#posterior-analysis)\n",
        "\n",
        "You could also follow up on some further examination of the specification of the \"Eight Schools Model\" [here](https://www.pymc.io/projects/docs/en/stable/learn/core_notebooks/model_comparison.html) and can also return to the more detailed analysis [here](https://www.pymc.io/projects/examples/en/latest/diagnostics_and_criticism/Diagnosing_biased_Inference_with_Divergences.html#the-eight-schools-model).\n",
        "\n",
        "If you have a look at the \"Introductory Overview of PyMC\" notebook, you'll see \"Section Navigation\" with a link to [GLM: Linear regression](https://www.pymc.io/projects/docs/en/latest/learn/core_notebooks/GLM_linear.html). This might be a good place to look at first when you're starting your homework.  You will also likely find the [`PyMC` Example Gallery](https://www.pymc.io/projects/examples/en/latest/gallery.html) useful... especially the section titled [generalized linear models](https://www.pymc.io/projects/examples/en/latest/gallery.html#generalized-linear-models)...\n"
      ],
      "metadata": {
        "id": "r1YlfuovP2_p"
      }
    }
  ]
}