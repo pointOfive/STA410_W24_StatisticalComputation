{
 "cells": [
  {
   "cell_type": "markdown",
   "id": "a0e24d64",
   "metadata": {},
   "source": [
    "# STA410 Last Programming Assignment # 8 (2 points)\n",
    "\n",
    "0. **Paired or individual assignment.** Create code solutions for these assignments either individually or in the context of a paired effort. \n",
    "\n",
    "   >  Seek homework partners in class, in course discussion board on piazza, etc.   \n",
    " \n",
    "    \n",
    "1. **Paired students each separately submit their (common) work, including (agreeing) contribution of work statements for each problem.**  \n",
    "  \n",
    "   > Students must work in accordance with the [University of Toronto’s Code of Behaviour on Academic Matters](https://governingcouncil.utoronto.ca/secretariat/policies/code-behaviour-academic-matters-july-1-2019) (and see also http://academicintegrity.utoronto.ca.); however, students working in pairs may share work without restriction within their pair. Getting and sharing \"hints\" from other classmates is encouraged; but, the eventual code creation work and submission must be your own individual or paired creation.\n",
    "      \n",
    "2. **Do not delete, replace, or rearranged cells** as this erases `cell ids` upon which automated code tests are based.\n",
    "\n",
    "   > The \"Edit > Undo Delete Cells\" option in the notebook editor might be helpful; otherwise, redownload the notebook (so it has the correct required `cells ids`) and repopulate it with your answers (assuming you don't overwrite them when you redownload the notebook).\n",
    "  >> ***If you are working in any environment other than*** [UofT JupyterHub](https://jupyter.utoronto.ca/hub/user-redirect/git-pull?repo=https://github.com/pointOfive/sta410hw0&branch=master), [Google Colab](https://colab.research.google.com/github/pointOfive/sta410hw0/blob/master/sta410hw0.ipynb), or [UofT JupyterLab](https://jupyter.utoronto.ca/hub/user-redirect/git-pull?repo=https://github.com/pointOfive/sta410hw0&branch=master&urlpath=/lab/tree/sta410hw0), your system must meet the following versioning requirements \n",
    "   >>\n",
    "   >>   - [notebook format >=4.5](https://github.com/jupyterlab/jupyterlab/issues/9729) \n",
    "   >>   - jupyter [notebook](https://jupyter.org/install#jupyter-notebook) version [>=6.2](https://jupyter-notebook.readthedocs.io/en/stable/) for \"classic\" notebooks served by [jupyterhub](https://jupyterhub.readthedocs.io/en/stable/quickstart.html)\n",
    "   >>   - [jupyterlab](https://jupyter.org/install) version [>=3.0.13](https://github.com/jupyterlab/jupyterlab/releases/tag/v3.0.13) for \"jupyterlab\" notebooks  \n",
    "   >>    \n",
    "   >> otherwise `cell ids` mat not be supported and you will not get any credit for your submitted homework.\n",
    "   >>\n",
    "   >> You may check if `cell ids` are present and working by running the following command in a cell \n",
    "   >>\n",
    "   >> `! grep '\"id\":' <path/to/notebook>.ipynb`\n",
    "   >>\n",
    "   >> and making sure the `cell ids` **do not change** when you save your notebook.\n",
    "   \n",
    "3. ***You may add cells for scratch work*** but if required answers are not submitted through the provided cells where the answers are requested your answers may not be marked.\n",
    "\n",
    " \n",
    "4. **No cells may have any runtime errors** because this causes subsequent automated code tests to fail and you will not get marks for tests which fail because of previous runtime errors. \n",
    "\n",
    "  > Run time errors include, e.g., unassigned variables, mismatched parentheses, and any code which does not work when the notebook cells are sequentially run, even if it was provided for you as part of the starter code. ***It is best to restart and re-run the cells in your notebook to ensure there are no runtime errors before submitting your work.***\n",
    "  >\n",
    "  > - The `try`-`except` block syntax catches runtime errors and transforms them into `exceptions` which will not cause subsequent automated code tests to fail.  \n",
    "\n",
    "\n",
    "5. **No jupyter shortcut commands** such as `! python script.py 10` or `%%timeit` may be included in the final submission as they will cause subsequent automated code tests to fail.\n",
    "\n",
    "   > ***Comment out ALL jupyter shortcut commands***, e.g., `# ! python script.py 10` or `# %%timeit` in submitted notebooks.\n",
    "\n",
    "\n",
    "6. **Python library imports are limited** to only libraries imported in the starter code and the [standard python modules](https://docs.python.org/3/py-modindex.html). Importing additional libraries will cause subsequent automated code tests to fail.\n",
    "\n",
    "  > Unless a problem instructs differently, you may use any functions available from the libraries imported in the starter code; otherwise, you are expected to create your own Python functionality based on the Python stdlib (standard libary, i.e., base Python and standard Python modules).\n",
    "\n",
    "\n",
    "7. You are encouraged to adapt code you find available online into your notebook; however, if you do so please provide a link to the utilized resource. ***If failure to cite such references is identified and confirmed, your mark will be immediately reduced to 0.***  "
   ]
  },
  {
   "cell_type": "code",
   "execution_count": 1,
   "id": "06837861",
   "metadata": {
    "deletable": false,
    "editable": false
   },
   "outputs": [],
   "source": [
    "# Unless a problem instructs differently, you may use any functions available from the following library imports\n",
    "import numpy as np\n",
    "from scipy import stats\n",
    "import sklearn\n",
    "import statsmodels.api as sm\n",
    "from scipy.special import expit as invlogit\n",
    "import matplotlib.pyplot as plt"
   ]
  },
  {
   "cell_type": "markdown",
   "id": "a72c4f22",
   "metadata": {},
   "source": [
    "# Problem 0 (required)\n",
    "\n",
    "Are you working with a partner to complete this assignment?  \n",
    "- If not, assign  the value of `None` into the variable `Partner`.\n",
    "- If so, assign the name of the person you worked with into the variable `Partner`.\n",
    "    - Format the name as `\"<First Name> <Last Name>\"` as a `str` type, e.g., \"Scott Schwartz\"."
   ]
  },
  {
   "cell_type": "code",
   "execution_count": null,
   "id": "1e608b77",
   "metadata": {
    "deletable": false
   },
   "outputs": [],
   "source": [
    "# Required: only worth points when not completed, in which case, you'll lose points\n",
    "Partner = #None\n",
    "# This cell will produce a runtime error until you assign a value to this variable"
   ]
  },
  {
   "cell_type": "markdown",
   "id": "dcb02ffe",
   "metadata": {},
   "source": [
    "What was your contribution in completing the code for this assignments problems? Assign one of the following into each of the `Problem_X` variables below.\n",
    "\n",
    "- `\"I worked alone\"`\n",
    "- `\"I contributed more than my partner\"`\n",
    "- `\"My partner and I contributed equally\"`\n",
    "- `\"I contributed less than my partner\"`\n",
    "- `\"I did not contribute\"`"
   ]
  },
  {
   "cell_type": "code",
   "execution_count": null,
   "id": "5beae8e9",
   "metadata": {
    "deletable": false
   },
   "outputs": [],
   "source": [
    "# Required: only worth points when not completed, in which case, you'll lose points\n",
    "Problem_1 = #\"I worked alone\"\n",
    "# This cell will produce a runtime error until you assign a value to this variable"
   ]
  },
  {
   "cell_type": "markdown",
   "id": "e19ba05a",
   "metadata": {},
   "source": [
    "# Problem 1 (2 points)\n",
    "\n",
    "Define the function `logistic_regression_IRLS(X, y, beta0, k, method='solving')` which returns $\\beta^{(k)}$ of the ***iteratively reweighted least squares*** (IRLS) fit of the logistic regression model $\\displaystyle \\Pr(y_i=1) = \\frac{1}{1+\\exp(-z_i\\beta)}$ computed in one of three possible ways.\n",
    "\n",
    "### First with `solving`: \n",
    "\n",
    "1. $\\tilde y^{(t)} = \\underline{X\\beta^{(t)}}+ \\overset{(t)}{W}{}^{-1}(y- \\overset{(t)}{E[y]})$\n",
    "    - $\\overset{(t)}{E[y_i]}= \\frac{1}{1+\\exp(-z_i\\beta^{(t)})}$\n",
    "    - $\\overset{(t)}{W_{ij}} = 0 \\text{ for } i\\not=j \\text{ and } \\overset{(t)}{W_{ii}} = \\overset{(t)}{E[y_i]} \\left(1-\\overset{(t)}{E[y_i]} \\right)$\n",
    "\n",
    "\n",
    "2. $\\beta^{(t+1)} = \\left(X^T \\overset{(t)}{W}X\\right)^{-1} X^T\\overset{(t)}{W} \\tilde y^{(t)} \\quad \\underset{\\text{solved as}}{\\overset{\\text{efficiently}}{\\Longrightarrow}} \\quad \\left(X^T \\overset{(t)}{W}X\\right)\\beta^{(t+1)} = X^T\\overset{(t)}{W} \\tilde y^{(t)} \\quad \\longleftarrow \\quad \\text{ use $\\overset{(t)}{W}\\tilde y^{(t)} = \\overset{(t)}{W}\\underline{X\\beta^{(t)}}+(y- \\overset{(t)}{E[y]})$}$\n",
    "\n",
    "### Second with `irls`:\n",
    "\n",
    "Where $\\beta^{(t+1)}$ is the coefficients of the ***weighted least squares regression*** with ***design matrix*** $X$ for outcomes $\\tilde y^{(t)}$ and weights $\\overset{(t)}{W}$ (defined above for the previous iteration of the process).\n",
    "\n",
    "### Third with `fisher`:\n",
    "\n",
    "> This is equivalent to ***Newton's method*** in the case of ***logistic regression*** since the ***observed Fisher information*** and the ***Hessian*** are identical for ***logistic regression***.\n",
    "\n",
    "Rather than using the IRLS form exactly, instead use the standard form of ***Newton's method*** where the $\\beta^{(t+1)}$ update above is instead reformulated as \n",
    "\n",
    "\\begin{align*}\n",
    "\\beta^{(t+1)} & = {} \\underline{\\beta^{(t)}} + \\left(X^T \\overset{(t)}{W}X\\right)^{-1} X^T\\overset{(t)}{W} (\\tilde y^{(t)}-\\underline{X\\beta^{(t)}})\\\\\n",
    "& = {} \\underline{\\beta^{(t)}} + \\underbrace{\\left(X^T \\overset{(t)}{W}X\\right)^{-1} X^T (y- \\overset{(t)}{E[y]}) }_{\\text{use } \\texttt{np.linalg.solve} \\textbf{ not } \\text{matrix inversion}} \\quad \\longleftarrow \\quad A^{-1}b=x \\quad \\texttt{np.linalg.solve(A,b) }\\text{gives }\\texttt{x}\n",
    "\\end{align*}\n",
    "\n",
    "> The reasons for using the ***Newton's method*** version instead of the ***IRLS*** version of the update is to make the value of the next iteration $\\beta^{(t+1)}$ an addiive offset adjustment to the value of the previous iteration $\\beta^{(t)}$, which is often more numerically accurate than recreating the target value as a fresh computation; and, it also avoids an unnecessary multiplications with the $\\overset{(t)}{W}$ matrix.  \n",
    "\n",
    "\n",
    "*This problem is inspired by Subsection 2.2.1.1 **Iteratively Reweighted Least Squares** of Section 2.2.1 **Newton's Method and Fisher Scoring** in Chapter 2.2 **Multivariate Problems** of the Givens and Hoeting **Computational Statistics** textbook (pages 34-38).*"
   ]
  },
  {
   "cell_type": "code",
   "execution_count": 53,
   "id": "69c43989",
   "metadata": {
    "deletable": false
   },
   "outputs": [],
   "source": [
    "from scipy.special import expit as invlogit\n",
    "def logistic_regression_IRLS(X, y, beta0, k, method='solve'):\n",
    "    '''\n",
    "    Computes IRLS estimation of logistic regression\n",
    "    \n",
    "    X      : (np.array) n by p design matrix\n",
    "    y      : (np.array) n binary outcomes\n",
    "    beta0  : (np.array) p coefficients\n",
    "    k      : (int)      number of IRLS to beta0\n",
    "    method : (str)      either 'solve' or 'irls' or 'fisher'\n",
    "    \n",
    "    returns: (np.array) beta coefficients after k IRLS updates to beta0\n",
    "    '''\n",
    "\n",
    "    beta_t = np.zeros((X.shape[1],k+1))\n",
    "    beta_t[:,0] = beta0\n",
    "    \n",
    "    for t in range(1,k+1):\n",
    "        \n",
    "        pass #<complete>\n",
    "        if method =='solve':\n",
    "            pass #<complete>\n",
    "\n",
    "        if method =='irls':\n",
    "            pass #<complete>\n",
    "\n",
    "        if method =='fisher':\n",
    "            pass #<complete>\n",
    "        \n",
    "    return beta_t[:,-1]"
   ]
  },
  {
   "cell_type": "code",
   "execution_count": null,
   "id": "11a5fafc",
   "metadata": {},
   "outputs": [],
   "source": [
    "# Cell for scratch work\n",
    "\n",
    "# You are welcome to add as many new cells into this notebook as you would like.\n",
    "# Just do not leave in a state that will produce a runtime errors when notebook cells are run sequentially.\n",
    "\n",
    "# Any cells included for scratch work that are no longer needed may be deleted so long as \n",
    "# - all the required functions are still defined and available when called\n",
    "# - no cells requiring variable assignments are deleted.\n",
    "\n",
    "# None of this will not cause problems with `cell ids` assuming your versioning supports `cell ids`\n",
    "# (as UofT JupyterHub, UofT JupyterLab, an Google Colab will).\n"
   ]
  },
  {
   "cell_type": "code",
   "execution_count": null,
   "id": "5be4edc5",
   "metadata": {},
   "outputs": [],
   "source": [
    "# Cell for scratch work\n"
   ]
  },
  {
   "cell_type": "markdown",
   "id": "35b6411a",
   "metadata": {},
   "source": [
    "## Hints\n",
    "\n",
    "- This algorithm is specified in the course notes <!-- and is also discussed in Keith Knight's STA410 [notes13.pdf document](https://q.utoronto.ca/courses/296804/files?preview=25407719) and [logistic.pdf document](https://q.utoronto.ca/courses/296804/files?preview=25407763).-->\n",
    "\n",
    "\n",
    "- **Initial values matter**: start with zeros so $E[y_i] = p = 0.5$\n",
    "\n",
    "\n",
    "- Use, e.g., `y.reshape(n,1)` or `y[:,np.newaxis]` as needed for linear algebra multiplication specifications\n",
    "\n",
    "\n",
    "- For `W.shape = (n,1)` the `X.T.np.diag(W)` computation is the same as `(X*W).T` based on `numpy` broadcasting\n",
    "\n",
    "\n",
    "- Your algorithm can be checked against\n",
    "\n",
    "    - `statsmodels`\n",
    "    \n",
    "        ```python\n",
    "        # https://www.geeksforgeeks.org/logistic-regression-using-statsmodels/\n",
    "        import statsmodels.api as sm\n",
    "        log_reg = sm.Logit(y[:,np.newaxis], X).fit()\n",
    "        log_reg.summary()\n",
    "        ```\n",
    "\n",
    "    - `scikit-learn`\n",
    "    \n",
    "        ```python\n",
    "        # https://scikit-learn.org/stable/modules/generated/sklearn.linear_model.LogisticRegression.html\n",
    "        # https://stats.stackexchange.com/questions/203740/logistic-regression-scikit-learn-vs-statsmodels\n",
    "        from sklearn.linear_model import LogisticRegression\n",
    "        logreg = LogisticRegression(penalty='none', fit_intercept=False)\n",
    "        logreg.fit(X, y)\n",
    "        logreg.coef_\n",
    "        ```"
   ]
  },
  {
   "cell_type": "markdown",
   "id": "e898f975",
   "metadata": {},
   "source": [
    "## Problem 1 Questions 0-4 (1 point)\n",
    "\n",
    "Your function will be tested against data of the form\n",
    "\n",
    "```python \n",
    "from scipy.special import expit as invlogit\n",
    "np.random.seed(seed)\n",
    "X = np.random.normal(mu, sd, (n,p))\n",
    "X[:,0] = 1\n",
    "beta_mean,beta_sd = 0,1\n",
    "beta = np.random.normal(beta_mean, beta_sd, p)\n",
    "y = (np.random.uniform(size=n)<invlogit(X.dot(beta))).astype(int)\n",
    "```\n",
    "\n",
    "- You do not need to make any variable assignments: your function will be called based on the parameterization specified in the problem prompt."
   ]
  },
  {
   "cell_type": "markdown",
   "id": "7a4717a6",
   "metadata": {},
   "source": [
    "## Problem 1 Questions 5-9 (1 point)\n",
    "\n",
    "5. (0.2 points) Which of the following most directly indicates that the updated iteration is the solution to a ***weighted least squares linear regression*** problem? \n",
    "\n",
    "    - (A) $\\tilde y^{(t)} = \\underline{X\\beta^{(t)}}+ \\overset{(t)}{W}{}^{-1}(y- \\overset{(t)}{E[y]})$\n",
    "    - (B) $\\beta^{(t+1)} = \\left(X^T \\overset{(t)}{W}X\\right)^{-1} X^T\\overset{(t)}{W} \\tilde y^{(t)}$\n",
    "    - (C) $\\beta^{(t+1)} = \\underline{\\beta^{(t)}} + \\left(X^T \\overset{(t)}{W}X\\right)^{-1} X^T\\overset{(t)}{W} (\\tilde y^{(t)}-\\underline{X\\beta^{(t)}})$\n",
    "    - (D) $\\beta^{(t+1)} = \\beta^{(t)} + \\left(X^T \\overset{(t)}{W}X\\right)^{-1} X^T (y- \\overset{(t)}{E[y]})$\n",
    "\n",
    "\n",
    "6. (0.2 points) Which of the following is the ***Hessian*** of the ***logistic regression likelihood***?\n",
    "\n",
    "    - (A) $\\overset{(t)}{W}{}^{-1}$\n",
    "    - (B) $X^T\\overset{(t)}{W}$\n",
    "    - (C) $X^T \\overset{(t)}{W}X$\n",
    "    - (D) $\\left(X^T \\overset{(t)}{W}X\\right)^{-1}$ \n",
    "\n",
    "\n",
    "7. (0.2 points) Which of the following is the ***gradient*** of the ***logistic regression likelihood***?\n",
    "\n",
    "    - (A) $(y- \\overset{(t)}{E[y]})$\n",
    "    - (B) $\\overset{(t)}{W}{}^{-1}(y- \\overset{(t)}{E[y]})$\n",
    "    - (C) $X^T (y- \\overset{(t)}{E[y]})$\n",
    "    - (D) $X^T (\\tilde y^{(t)}-X\\beta^{(t)})$\n",
    "\n",
    "    \n",
    "8. (0.2 points) Which of the following is the most directly efficient computation of ***Newton's method***?\n",
    "\n",
    "    - (A) $\\tilde y^{(t)} = \\underline{X\\beta^{(t)}}+ \\overset{(t)}{W}{}^{-1}(y- \\overset{(t)}{E[y]})$\n",
    "    - (B) $\\beta^{(t+1)} = \\left(X^T \\overset{(t)}{W}X\\right)^{-1} X^T\\overset{(t)}{W} \\tilde y^{(t)}$\n",
    "    - (C) $\\beta^{(t+1)} = \\underline{\\beta^{(t)}} + \\left(X^T \\overset{(t)}{W}X\\right)^{-1} X^T\\overset{(t)}{W} (\\tilde y^{(t)}-\\underline{X\\beta^{(t)}})$\n",
    "    - (D) $\\beta^{(t+1)} = \\beta^{(t)} + \\left(X^T \\overset{(t)}{W}X\\right)^{-1} X^T (y- \\overset{(t)}{E[y]})$\n",
    "    \n",
    "\n",
    "9. (0.2 points) What is the fundamental technical difference between ***Newton's method*** and ***Fisher scoring***? \n",
    "\n",
    "    - (A) They produce numerically different answers\n",
    "    - (B) Potential differences between the negative ***Hessian*** and ***Fisher information***\n",
    "    - (C) ***Newton's method*** solves IRLS through iterative update while ***Fisher scoring*** solves it as a ***weighted least squares regression problem***\n",
    "    - (D) Nothing since they are equivalent as demonstrated here\n",
    "\n",
    "    "
   ]
  },
  {
   "cell_type": "code",
   "execution_count": null,
   "id": "a3adfdf7",
   "metadata": {
    "deletable": false
   },
   "outputs": [],
   "source": [
    "# 0.5 points each [format: `str` either \"A\" or \"B\" or \"C\" or \"D\" based on the choices above]\n",
    "p1q5 = #<\"A\"|\"B\"|\"C\"|\"D\"> \n",
    "p1q6 = #<\"A\"|\"B\"|\"C\"|\"D\"> \n",
    "p1q7 = #<\"A\"|\"B\"|\"C\"|\"D\"> \n",
    "p1q8 = #<\"A\"|\"B\"|\"C\"|\"D\"> \n",
    "p1q9 = #<\"A\"|\"B\"|\"C\"|\"D\"> \n",
    "# Uncomment the above and keep each only either \"A\" or \"B\" or \"C\" or \"D\"\n",
    "\n",
    "# This cell will produce a runtime error until the `p1q2`-`p1q6` variables are assigned values"
   ]
  },
  {
   "cell_type": "code",
   "execution_count": null,
   "id": "9efd963c",
   "metadata": {},
   "outputs": [],
   "source": []
  }
 ],
 "metadata": {
  "celltoolbar": "Edit Metadata",
  "kernelspec": {
   "display_name": "Python 3 (ipykernel)",
   "language": "python",
   "name": "python3"
  },
  "language_info": {
   "codemirror_mode": {
    "name": "ipython",
    "version": 3
   },
   "file_extension": ".py",
   "mimetype": "text/x-python",
   "name": "python",
   "nbconvert_exporter": "python",
   "pygments_lexer": "ipython3",
   "version": "3.11.4"
  }
 },
 "nbformat": 4,
 "nbformat_minor": 5
}
